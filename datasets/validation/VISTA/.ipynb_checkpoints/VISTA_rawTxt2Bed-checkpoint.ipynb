{
 "cells": [
  {
   "cell_type": "code",
   "execution_count": 1,
   "metadata": {},
   "outputs": [
    {
     "name": "stdout",
     "output_type": "stream",
     "text": [
      "[['chr1', '52136377', '52136981 ', 'negative'], ['chr15', '52166424', '52166999 ', 'negative'], ['chr12', '112380949', '112381824 ', 'positive;neural_tube[4/4];hindbrain_(rhombencephalon)[4/4];forebrain[4/4]'], ['chr3', '137446183', '137449401 ', 'positive;heart[3/4]'], ['chr13', '106327355', '106329352 ', 'positive;forebrain[6/8]']]\n"
     ]
    }
   ],
   "source": [
    "import csv\n",
    "\n",
    "specie = \"Mouse\" #specify specie\n",
    "VISTA_raw = open('VISTA_mm9_raw.txt', 'r') #open file\n",
    "lines = VISTA_raw.readlines() \n",
    "\n",
    "#collect wanted lines\n",
    "VISTA_wanted_lines = []\n",
    "for line in lines: \n",
    "    #filter for lines with specie and coordinates\n",
    "    if specie in line:\n",
    "        line_stripped = line.strip() #remove newline\n",
    "        line_split = line_stripped.split(\"|\")[1:] #remove \">Mouse\"\n",
    "        chrom = line_split[0].split(\":\")[0]\n",
    "        coord = line_split[0].split(\":\")[1]\n",
    "        start = coord.split(\"-\")[0]\n",
    "        end = coord.split(\"-\")[1]\n",
    "        bed = [chrom, start, end]\n",
    "        feature = []\n",
    "        for i in line_split[2:]:\n",
    "            feature.append(i.strip())\n",
    "        bed.append(\";\".join(feature).replace(\" \", \"_\"))\n",
    "        VISTA_wanted_lines.append(bed)\n",
    "\n",
    "print(VISTA_wanted_lines[:5])\n",
    "with open('VISTA_mm9.bed', 'w') as f_output:\n",
    "    tsv_output = csv.writer(f_output, delimiter='\\t')\n",
    "    for line in VISTA_wanted_lines:\n",
    "        tsv_output.writerow(line)"
   ]
  },
  {
   "cell_type": "code",
   "execution_count": 2,
   "metadata": {},
   "outputs": [
    {
     "name": "stdout",
     "output_type": "stream",
     "text": [
      "[['chr16', '86430087', '86430726 ', 'positive;neural_tube[12/12];hindbrain_(rhombencephalon)[12/12];limb[3/12];cranial_nerve[8/12]'], ['chr16', '85620095', '85621736 ', 'negative'], ['chr16', '80423343', '80424652 ', 'negative'], ['chr16', '80372593', '80373755 ', 'positive;neural_tube[6/10];hindbrain_(rhombencephalon)[10/10];midbrain_(mesencephalon)[10/10]'], ['chr16', '79969907', '79971297 ', 'negative']]\n"
     ]
    }
   ],
   "source": [
    "specie = \"Human\" #specify specie\n",
    "VISTA_raw = open('VISTA_hg19_raw.txt', 'r') #open file\n",
    "lines = VISTA_raw.readlines() \n",
    "\n",
    "#collect wanted lines\n",
    "VISTA_wanted_lines = []\n",
    "for line in lines:\n",
    "    #filter for lines with specie and coordinates\n",
    "    if specie in line:\n",
    "        line_stripped = line.strip() #remove newline\n",
    "        line_split = line_stripped.split(\"|\")[1:] #remove \">Mouse\"\n",
    "        chrom = line_split[0].split(\":\")[0]\n",
    "        coord = line_split[0].split(\":\")[1]\n",
    "        start = coord.split(\"-\")[0]\n",
    "        end = coord.split(\"-\")[1]\n",
    "        bed = [chrom, start, end]\n",
    "        feature = []\n",
    "        for i in line_split[2:]:\n",
    "            feature.append(i.strip())\n",
    "        bed.append(\";\".join(feature).replace(\" \", \"_\"))\n",
    "        VISTA_wanted_lines.append(bed)\n",
    "\n",
    "print(VISTA_wanted_lines[:5])\n",
    "with open('VISTA_hg19.bed', 'w') as f_output:\n",
    "    tsv_output = csv.writer(f_output, delimiter='\\t')\n",
    "    for line in VISTA_wanted_lines:\n",
    "        tsv_output.writerow(line)"
   ]
  },
  {
   "cell_type": "code",
   "execution_count": null,
   "metadata": {},
   "outputs": [],
   "source": []
  }
 ],
 "metadata": {
  "kernelspec": {
   "display_name": "Python 3",
   "language": "python",
   "name": "python3"
  },
  "language_info": {
   "codemirror_mode": {
    "name": "ipython",
    "version": 3
   },
   "file_extension": ".py",
   "mimetype": "text/x-python",
   "name": "python",
   "nbconvert_exporter": "python",
   "pygments_lexer": "ipython3",
   "version": "3.6.5"
  }
 },
 "nbformat": 4,
 "nbformat_minor": 2
}
