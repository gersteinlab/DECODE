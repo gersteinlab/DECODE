{
 "cells": [
  {
   "cell_type": "code",
   "execution_count": 3,
   "metadata": {},
   "outputs": [],
   "source": [
    "#-----import packages-----#\n",
    "\n",
    "#common python packages\n",
    "import numpy as np\n",
    "import pickle\n",
    "import argparse\n",
    "import os\n",
    "\n",
    "#biological packages\n",
    "import pybedtools\n",
    "from pybedtools import featurefuncs\n",
    "import pyBigWig\n",
    "\n",
    "#machine learning packages\n",
    "import sklearn\n",
    "from sklearn import metrics\n",
    "from matplotlib import pyplot as plt\n",
    "import pandas as pd"
   ]
  },
  {
   "cell_type": "code",
   "execution_count": 4,
   "metadata": {},
   "outputs": [
    {
     "name": "stdout",
     "output_type": "stream",
     "text": [
      "all files found!\n"
     ]
    }
   ],
   "source": [
    "#parsing command line arguments\n",
    "# -----parsing command line arguments-----#\n",
    "parser = argparse.ArgumentParser(description='Training CNN model to predict STARR-seq enhancers based on chromatin accessbility and histone marks')\n",
    "parser.add_argument('-c', '--cell_types', type=str, help='comma separated string of cell_types')\n",
    "parser.add_argument('-i', '--in_dir', type=str, help='directory containing 01_data_encoding intermediate tsv files')\n",
    "\n",
    "#simulate command line input\n",
    "cmdline_str='-c ' + \" HepG2,K562 \" + \\\n",
    "    ' -i ' + \"/gpfs/ysm/scratch60/gerstein/zc264/ChromVar/enhancer-prediction/encode/dev/encoded_2overlap/ATAC/\"\n",
    "\n",
    "seq_names = [\"ATAC\", \"H3K27ac\", \"H3K4me3\", \"H3K9ac\", \"H3K4me1\"]\n",
    "\n",
    "#check if the files are there\n",
    "args = parser.parse_args(cmdline_str.split())\n",
    "args.cell_types = args.cell_types.split(\",\")\n",
    "for cell in args.cell_types:\n",
    "    for seq in seq_names:\n",
    "        pos_file = args.in_dir + cell + \".\" + seq + \".pos.tsv\"\n",
    "        if not os.path.exists(pos_file):\n",
    "            print(pos_file + \" file does not exist\")\n",
    "            exit(1)\n",
    "        neg_file = args.in_dir + cell + \".\" + seq + \".neg.tsv\"\n",
    "        if not os.path.exists(neg_file):\n",
    "            print(neg_file + \" file does not exist\")\n",
    "            exit(1)\n",
    "print(\"all files found!\")"
   ]
  },
  {
   "cell_type": "markdown",
   "metadata": {},
   "source": [
    "<h6> hg38 Data Preprocessing </h6>"
   ]
  },
  {
   "cell_type": "code",
   "execution_count": 5,
   "metadata": {},
   "outputs": [
    {
     "name": "stdout",
     "output_type": "stream",
     "text": [
      "HepG2\n",
      "-ATAC\n",
      "-H3K27ac\n",
      "-H3K4me3\n",
      "-H3K9ac\n",
      "-H3K4me1\n",
      "K562\n",
      "-ATAC\n",
      "-H3K27ac\n",
      "-H3K4me3\n",
      "-H3K9ac\n",
      "-H3K4me1\n",
      "(158147, 5, 400)\n",
      "(158147, 1)\n",
      "HepG2\n",
      "-ATAC\n",
      "-H3K27ac\n",
      "-H3K4me3\n",
      "-H3K9ac\n",
      "-H3K4me1\n",
      "K562\n",
      "-ATAC\n",
      "-H3K27ac\n",
      "-H3K4me3\n",
      "-H3K9ac\n",
      "-H3K4me1\n",
      "(414282, 5, 400)\n",
      "(414282, 1)\n",
      "HepG2\n",
      "-ATAC\n",
      "-H3K27ac\n",
      "-H3K4me3\n",
      "-H3K9ac\n",
      "-H3K4me1\n",
      "K562\n",
      "-ATAC\n",
      "-H3K27ac\n",
      "-H3K4me3\n",
      "-H3K9ac\n",
      "-H3K4me1\n",
      "(243388, 5, 400)\n",
      "(243388, 1)\n"
     ]
    }
   ],
   "source": [
    "def get_data(cell_types, in_dir, seq_names):\n",
    "\n",
    "    first_cell = True\n",
    "    for cell in cell_types:\n",
    "        print(cell)\n",
    "\n",
    "        pos = []\n",
    "        neg = []\n",
    "        first_seq = True\n",
    "        for seq in seq_names:\n",
    "            print(\"-\"+seq)\n",
    "\n",
    "            pos_name = in_dir+cell+\".\"+seq+\".pos.tsv\"\n",
    "            pos_mat = np.loadtxt(pos_name, delimiter='\\t')\n",
    "\n",
    "            neg_name = in_dir+cell+\".\"+seq+\".neg.tsv\"\n",
    "            neg_mat = np.loadtxt(neg_name, delimiter='\\t')\n",
    "\n",
    "            if first_seq:\n",
    "                for i in pos_mat:\n",
    "                    pos.append(np.array([i]))\n",
    "                for i in neg_mat:\n",
    "                    neg.append(np.array([i]))\n",
    "                first_seq = False\n",
    "            else:\n",
    "                for i in range(len(pos)):\n",
    "                    pos[i] = np.vstack((pos[i], pos_mat[i,]))\n",
    "                for i in range(len(neg)):\n",
    "                    neg[i] = np.vstack((neg[i], neg_mat[i,]))\n",
    "\n",
    "        if first_cell == True:\n",
    "            X_pos = np.array(pos)\n",
    "            X_neg = np.array(neg)\n",
    "            first_cell = False\n",
    "        else:\n",
    "            X_pos = np.vstack((X_pos, pos))\n",
    "            X_neg = np.vstack((X_neg, neg))\n",
    "\n",
    "    X = np.vstack((X_pos, X_neg))\n",
    "    y = np.array([1 for i in range(X_pos.shape[0])] + [0 for i in range(X_neg.shape[0])]).reshape(-1,1)\n",
    "    print(X.shape)\n",
    "    print(y.shape)\n",
    "    \n",
    "    return X, y\n",
    "\n",
    "for in_dir in [args.in_dir, args.in_dir.replace(\"2overlap\", \"1overlap\"), args.in_dir.replace(\"2overlap\", \"0overlap\")]:\n",
    "    X, y = get_data(args.cell_types, in_dir, seq_names)\n",
    "    with open(in_dir + \"hg38_signals.pickle\", 'wb') as f:\n",
    "        pickle.dump((X,y), f, protocol=4)\n",
    "        \n",
    "window_size = int(X.shape[2] * 10)"
   ]
  },
  {
   "cell_type": "markdown",
   "metadata": {},
   "source": [
    "<h6> mm10 Data Preprocessing </h6>"
   ]
  },
  {
   "cell_type": "code",
   "execution_count": 33,
   "metadata": {},
   "outputs": [
    {
     "name": "stdout",
     "output_type": "stream",
     "text": [
      "chr1\t13003151\t13007152\tnegative\t0\t.\t13003747\t13006556\t0,0,255\tnegative\n",
      " chr1\t31101021\t31105022\tnegative\t0\t.\t31101599\t31104444\t0,0,255\tnegative\n",
      " chr1\t38197302\t38201303\tnegative\t0\t.\t38196744\t38201861\t0,0,255\tnegative\n",
      " chr1\t39946111\t39950112\tforebrain [7/9], cranial nerve [7/9], dorsal root ganglion [7/9]\t1\t.\t39945533\t39950689\t255,0,0\tforebrain [7/9], cranial nerve [7/9], dorsal root ganglion [7/9]\n",
      " chr1\t68778680\t68782681\tnegative\t0\t.\t68779329\t68782031\t0,0,255\tnegative\n",
      " chr1\t75287729\t75291730\tforebrain [5/12]\t1\t.\t75288287\t75291172\t255,0,0\tforebrain [5/12]\n",
      " chr1\t75405463\t75409464\tnegative\t0\t.\t75405116\t75409810\t0,0,255\tnegative\n",
      " chr1\t97538619\t97542620\tforebrain [3/4], midbrain [3/4], hindbrain [3/4], neural tube [3/4]\t1\t.\t97538497\t97542741\t255,0,0\tforebrain [3/4], midbrain [3/4], hindbrain [3/4], neural tube [3/4]\n",
      " chr1\t127754934\t127758935\tnegative\t0\t.\t127754802\t127759066\t0,0,255\tnegative\n",
      " chr1\t158264756\t158268757\tmidbrain [3/4], hindbrain [3/4], neck [3/4]\t1\t.\t158265467\t158268046\t255,0,0\tmidbrain [3/4], hindbrain [3/4], neck [3/4]\n",
      " None\n",
      "102\n"
     ]
    }
   ],
   "source": [
    "# --- ENCODE mm10 validation #1 ---#\n",
    "def rename_tissue(feature):\n",
    "    feature.name = feature[9]\n",
    "    return feature\n",
    "\n",
    "val_file1 = \"/gpfs/ysm/scratch60/gerstein/zc264/ChromVar/enhancer-prediction/encode/datasets/validation/ENCODE/ENCFF095OCG.bed\"\n",
    "val_region1 = pybedtools.BedTool(val_file1).each(pybedtools.featurefuncs.midpoint).each(rename_tissue)\n",
    "val_region1 = val_region1.slop(b=window_size/2, genome=\"mm10\")\n",
    "val_region1 = val_region1.filter(pybedtools.featurefuncs.greater_than, window_size-1)\n",
    "val_region1 = val_region1.sort()\n",
    "print(val_region1.head())\n",
    "print(val_region1.count())"
   ]
  },
  {
   "cell_type": "code",
   "execution_count": 34,
   "metadata": {},
   "outputs": [
    {
     "name": "stdout",
     "output_type": "stream",
     "text": [
      "chr1\t133742910\t133746911\tnegative\t0\t.\t133744226\t133745595\t255,0,0\tnegative\n",
      " chr1\t182109007\t182113008\tbranchial_arch[4/5]\t1\t.\t182109962\t182112053\t0,0,255\tbranchial_arch[4/5]\n",
      " chr1\t190059833\t190063834\theart[8/11]\t1\t.\t190061318\t190062349\t0,0,255\theart[8/11]\n",
      " chr10\t42249592\t42253593\tnegative\t0\t.\t42250903\t42252281\t255,0,0\tnegative\n",
      " chr10\t58381197\t58385198\tnegative\t0\t.\t58382774\t58383620\t255,0,0\tnegative\n",
      " chr11\t88466068\t88470069\tnegative\t0\t.\t88467416\t88468720\t255,0,0\tnegative\n",
      " chr11\t113731693\t113735694\tnegative\t0\t.\t113733041\t113734346\t255,0,0\tnegative\n",
      " chr12\t8384538\t8388539\theart[10/10]<br>ear[7/10]<br>other[5/10]\t1\t.\t8385674\t8387403\t0,0,255\theart[10/10]<br>ear[7/10]<br>other[5/10]\n",
      " chr13\t3724709\t3728710\tnegative\t0\t.\t3726203\t3727215\t255,0,0\tnegative\n",
      " chr13\t46883320\t46887321\tnegative\t0\t.\t46884783\t46885858\t255,0,0\tnegative\n",
      " None\n",
      "31\n"
     ]
    }
   ],
   "source": [
    "# --- ENCODE hg19 homologs -> mm10 validation #2 --- #\n",
    "val_file2 = \"/gpfs/ysm/scratch60/gerstein/zc264/ChromVar/enhancer-prediction/encode/datasets/validation/ENCODE/ENCFF915YMM.mm10.lifted.bed\"\n",
    "val_region2 = pybedtools.BedTool(val_file2).each(pybedtools.featurefuncs.midpoint).each(rename_tissue)\n",
    "val_region2 = val_region2.slop(b=window_size/2, genome=\"mm10\")\n",
    "val_region2 = val_region2.filter(pybedtools.featurefuncs.greater_than, window_size-1)\n",
    "val_region2 = val_region2.sort()\n",
    "print(val_region2.head())\n",
    "print(val_region2.count())"
   ]
  },
  {
   "cell_type": "code",
   "execution_count": 35,
   "metadata": {},
   "outputs": [
    {
     "name": "stdout",
     "output_type": "stream",
     "text": [
      "chr1\t5020950\t5024951\tnegative\n",
      " chr1\t9647594\t9651595\tpositive;neural_tube[5/8];hindbrain_(rhombencephalon)[7/8];midbrain_(mesencephalon)[6/8];dorsal_root_ganglion[4/8];trigeminal_V_(ganglion,_cranial)[6/8];cranial_nerve[5/8]\n",
      " chr1\t11025292\t11029293\tnegative\n",
      " chr1\t12498493\t12502494\tnegative\n",
      " chr1\t12508534\t12512535\tpositive;midbrain_(mesencephalon)[4/8];forebrain[5/8];nose[6/8]\n",
      " chr1\t12614067\t12618068\tnegative\n",
      " chr1\t13003151\t13007152\tnegative\n",
      " chr1\t19765625\t19769626\tnegative\n",
      " chr1\t31101021\t31105022\tnegative\n",
      " chr1\t33988988\t33992989\tnegative\n",
      " None\n",
      "1208\n"
     ]
    }
   ],
   "source": [
    "# --- VISTA mm9 -> mm10 validation ---#\n",
    "val_file3 = \"/gpfs/ysm/scratch60/gerstein/zc264/ChromVar/enhancer-prediction/encode/datasets/validation/VISTA/VISTA_mm9.mm10.lifted.bed\"\n",
    "val_region3 = pybedtools.BedTool(val_file3).each(pybedtools.featurefuncs.midpoint)#.each(rename_tissue)\n",
    "val_region3 = val_region3.slop(b=window_size/2, genome=\"mm10\")\n",
    "val_region3 = val_region3.filter(pybedtools.featurefuncs.greater_than, window_size-1)\n",
    "val_region3 = val_region3.sort()\n",
    "print(val_region3.head())\n",
    "print(val_region3.count())"
   ]
  },
  {
   "cell_type": "code",
   "execution_count": 37,
   "metadata": {},
   "outputs": [
    {
     "name": "stdout",
     "output_type": "stream",
     "text": [
      "chr1\t6727774\t6731775\tpositive;neural_tube[7/9];hindbrain_(rhombencephalon)[7/9];midbrain_(mesencephalon)[7/9];dorsal_root_ganglion[7/9];forebrain[7/9];trigeminal_V_(ganglion,_cranial)[6/9]\n",
      " chr1\t18387523\t18391524\tnegative\n",
      " chr1\t18954393\t18958394\tnegative\n",
      " chr1\t19105223\t19109224\tpositive;hindbrain_(rhombencephalon)[3/6];midbrain_(mesencephalon)[6/6]\n",
      " chr1\t19556394\t19560395\tnegative\n",
      " chr1\t19697994\t19701995\tpositive;hindbrain_(rhombencephalon)[14/20];midbrain_(mesencephalon)[11/20]\n",
      " chr1\t20104953\t20108954\tnegative\n",
      " chr1\t20919296\t20923297\tpositive;hindbrain_(rhombencephalon)[5/8];midbrain_(mesencephalon)[5/8]\n",
      " chr1\t39441235\t39445236\tpositive;heart[5/9]\n",
      " chr1\t40941537\t40945538\tpositive;heart[4/6]\n",
      " None\n",
      "1903\n"
     ]
    }
   ],
   "source": [
    "# --- VISTA hg19 homologs -> mm10 validation ---#\n",
    "val_file4 = \"/gpfs/ysm/scratch60/gerstein/zc264/ChromVar/enhancer-prediction/encode/datasets/validation/VISTA/VISTA_hg19.mm10.lifted.bed\"\n",
    "val_region4 = pybedtools.BedTool(val_file4).each(pybedtools.featurefuncs.midpoint)#.each(rename_tissue)\n",
    "val_region4 = val_region4.slop(b=window_size/2, genome=\"mm10\")\n",
    "val_region4 = val_region4.filter(pybedtools.featurefuncs.greater_than, window_size-1)\n",
    "val_region4 = val_region4.sort()\n",
    "print(val_region4.head())\n",
    "print(val_region4.count())"
   ]
  },
  {
   "cell_type": "code",
   "execution_count": 38,
   "metadata": {},
   "outputs": [
    {
     "data": {
      "text/plain": [
       "3244"
      ]
     },
     "execution_count": 38,
     "metadata": {},
     "output_type": "execute_result"
    }
   ],
   "source": [
    "# --- merge validation regions from all three sources --- #\n",
    "validation_regions = val_region1.cat(val_region2, postmerge=False).cat(val_region3, postmerge=False).cat(val_region4, postmerge=False)\n",
    "validation_regions.saveas(\"./mm10/mm10.validation_regions.bed\")\n",
    "validation_regions.count()"
   ]
  },
  {
   "cell_type": "code",
   "execution_count": 39,
   "metadata": {},
   "outputs": [],
   "source": [
    "# ---- constant & function declarations ---- #\n",
    "def tissue_pos(feature, tissue):\n",
    "    if (tissue in feature.name) or (tissue.replace(\" \", \"_\") in feature.name):\n",
    "        return True\n",
    "    else:\n",
    "        return False\n",
    "\n",
    "def tissue_neg1(feature, tissue):\n",
    "    if (tissue in feature.name) or (tissue.replace(\" \", \"_\") in feature.name):\n",
    "        return False\n",
    "    else:\n",
    "        return True\n",
    "    \n",
    "def tissue_neg2(feature, tissue):\n",
    "    if \"negative\" in feature.name:\n",
    "        return True\n",
    "    else:\n",
    "        return False\n",
    "    \n",
    "def bigWigAverageOverBed(x, bigwig):\n",
    "    return bigwig.stats(x.chrom, x.start, x.stop, nBins=int(window_size/10))\n",
    "\n",
    "def get_signal(region, bigwig):\n",
    "    return [bigWigAverageOverBed(x, bigwig) for x in region]\n",
    "\n",
    "samples = [\"forebrain\", \"heart\", \"hindbrain\", \"limb\", \"midbrain\", \"neural tube\"]\n",
    "seq_names = [\"ATAC-seq\", \"ChIP-seq.H3K27ac\", \"ChIP-seq.H3K4me3\", \"ChIP-seq.H3K9ac\", \"ChIP-seq.H3K4me1\"]\n",
    "sample_dir = \"/gpfs/ysm/scratch60/gerstein/zc264/ChromVar/enhancer-prediction/encode/datasets/validation/bigWig/\"\n",
    "file_samples = [\"forebrain\", \"heart\", \"hindbrain\", \"limb\", \"midbrain\", \"neural_tube\"]"
   ]
  },
  {
   "cell_type": "code",
   "execution_count": 40,
   "metadata": {},
   "outputs": [],
   "source": [
    "# ---- file organizations ---- #\n",
    "peak_set = []\n",
    "track_set = []\n",
    "for sam in file_samples:\n",
    "    all_seq_peak = []\n",
    "    all_seq_track = []\n",
    "    for seq in seq_names:\n",
    "        all_seq_peak.append(sample_dir + sam + \".\"+ seq + \".narrowPeak\")\n",
    "        all_seq_track.append(sample_dir + sam + \".\"+ seq + \".bigWig\")\n",
    "    peak_set.append(all_seq_peak)\n",
    "    track_set.append(all_seq_track)"
   ]
  },
  {
   "cell_type": "code",
   "execution_count": 41,
   "metadata": {
    "scrolled": true
   },
   "outputs": [
    {
     "name": "stdout",
     "output_type": "stream",
     "text": [
      "forebrain 524 2720\n"
     ]
    },
    {
     "name": "stderr",
     "output_type": "stream",
     "text": [
      "/gpfs/ysm/project/zc264/conda_envs/old_keras_gpu/lib/python3.6/site-packages/ipykernel_launcher.py:29: DeprecationWarning: Both axis > a.ndim and axis < -a.ndim - 1 are deprecated and will raise an AxisError in the future.\n"
     ]
    },
    {
     "name": "stdout",
     "output_type": "stream",
     "text": [
      "heart 315 2929\n",
      "hindbrain 412 2832\n",
      "limb 348 2896\n",
      "midbrain 454 2790\n",
      "neural tube 284 2960\n"
     ]
    }
   ],
   "source": [
    "# ---- all cell-specific positive & negative signal extraction ---- #\n",
    "\n",
    "X = []\n",
    "Y = []\n",
    "for i in range(len(samples)):\n",
    "    \n",
    "    #organized per track for all samples\n",
    "    signal_X = []\n",
    "    signal_Y = []\n",
    "    for track in track_set[i]:        \n",
    "        pos_bed = pybedtools.BedTool(\"./mm10/mm10.validation_regions.bed\").filter(tissue_pos, samples[i])\n",
    "        neg_bed = pybedtools.BedTool(\"./mm10/mm10.validation_regions.bed\").filter(tissue_neg1, samples[i])\n",
    "        pos = get_signal(pos_bed, pyBigWig.open(track))\n",
    "        neg = get_signal(neg_bed, pyBigWig.open(track))\n",
    "        x_combined = pos + neg\n",
    "        signal_X.append(x_combined)\n",
    "    print(samples[i], len(pos), len(neg))\n",
    "\n",
    "    #reorganize per sample for all tracks\n",
    "    signal_reform_X = []\n",
    "    for j in range(len(x_combined)):\n",
    "        per_track_X = []\n",
    "        for t in range(len(track_set[i])):\n",
    "            per_track_X.append(np.array(signal_X[t][j]))\n",
    "        signal_reform_X.append(np.array(per_track_X))\n",
    "    signal_reform_X = np.expand_dims(np.array(signal_reform_X), axis=4)\n",
    "    X.append(signal_reform_X)\n",
    "    \n",
    "    y_combined = [1 for i in pos] + [0 for i in neg]\n",
    "    Y.append(np.array(y_combined))\n",
    "\n",
    "with open(\"./mm10/mm10_all_signals.pickle\", 'wb') as f:\n",
    "    pickle.dump((X,Y), f)"
   ]
  },
  {
   "cell_type": "code",
   "execution_count": 43,
   "metadata": {},
   "outputs": [
    {
     "name": "stdout",
     "output_type": "stream",
     "text": [
      "forebrain 524 1563\n"
     ]
    },
    {
     "name": "stderr",
     "output_type": "stream",
     "text": [
      "/gpfs/ysm/project/zc264/conda_envs/old_keras_gpu/lib/python3.6/site-packages/ipykernel_launcher.py:26: DeprecationWarning: Both axis > a.ndim and axis < -a.ndim - 1 are deprecated and will raise an AxisError in the future.\n"
     ]
    },
    {
     "name": "stdout",
     "output_type": "stream",
     "text": [
      "heart 315 1563\n",
      "hindbrain 412 1563\n",
      "limb 348 1563\n",
      "midbrain 454 1563\n",
      "neural tube 284 1563\n"
     ]
    }
   ],
   "source": [
    "# ---- all cell-specific positive & true negative signal extraction ---- #\n",
    "\n",
    "X = []\n",
    "Y = []\n",
    "for i in range(len(samples)):\n",
    "    \n",
    "    #organized per track for all samples\n",
    "    signal_X = []\n",
    "    signal_Y = []\n",
    "    for track in track_set[i]:        \n",
    "        pos_bed = pybedtools.BedTool(\"./mm10/mm10.validation_regions.bed\").filter(tissue_pos, samples[i])\n",
    "        neg_bed = pybedtools.BedTool(\"./mm10/mm10.validation_regions.bed\").filter(tissue_neg2, samples[i])\n",
    "        pos = get_signal(pos_bed, pyBigWig.open(track))\n",
    "        neg = get_signal(neg_bed, pyBigWig.open(track))\n",
    "        x_combined = pos + neg\n",
    "        signal_X.append(x_combined)\n",
    "    print(samples[i], len(pos), len(neg))\n",
    "\n",
    "    #reorganize per sample for all tracks\n",
    "    signal_reform_X = []\n",
    "    for j in range(len(x_combined)):\n",
    "        per_track_X = []\n",
    "        for t in range(len(track_set[i])):\n",
    "            per_track_X.append(np.array(signal_X[t][j]))\n",
    "        signal_reform_X.append(np.array(per_track_X))\n",
    "    signal_reform_X = np.expand_dims(np.array(signal_reform_X), axis=4)\n",
    "    X.append(signal_reform_X)\n",
    "    \n",
    "    y_combined = [1 for i in pos] + [0 for i in neg]\n",
    "    Y.append(np.array(y_combined))\n",
    "\n",
    "with open(\"./mm10/mm10_all_signals.true_neg.pickle\", 'wb') as f:\n",
    "    pickle.dump((X,Y), f)"
   ]
  },
  {
   "cell_type": "code",
   "execution_count": null,
   "metadata": {},
   "outputs": [],
   "source": []
  }
 ],
 "metadata": {
  "kernelspec": {
   "display_name": "Python 3",
   "language": "python",
   "name": "python3"
  },
  "language_info": {
   "codemirror_mode": {
    "name": "ipython",
    "version": 3
   },
   "file_extension": ".py",
   "mimetype": "text/x-python",
   "name": "python",
   "nbconvert_exporter": "python",
   "pygments_lexer": "ipython3",
   "version": "3.6.5"
  }
 },
 "nbformat": 4,
 "nbformat_minor": 2
}
