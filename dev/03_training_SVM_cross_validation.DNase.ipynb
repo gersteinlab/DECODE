{
 "cells": [
  {
   "cell_type": "code",
   "execution_count": 1,
   "metadata": {},
   "outputs": [
    {
     "name": "stderr",
     "output_type": "stream",
     "text": [
      "/gpfs/ysm/project/zc264/conda_envs/old_keras_gpu/lib/python3.6/site-packages/tensorflow/python/framework/dtypes.py:523: FutureWarning: Passing (type, 1) or '1type' as a synonym of type is deprecated; in a future version of numpy, it will be understood as (type, (1,)) / '(1,)type'.\n",
      "  _np_qint8 = np.dtype([(\"qint8\", np.int8, 1)])\n",
      "/gpfs/ysm/project/zc264/conda_envs/old_keras_gpu/lib/python3.6/site-packages/tensorflow/python/framework/dtypes.py:524: FutureWarning: Passing (type, 1) or '1type' as a synonym of type is deprecated; in a future version of numpy, it will be understood as (type, (1,)) / '(1,)type'.\n",
      "  _np_quint8 = np.dtype([(\"quint8\", np.uint8, 1)])\n",
      "/gpfs/ysm/project/zc264/conda_envs/old_keras_gpu/lib/python3.6/site-packages/tensorflow/python/framework/dtypes.py:525: FutureWarning: Passing (type, 1) or '1type' as a synonym of type is deprecated; in a future version of numpy, it will be understood as (type, (1,)) / '(1,)type'.\n",
      "  _np_qint16 = np.dtype([(\"qint16\", np.int16, 1)])\n",
      "/gpfs/ysm/project/zc264/conda_envs/old_keras_gpu/lib/python3.6/site-packages/tensorflow/python/framework/dtypes.py:526: FutureWarning: Passing (type, 1) or '1type' as a synonym of type is deprecated; in a future version of numpy, it will be understood as (type, (1,)) / '(1,)type'.\n",
      "  _np_quint16 = np.dtype([(\"quint16\", np.uint16, 1)])\n",
      "/gpfs/ysm/project/zc264/conda_envs/old_keras_gpu/lib/python3.6/site-packages/tensorflow/python/framework/dtypes.py:527: FutureWarning: Passing (type, 1) or '1type' as a synonym of type is deprecated; in a future version of numpy, it will be understood as (type, (1,)) / '(1,)type'.\n",
      "  _np_qint32 = np.dtype([(\"qint32\", np.int32, 1)])\n",
      "/gpfs/ysm/project/zc264/conda_envs/old_keras_gpu/lib/python3.6/site-packages/tensorflow/python/framework/dtypes.py:532: FutureWarning: Passing (type, 1) or '1type' as a synonym of type is deprecated; in a future version of numpy, it will be understood as (type, (1,)) / '(1,)type'.\n",
      "  np_resource = np.dtype([(\"resource\", np.ubyte, 1)])\n",
      "Using TensorFlow backend.\n"
     ]
    }
   ],
   "source": [
    "#-----import packages-----#\n",
    "\n",
    "#common python packages\n",
    "import numpy as np\n",
    "import string\n",
    "import random\n",
    "import os\n",
    "import pickle\n",
    "import argparse\n",
    "import wget\n",
    "import math\n",
    "import tempfile\n",
    "import matplotlib.pyplot as plt\n",
    "from datetime import datetime\n",
    "\n",
    "#machine learning packages\n",
    "import sklearn\n",
    "from sklearn.model_selection import train_test_split\n",
    "from matplotlib import pyplot as plt\n",
    "\n",
    "import tensorflow as tf\n",
    "\n",
    "from keras.regularizers import l2\n",
    "from keras.models import Sequential\n",
    "from keras.layers import Dense, Activation\n",
    "from sklearn.utils import shuffle\n",
    "%matplotlib inline\n",
    "\n",
    "#notify the OS about GPU\n",
    "os.environ[\"CUDA_DEVICE_ORDER\"]=\"PCI_BUS_ID\"\n",
    "os.environ[\"CUDA_VISIBLE_DEVICES\"] = \"0\"\n",
    "os.environ['KERAS_BACKEND'] = 'tensorflow'"
   ]
  },
  {
   "cell_type": "code",
   "execution_count": 2,
   "metadata": {},
   "outputs": [
    {
     "name": "stdout",
     "output_type": "stream",
     "text": [
      "all files found!\n"
     ]
    }
   ],
   "source": [
    "#parsing command line arguments\n",
    "# -----parsing command line arguments-----#\n",
    "parser = argparse.ArgumentParser(description='Training CNN model to predict STARR-seq enhancers based on chromatin accessbility and histone marks')\n",
    "parser.add_argument('-c', '--cell_types', type=str, help='comma separated string of cell_types')\n",
    "parser.add_argument('-i', '--in_dir', type=str, help='directory containing 01_data_encoding intermediate tsv files')\n",
    "\n",
    "#simulate command line input\n",
    "cmdline_str='-c ' + \" HepG2,K562,A549,HCT116,MCF-7 \" + \\\n",
    "    ' -i ' + \"/gpfs/ysm/scratch60/gerstein/zc264/ChromVar/enhancer-prediction/encode/dev/encoded_2overlap/DNase/\"\n",
    "\n",
    "seq_names = [\"DNase\", \"H3K27ac\", \"H3K4me3\", \"H3K9ac\", \"H3K4me1\"]\n",
    "\n",
    "#check if the files are there\n",
    "args = parser.parse_args(cmdline_str.split())\n",
    "args.cell_types = args.cell_types.split(\",\")\n",
    "for cell in args.cell_types:\n",
    "    for seq in seq_names:\n",
    "        pos_file = args.in_dir + cell + \".\" + seq + \".pos.tsv\"\n",
    "        if not os.path.exists(pos_file):\n",
    "            print(pos_file + \" file does not exist\")\n",
    "            exit(1)\n",
    "        neg_file = args.in_dir + cell + \".\" + seq + \".neg.tsv\"\n",
    "        if not os.path.exists(neg_file):\n",
    "            print(neg_file + \" file does not exist\")\n",
    "            exit(1)\n",
    "print(\"all files found!\")"
   ]
  },
  {
   "cell_type": "code",
   "execution_count": 3,
   "metadata": {
    "scrolled": true
   },
   "outputs": [],
   "source": [
    "# def get_data(cell_types, in_dir, seq_names):\n",
    "\n",
    "#     first_cell = True\n",
    "#     for cell in cell_types:\n",
    "#         print(cell)\n",
    "\n",
    "#         pos = []\n",
    "#         neg = []\n",
    "#         first_seq = True\n",
    "#         for seq in seq_names:\n",
    "#             print(\"-\"+seq)\n",
    "\n",
    "#             pos_name = in_dir+cell+\".\"+seq+\".pos.tsv\"\n",
    "#             pos_mat = np.loadtxt(pos_name, delimiter='\\t')\n",
    "\n",
    "#             neg_name = in_dir+cell+\".\"+seq+\".neg.tsv\"\n",
    "#             neg_mat = np.loadtxt(neg_name, delimiter='\\t')\n",
    "\n",
    "#             if first_seq:\n",
    "#                 for i in pos_mat:\n",
    "#                     pos.append(np.array([i]))\n",
    "#                 for i in neg_mat:\n",
    "#                     neg.append(np.array([i]))\n",
    "#                 first_seq = False\n",
    "#             else:\n",
    "#                 for i in range(len(pos)):\n",
    "#                     pos[i] = np.vstack((pos[i], pos_mat[i,]))\n",
    "#                 for i in range(len(neg)):\n",
    "#                     neg[i] = np.vstack((neg[i], neg_mat[i,]))\n",
    "\n",
    "#         if first_cell == True:\n",
    "#             X_pos = np.array(pos)\n",
    "#             X_neg = np.array(neg)\n",
    "#             first_cell = False\n",
    "#         else:\n",
    "#             X_pos = np.vstack((X_pos, pos))\n",
    "#             X_neg = np.vstack((X_neg, neg))\n",
    "\n",
    "#     X = np.vstack((X_pos, X_neg))\n",
    "#     y = np.array([1 for i in range(X_pos.shape[0])] + [0 for i in range(X_neg.shape[0])]).reshape(-1,1)\n",
    "#     print(X.shape)\n",
    "#     print(y.shape)\n",
    "    \n",
    "#     return X, y\n",
    "\n",
    "# X, y = get_data(args.cell_types, args.in_dir, seq_names)"
   ]
  },
  {
   "cell_type": "code",
   "execution_count": 4,
   "metadata": {},
   "outputs": [
    {
     "name": "stdout",
     "output_type": "stream",
     "text": [
      "(146542, 750)\n",
      "(146542,)\n"
     ]
    }
   ],
   "source": [
    "with open(args.in_dir + \"hg38_signals.pickle\", 'rb') as f:\n",
    "    X, y = pickle.load(f)\n",
    "X = X[:, :, 125:275]\n",
    "X = X.reshape(X.shape[0], -1)\n",
    "#X = X.sum(axis=1)\n",
    "y = y.reshape(-1)\n",
    "print(X.shape)\n",
    "print(y.shape)"
   ]
  },
  {
   "cell_type": "code",
   "execution_count": 5,
   "metadata": {},
   "outputs": [],
   "source": [
    "#kfold division of the data\n",
    "kf = sklearn.model_selection.KFold(n_splits=5, shuffle=True)\n",
    "\n",
    "#collect the output of the kfolds\n",
    "history_list = []\n",
    "y_pred_list = []\n",
    "y_test_list = []\n",
    "accuracy_list = []\n",
    "auROC_list = []\n",
    "auPRC_list = []\n",
    "\n",
    "kskip = 0"
   ]
  },
  {
   "cell_type": "code",
   "execution_count": 9,
   "metadata": {},
   "outputs": [
    {
     "name": "stdout",
     "output_type": "stream",
     "text": [
      "Epoch 1/10\n",
      "117233/117233 [==============================] - 3s 27us/step - loss: 0.3812 - acc: 0.9001\n",
      "Epoch 2/10\n",
      "117233/117233 [==============================] - 3s 24us/step - loss: 0.2276 - acc: 0.9645\n",
      "Epoch 3/10\n",
      "117233/117233 [==============================] - 3s 24us/step - loss: 0.1927 - acc: 0.9632\n",
      "Epoch 4/10\n",
      "117233/117233 [==============================] - 3s 25us/step - loss: 0.1838 - acc: 0.9616\n",
      "Epoch 5/10\n",
      "117233/117233 [==============================] - 3s 24us/step - loss: 0.1815 - acc: 0.9608\n",
      "Epoch 6/10\n",
      "117233/117233 [==============================] - 3s 24us/step - loss: 0.1784 - acc: 0.9606\n",
      "Epoch 7/10\n",
      "117233/117233 [==============================] - 3s 24us/step - loss: 0.1790 - acc: 0.9610\n",
      "Epoch 8/10\n",
      "117233/117233 [==============================] - 3s 24us/step - loss: 0.1782 - acc: 0.9606\n",
      "Epoch 9/10\n",
      "117233/117233 [==============================] - 3s 24us/step - loss: 0.1764 - acc: 0.9607\n",
      "Epoch 10/10\n",
      "117233/117233 [==============================] - 3s 24us/step - loss: 0.1757 - acc: 0.9601\n",
      "Epoch 1/10\n",
      "117233/117233 [==============================] - 3s 25us/step - loss: 0.3721 - acc: 0.9065\n",
      "Epoch 2/10\n",
      "117233/117233 [==============================] - 3s 24us/step - loss: 0.2245 - acc: 0.9648\n",
      "Epoch 3/10\n",
      "117233/117233 [==============================] - 3s 24us/step - loss: 0.1903 - acc: 0.9633\n",
      "Epoch 4/10\n",
      "117233/117233 [==============================] - 3s 24us/step - loss: 0.1821 - acc: 0.9619\n",
      "Epoch 5/10\n",
      "117233/117233 [==============================] - 3s 24us/step - loss: 0.1787 - acc: 0.9613\n",
      "Epoch 6/10\n",
      "117233/117233 [==============================] - 3s 24us/step - loss: 0.1785 - acc: 0.9613\n",
      "Epoch 7/10\n",
      "117233/117233 [==============================] - 3s 24us/step - loss: 0.1764 - acc: 0.9609\n",
      "Epoch 8/10\n",
      "117233/117233 [==============================] - 3s 25us/step - loss: 0.1752 - acc: 0.9610\n",
      "Epoch 9/10\n",
      "117233/117233 [==============================] - 3s 27us/step - loss: 0.1759 - acc: 0.9609\n",
      "Epoch 10/10\n",
      "117233/117233 [==============================] - 3s 27us/step - loss: 0.1764 - acc: 0.9610\n",
      "Epoch 1/10\n",
      "117234/117234 [==============================] - 3s 27us/step - loss: 0.3886 - acc: 0.8965\n",
      "Epoch 2/10\n",
      "117234/117234 [==============================] - 3s 25us/step - loss: 0.2286 - acc: 0.9660\n",
      "Epoch 3/10\n",
      "117234/117234 [==============================] - 3s 24us/step - loss: 0.1929 - acc: 0.9627\n",
      "Epoch 4/10\n",
      "117234/117234 [==============================] - 3s 24us/step - loss: 0.1823 - acc: 0.9623\n",
      "Epoch 5/10\n",
      "117234/117234 [==============================] - 3s 24us/step - loss: 0.1796 - acc: 0.9614\n",
      "Epoch 6/10\n",
      "117234/117234 [==============================] - 3s 24us/step - loss: 0.1780 - acc: 0.9613\n",
      "Epoch 7/10\n",
      "117234/117234 [==============================] - 3s 24us/step - loss: 0.1772 - acc: 0.9613\n",
      "Epoch 8/10\n",
      "117234/117234 [==============================] - 3s 24us/step - loss: 0.1764 - acc: 0.9613\n",
      "Epoch 9/10\n",
      "117234/117234 [==============================] - 3s 24us/step - loss: 0.1753 - acc: 0.9611\n",
      "Epoch 10/10\n",
      "117234/117234 [==============================] - 3s 24us/step - loss: 0.1753 - acc: 0.9616\n",
      "Epoch 1/10\n",
      "117234/117234 [==============================] - 3s 26us/step - loss: 0.3835 - acc: 0.9006\n",
      "Epoch 2/10\n",
      "117234/117234 [==============================] - 3s 24us/step - loss: 0.2348 - acc: 0.9656\n",
      "Epoch 3/10\n",
      "117234/117234 [==============================] - 3s 24us/step - loss: 0.1931 - acc: 0.9639\n",
      "Epoch 4/10\n",
      "117234/117234 [==============================] - 3s 24us/step - loss: 0.1819 - acc: 0.9617\n",
      "Epoch 5/10\n",
      "117234/117234 [==============================] - 3s 24us/step - loss: 0.1786 - acc: 0.9615\n",
      "Epoch 6/10\n",
      "117234/117234 [==============================] - 3s 24us/step - loss: 0.1767 - acc: 0.9610\n",
      "Epoch 7/10\n",
      "117234/117234 [==============================] - 3s 24us/step - loss: 0.1758 - acc: 0.9612\n",
      "Epoch 8/10\n",
      "117234/117234 [==============================] - 3s 25us/step - loss: 0.1758 - acc: 0.9608\n",
      "Epoch 9/10\n",
      "117234/117234 [==============================] - 3s 26us/step - loss: 0.1754 - acc: 0.9606\n",
      "Epoch 10/10\n",
      "117234/117234 [==============================] - 3s 27us/step - loss: 0.1755 - acc: 0.9607\n",
      "Epoch 1/10\n",
      "117234/117234 [==============================] - 3s 28us/step - loss: 0.3881 - acc: 0.9013\n",
      "Epoch 2/10\n",
      "117234/117234 [==============================] - 3s 25us/step - loss: 0.2353 - acc: 0.9654\n",
      "Epoch 3/10\n",
      "117234/117234 [==============================] - 3s 25us/step - loss: 0.1944 - acc: 0.9643\n",
      "Epoch 4/10\n",
      "117234/117234 [==============================] - 3s 25us/step - loss: 0.1823 - acc: 0.9628\n",
      "Epoch 5/10\n",
      "117234/117234 [==============================] - 3s 25us/step - loss: 0.1785 - acc: 0.9622\n",
      "Epoch 6/10\n",
      "117234/117234 [==============================] - 3s 24us/step - loss: 0.1775 - acc: 0.9616\n",
      "Epoch 7/10\n",
      "117234/117234 [==============================] - 3s 24us/step - loss: 0.1768 - acc: 0.9613\n",
      "Epoch 8/10\n",
      "117234/117234 [==============================] - 3s 24us/step - loss: 0.1771 - acc: 0.9612\n",
      "Epoch 9/10\n",
      "117234/117234 [==============================] - 3s 24us/step - loss: 0.1756 - acc: 0.9608\n",
      "Epoch 10/10\n",
      "117234/117234 [==============================] - 3s 24us/step - loss: 0.1753 - acc: 0.9615\n"
     ]
    }
   ],
   "source": [
    "#iterate over each fold of data\n",
    "for train_index, test_index in kf.split(y):\n",
    "    \n",
    "    x_train = X[train_index]\n",
    "    x_test = X[test_index]\n",
    "    y_train = y[train_index]\n",
    "    y_test = y[test_index]\n",
    "\n",
    "    model = Sequential()\n",
    "    model.add(Dense(1, kernel_regularizer=l2(0.01), activation=\"linear\"))\n",
    "    model.add(Activation(\"sigmoid\"))\n",
    "    model.compile(loss='binary_crossentropy',\n",
    "          optimizer='adadelta',\n",
    "          metrics=['accuracy'])\n",
    "    \n",
    "\n",
    "    #train the model\n",
    "    history_list.append(model.fit(x_train, y_train, validation_split=0.0, epochs=10, batch_size=128))\n",
    "\n",
    "    # predict the results\n",
    "    y_pred = model.predict(x_test).ravel()\n",
    "    y_pred_list.append(y_pred)\n",
    "    y_test_list.append(y_test.ravel())\n",
    "    results = np.vstack((y_pred.ravel(), y_test.ravel()))\n",
    "\n",
    "    accuracy_s = sklearn.metrics.accuracy_score(y_test, np.rint(y_pred))\n",
    "    accuracy_list.append(accuracy_s)\n",
    "\n",
    "    auroc_s = sklearn.metrics.roc_auc_score(y_test, np.rint(y_pred))\n",
    "    auROC_list.append(auroc_s)\n",
    "\n",
    "    auprc_s = sklearn.metrics.average_precision_score(y_test, np.rint(y_pred))\n",
    "    auPRC_list.append(auprc_s)\n",
    "\n",
    "    #iterate k fold counter\n",
    "    kskip = kskip + 1\n",
    "\n",
    "    #delete the model so the variable is cleared\n",
    "    del model"
   ]
  },
  {
   "cell_type": "code",
   "execution_count": 10,
   "metadata": {},
   "outputs": [],
   "source": [
    "np.savetxt(\"svm.auROC.csv\", np.array(auROC_list), delimiter=\",\")\n",
    "np.savetxt(\"svm.auPRC.csv\", np.array(auPRC_list), delimiter=\",\")"
   ]
  },
  {
   "cell_type": "markdown",
   "metadata": {},
   "source": [
    "## Mouse Validation"
   ]
  },
  {
   "cell_type": "code",
   "execution_count": 5,
   "metadata": {},
   "outputs": [
    {
     "name": "stdout",
     "output_type": "stream",
     "text": [
      "Epoch 1/10\n",
      "146542/146542 [==============================] - 53s 358us/step - loss: 0.3572 - acc: 0.9118\n",
      "Epoch 2/10\n",
      "146542/146542 [==============================] - 4s 24us/step - loss: 0.2081 - acc: 0.9655\n",
      "Epoch 3/10\n",
      "146542/146542 [==============================] - 4s 24us/step - loss: 0.1849 - acc: 0.9625\n",
      "Epoch 4/10\n",
      "146542/146542 [==============================] - 4s 24us/step - loss: 0.1805 - acc: 0.9615\n",
      "Epoch 5/10\n",
      "146542/146542 [==============================] - 4s 24us/step - loss: 0.1783 - acc: 0.9608\n",
      "Epoch 6/10\n",
      "146542/146542 [==============================] - 4s 24us/step - loss: 0.1772 - acc: 0.9610\n",
      "Epoch 7/10\n",
      "146542/146542 [==============================] - 4s 24us/step - loss: 0.1764 - acc: 0.9608\n",
      "Epoch 8/10\n",
      "146542/146542 [==============================] - 4s 24us/step - loss: 0.1756 - acc: 0.9612\n",
      "Epoch 9/10\n",
      "146542/146542 [==============================] - 4s 24us/step - loss: 0.1754 - acc: 0.9606\n",
      "Epoch 10/10\n",
      "146542/146542 [==============================] - 4s 24us/step - loss: 0.1752 - acc: 0.9609\n"
     ]
    },
    {
     "data": {
      "text/plain": [
       "<keras.callbacks.History at 0x2b7af6853be0>"
      ]
     },
     "execution_count": 5,
     "metadata": {},
     "output_type": "execute_result"
    }
   ],
   "source": [
    "model = Sequential()\n",
    "model.add(Dense(1, kernel_regularizer=l2(0.01), activation=\"linear\"))\n",
    "model.add(Activation(\"sigmoid\"))\n",
    "model.compile(loss='binary_crossentropy',\n",
    "      optimizer='adadelta',\n",
    "      metrics=['accuracy'])\n",
    "model.fit(X, y, validation_split=0.0, epochs=10, batch_size=128)"
   ]
  },
  {
   "cell_type": "code",
   "execution_count": 11,
   "metadata": {},
   "outputs": [],
   "source": [
    "with open(\"./mm10/mm10_all_signals.pickle\", 'rb') as f:\n",
    "    X,Y = pickle.load(f)\n",
    "samples = [\"forebrain\", \"heart\", \"hindbrain\", \"limb\", \"midbrain\", \"neural tube\"]\n",
    "for i in range(len(samples)):\n",
    "    X[i][:, [0, 2], :] = X[i][:, [2, 0], :]\n",
    "    X[i] = X[i][:, :, 125:275]\n",
    "    X[i] = X[i].reshape(X[i].shape[0], -1)"
   ]
  },
  {
   "cell_type": "code",
   "execution_count": 12,
   "metadata": {},
   "outputs": [],
   "source": [
    "y_pred_list = []\n",
    "accuracy_list = []\n",
    "auroc_list = []\n",
    "auprc_list = []\n",
    "for i in range(len(samples)):\n",
    "    y_pred = model.predict(X[i]).ravel()\n",
    "    y_pred_list.append(y_pred)\n",
    "\n",
    "    accuracy_list.append(sklearn.metrics.accuracy_score(Y[i], np.rint(y_pred)))    \n",
    "    auprc_list.append(sklearn.metrics.average_precision_score(Y[i], y_pred_list[i]))\n",
    "    auroc_list.append(sklearn.metrics.roc_auc_score(Y[i], y_pred_list[i]))"
   ]
  },
  {
   "cell_type": "code",
   "execution_count": 14,
   "metadata": {},
   "outputs": [
    {
     "name": "stdout",
     "output_type": "stream",
     "text": [
      "[0.36189889025893957, 0.3788532675709001, 0.3104192355117139, 0.30456226880394577, 0.3557336621454994, 0.2697287299630086]\n",
      "auroc for all mm10 tissues: [0.7923864082846879, 0.7985649796506744, 0.7700795519993417, 0.7601021226265321, 0.7943201016847456, 0.7707324181575942]\n",
      "auprc for all mm10 tissues: [0.3865779292114275, 0.2686884213177673, 0.31919411401143205, 0.2695298671174265, 0.3413075079236296, 0.2333350582516644]\n"
     ]
    }
   ],
   "source": [
    "print(accuracy_list)\n",
    "print(\"auroc for all mm10 tissues:\", auroc_list)\n",
    "print(\"auprc for all mm10 tissues:\", auprc_list)"
   ]
  },
  {
   "cell_type": "code",
   "execution_count": null,
   "metadata": {},
   "outputs": [],
   "source": []
  }
 ],
 "metadata": {
  "kernelspec": {
   "display_name": "Python 3",
   "language": "python",
   "name": "python3"
  },
  "language_info": {
   "codemirror_mode": {
    "name": "ipython",
    "version": 3
   },
   "file_extension": ".py",
   "mimetype": "text/x-python",
   "name": "python",
   "nbconvert_exporter": "python",
   "pygments_lexer": "ipython3",
   "version": "3.6.5"
  }
 },
 "nbformat": 4,
 "nbformat_minor": 2
}
