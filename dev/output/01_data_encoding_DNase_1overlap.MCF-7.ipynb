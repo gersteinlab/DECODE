{
 "cells": [
  {
   "cell_type": "code",
   "execution_count": 1,
   "metadata": {},
   "outputs": [],
   "source": [
    "#-----import packages-----#\n",
    "\n",
    "#common python packages\n",
    "import numpy as np\n",
    "import string\n",
    "import random\n",
    "import os\n",
    "import pickle\n",
    "import argparse\n",
    "import wget\n",
    "import math\n",
    "import matplotlib.pyplot as plt\n",
    "from datetime import datetime\n",
    "\n",
    "#biological packages\n",
    "import pybedtools\n",
    "from pybedtools import featurefuncs\n",
    "import pyBigWig"
   ]
  },
  {
   "cell_type": "code",
   "execution_count": 2,
   "metadata": {},
   "outputs": [
    {
     "name": "stdout",
     "output_type": "stream",
     "text": [
      "all files found!\n",
      "['chr1', 'chr2', 'chr3', 'chr4', 'chr5', 'chr6', 'chr7', 'chr8', 'chr9', 'chr10', 'chr11', 'chr12', 'chr13', 'chr14', 'chr15', 'chr16', 'chr17', 'chr18', 'chr19', 'chr20', 'chr21', 'chr22', 'chrX']\n"
     ]
    },
    {
     "data": {
      "text/plain": [
       "0"
      ]
     },
     "execution_count": 2,
     "metadata": {},
     "output_type": "execute_result"
    }
   ],
   "source": [
    "# -----parsing command line arguments-----#\n",
    "parser = argparse.ArgumentParser(description='data preprocessing and encoding')\n",
    "parser.add_argument('-s', '--starrseq', type=str, help='comma separated string of starrseq peak replicates')\n",
    "parser.add_argument('-a', '--track1_peaks', type=str, help='chromatin accessibility peak')\n",
    "parser.add_argument('-b', '--track2_peaks', type=str, help='ChIP-seq H3K27ac peak')\n",
    "parser.add_argument('-c', '--track3_peaks', type=str, help='ChIP-seq H3K4me3 peak')\n",
    "parser.add_argument('-d', '--track4_peaks', type=str, help='ChIP-seq H3K9ac peak')\n",
    "parser.add_argument('-e', '--track5_peaks', type=str, help='ChIP-seq H3K4me1 peak')\n",
    "parser.add_argument('-f', '--track1_bw', type=str, help='chromatin accessibility bigWig')\n",
    "parser.add_argument('-g', '--track2_bw', type=str, help='ChIP-seq H3K27ac bigWig')\n",
    "parser.add_argument('-i', '--track3_bw', type=str, help='ChIP-seq H3K4me3 bigWig')\n",
    "parser.add_argument('-j', '--track4_bw', type=str, help='ChIP-seq H3K9ac bigWig')\n",
    "parser.add_argument('-k', '--track5_bw', type=str, help='ChIP-seq H3K4me1 bigWig')\n",
    "parser.add_argument('-o', '--out_dir', type=str, help='output_directory')\n",
    "parser.add_argument('-x', '--cell_name', type=str, help='name of the cell')\n",
    "parser.add_argument('-y', '--pos_neg_ratio', type=int, help='positive to negative ratio')\n",
    "parser.add_argument('-z', '--window_size', type=int, help='prediction window size')\n",
    "\n",
    "# temporary experiment in local directory\n",
    "cell_type = os.environ['cell_type']\n",
    "# cell_type = \"MCF-7\"\n",
    "# cell_type = \"HCT116\"\n",
    "\n",
    "# simulate command line input\n",
    "stardir = \"/gpfs/ysm/scratch60/gerstein/zc264/ChromVar/enhancer-prediction/encode/starrpeaker_positive/raw/\"\n",
    "seqdir = \"/gpfs/ysm/scratch60/gerstein/zc264/ChromVar/enhancer-prediction/encode/datasets/\"+cell_type+\"/\"\n",
    "cmdline_str='-s ' + stardir + cell_type + '_r1_starrpeaker.peak.final.bed' + ',' + \\\n",
    "    stardir + cell_type+'_r2_starrpeaker.peak.final.bed' + \\\n",
    "    ' -a ' + seqdir+cell_type+\".DNase-seq.narrowPeak\" + \\\n",
    "    ' -b ' + seqdir+cell_type+\".ChIP-seq.H3K27ac.narrowPeak\" + \\\n",
    "    ' -c ' + seqdir+cell_type+\".ChIP-seq.H3K4me3.narrowPeak\" + \\\n",
    "    ' -d ' + seqdir+cell_type+\".ChIP-seq.H3K9ac.narrowPeak\" + \\\n",
    "    ' -e ' + seqdir+cell_type+\".ChIP-seq.H3K4me1.narrowPeak\" + \\\n",
    "    ' -f ' + seqdir+cell_type+\".DNase-seq.bigWig\" + \\\n",
    "    ' -g ' + seqdir+cell_type+\".ChIP-seq.H3K27ac.bigWig\" + \\\n",
    "    ' -i ' + seqdir+cell_type+\".ChIP-seq.H3K4me3.bigWig\" + \\\n",
    "    ' -j ' + seqdir+cell_type+\".ChIP-seq.H3K9ac.bigWig\" + \\\n",
    "    ' -k ' + seqdir+cell_type+\".ChIP-seq.H3K4me1.bigWig\" + \\\n",
    "    ' -o ' + \"/gpfs/ysm/scratch60/gerstein/zc264/ChromVar/enhancer-prediction/encode/dev/encoded_1overlap/DNase/\" + \\\n",
    "    ' -x ' + cell_type + \\\n",
    "    ' -y ' + \"1\" + \\\n",
    "    ' -z ' + \"4000\"\n",
    "\n",
    "# cmdline_str='-s ' + stardir + cell_type + '_r1_starrpeaker.peak.final.bed' + \\\n",
    "#     ' -a ' + seqdir+cell_type+\".DNase-seq.narrowPeak\" + \\\n",
    "#     ' -b ' + seqdir+cell_type+\".ChIP-seq.H3K27ac.narrowPeak\" + \\\n",
    "#     ' -c ' + seqdir+cell_type+\".ChIP-seq.H3K4me3.narrowPeak\" + \\\n",
    "#     ' -d ' + seqdir+cell_type+\".ChIP-seq.H3K9ac.narrowPeak\" + \\\n",
    "#     ' -e ' + seqdir+cell_type+\".ChIP-seq.H3K4me1.narrowPeak\" + \\\n",
    "#     ' -f ' + seqdir+cell_type+\".DNase-seq.bigWig\" + \\\n",
    "#     ' -g ' + seqdir+cell_type+\".ChIP-seq.H3K27ac.bigWig\" + \\\n",
    "#     ' -i ' + seqdir+cell_type+\".ChIP-seq.H3K4me3.bigWig\" + \\\n",
    "#     ' -j ' + seqdir+cell_type+\".ChIP-seq.H3K9ac.bigWig\" + \\\n",
    "#     ' -o ' + \"/gpfs/ysm/scratch60/gerstein/zc264/ChromVar/enhancer-prediction/encode/dev/encoded/DNase/\" + \\\n",
    "#     ' -k ' + seqdir+cell_type+\".ChIP-seq.H3K4me1.bigWig\" + \\\n",
    "#     ' -x ' + cell_type + \\\n",
    "#     ' -y ' + \"1\" + \\\n",
    "#     ' -z ' + \"2000\"\n",
    "#print(cmdline_str.split())\n",
    "\n",
    "#check if the files are there\n",
    "args = parser.parse_args(cmdline_str.split())\n",
    "args.starrseq = args.starrseq.split(\",\")\n",
    "for key, value in vars(args).items():\n",
    "    #print(key, value)\n",
    "    if type(value) is list:\n",
    "        for v in value:\n",
    "            if not os.path.exists(v):\n",
    "                print(key + \" argument file does not exist\")\n",
    "                exit(1)\n",
    "    elif key == \"out_dir\" or key == \"cell_name\" or key == \"pos_neg_ratio\" or key == \"window_size\":\n",
    "        continue\n",
    "    else:\n",
    "        if not os.path.exists(value):\n",
    "                print(key + \" argument file does not exist\")\n",
    "                exit(1)\n",
    "print(\"all files found!\")\n",
    "\n",
    "#construct a set of autosome + X chromosome names\n",
    "chromosomes = []\n",
    "for i in range(1,23):\n",
    "    chromosomes.append(\"chr\"+str(i))\n",
    "chromosomes.append(\"chrX\")\n",
    "print(chromosomes)\n",
    "\n",
    "os.system(\"mkdir -p \" + args.out_dir)"
   ]
  },
  {
   "cell_type": "code",
   "execution_count": 3,
   "metadata": {},
   "outputs": [
    {
     "name": "stdout",
     "output_type": "stream",
     "text": [
      "94309\n"
     ]
    }
   ],
   "source": [
    "#-----IO and combine the raw STARR-seq replicate files-----#\n",
    "if len(args.starrseq) == 1:\n",
    "    s = pybedtools.BedTool(args.starrseq[0]).filter(lambda x: float(x[9]) > 1.30).sort().merge()\n",
    "else:\n",
    "    s1 = pybedtools.BedTool(args.starrseq[0]).filter(lambda x: float(x[9]) > 1.30).sort()\n",
    "    s2 = pybedtools.BedTool(args.starrseq[1]).filter(lambda x: float(x[9]) > 1.30).sort()\n",
    "    #s = s1.intersect(s2).filter(pybedtools.featurefuncs.greater_than, 300).sort().merge() #only 4000 positives\n",
    "    s = s1.cat(s2).sort().merge().filter(pybedtools.featurefuncs.greater_than, 150).sort() #9000 positives\n",
    "print(s.count())"
   ]
  },
  {
   "cell_type": "code",
   "execution_count": 4,
   "metadata": {},
   "outputs": [
    {
     "name": "stdout",
     "output_type": "stream",
     "text": [
      "total chrom peaks: 215442\n",
      "total STARR+chrom peaks: 132\n",
      "total peaks: 28917\n",
      "65613\n",
      "184449\n"
     ]
    },
    {
     "data": {
      "text/plain": [
       "<BedTool(/gpfs/ysm/scratch60/gerstein/zc264/ChromVar/enhancer-prediction/encode/dev/encoded_1overlap/DNase/MCF-7.positive.bed)>"
      ]
     },
     "execution_count": 4,
     "metadata": {},
     "output_type": "execute_result"
    }
   ],
   "source": [
    "#-----IO and preprocess the signal files-----#\n",
    "chromAcc = pybedtools.BedTool(args.track1_peaks).sort().merge()\n",
    "chip1 = pybedtools.BedTool(args.track2_peaks).sort().merge()\n",
    "chip2 = pybedtools.BedTool(args.track3_peaks).sort().merge()\n",
    "chip3 = pybedtools.BedTool(args.track4_peaks).sort().merge()\n",
    "chip4 = pybedtools.BedTool(args.track5_peaks).sort().merge()\n",
    "\n",
    "#intersect combined STARR-seq peaks with chromatin accessibility, and filter for regions >150bp (TODO: might be to short)\n",
    "starr_and_chromAcc = s.intersect(chromAcc, sorted=True,).filter(pybedtools.featurefuncs.greater_than, 150).sort()\n",
    "\n",
    "#intersect STARR+chrom with H3K27ac, and filter for regions >150bp\n",
    "starr_and_chip1 = s.intersect(chip1, sorted=True).filter(pybedtools.featurefuncs.greater_than, 150).sort()\n",
    "\n",
    "#intersect STARR+chrom with H3K4me3, and filter for regions >150bp\n",
    "starr_and_chip2 = s.intersect(chip2, sorted=True).filter(pybedtools.featurefuncs.greater_than, 150).sort()\n",
    "\n",
    "#intersect STARR+chrom with H3K9ac, and filter for regions >150bp\n",
    "starr_and_chip3 = s.intersect(chip3, sorted=True).filter(pybedtools.featurefuncs.greater_than, 150).sort()\n",
    "\n",
    "#intersect STARR+chrom with H3K4me1, and filter for regions >150bp\n",
    "starr_and_chip4 = s.intersect(chip4, sorted=True).filter(pybedtools.featurefuncs.greater_than, 150).sort()\n",
    "\n",
    "#combined STARR+chrom+ChIP\n",
    "catted_training = starr_and_chromAcc.cat(starr_and_chip1).cat(starr_and_chip2).cat(starr_and_chip3).cat(starr_and_chip4).filter(lambda x: x.chrom in chromosomes)\n",
    "\n",
    "#center the overlapped regions and extend both sides up to half window size, making all regions uniformly window size \n",
    "positive_training = catted_training.each(pybedtools.featurefuncs.midpoint).slop(b=args.window_size/2, genome=\"hg38\").filter(pybedtools.featurefuncs.greater_than, args.window_size-1).sort()\n",
    "\n",
    "#report total number of peaks\n",
    "print(\"total chrom peaks: \" + str(chromAcc.count()))\n",
    "print(\"total STARR+chrom peaks: \" + str(starr_and_chromAcc.count()))\n",
    "print(\"total peaks: \" + str(positive_training.count()))\n",
    "print((s-chromAcc).count())\n",
    "print((chromAcc-s).count())\n",
    "\n",
    "positive_training.saveas(args.out_dir + args.cell_name + \".positive.bed\")"
   ]
  },
  {
   "cell_type": "code",
   "execution_count": 5,
   "metadata": {},
   "outputs": [
    {
     "name": "stdout",
     "output_type": "stream",
     "text": [
      "original negative window: 706790\n",
      "downsampled negative window: 289170\n"
     ]
    },
    {
     "data": {
      "text/plain": [
       "<BedTool(/gpfs/ysm/scratch60/gerstein/zc264/ChromVar/enhancer-prediction/encode/dev/encoded_1overlap/DNase/MCF-7.negative.bed)>"
      ]
     },
     "execution_count": 5,
     "metadata": {},
     "output_type": "execute_result"
    }
   ],
   "source": [
    "#-----create negative samples-----#\n",
    "\n",
    "#generate 2000bp of the entire genome\n",
    "hg38_windows = pybedtools.BedTool().window_maker(genome=\"hg38\", w=args.window_size).filter(pybedtools.featurefuncs.greater_than, args.window_size-1).filter(lambda x: x.chrom in chromosomes)\n",
    "\n",
    "#remove ENCODE blacklist regions\n",
    "if not os.path.exists('./hg38.blacklist.bed.gz'):\n",
    "    url = 'http://mitra.stanford.edu/kundaje/akundaje/release/blacklists/hg38-human/hg38.blacklist.bed.gz'\n",
    "    wget.download(url, './hg38.blacklist.bed.gz')\n",
    "blacklist = pybedtools.BedTool('./hg38.blacklist.bed.gz')\n",
    "hg38_windows = hg38_windows - blacklist\n",
    "\n",
    "#remove STARR-seq regions\n",
    "#hg38_windows = (hg38_windows - s)\n",
    "hg38_windows = hg38_windows - positive_training\n",
    "print(\"original negative window: \" + str(hg38_windows.count()))\n",
    "\n",
    "#downsample negative to 10x of positive\n",
    "negative_training = hg38_windows.random_subset(positive_training.count() * 10).sort()\n",
    "print(\"downsampled negative window: \" + str(negative_training.count()))\n",
    "\n",
    "negative_training.saveas(args.out_dir + args.cell_name + \".negative.bed\")\n"
   ]
  },
  {
   "cell_type": "code",
   "execution_count": 6,
   "metadata": {},
   "outputs": [],
   "source": [
    "#IO the bigwig signals\n",
    "chromAcc_bw = pyBigWig.open(args.track1_bw)\n",
    "chip1_bw = pyBigWig.open(args.track2_bw)\n",
    "chip2_bw = pyBigWig.open(args.track3_bw)\n",
    "chip3_bw = pyBigWig.open(args.track4_bw)\n",
    "chip4_bw = pyBigWig.open(args.track5_bw)\n",
    "\n",
    "def bigWigAverageOverBed(x, bigwig):\n",
    "    return bigwig.stats(x.chrom, x.start, x.stop, nBins=400)\n",
    "\n",
    "def get_signal(region, bigwig):\n",
    "    return np.array([np.nan_to_num(np.array(bigWigAverageOverBed(x, bigwig), dtype=float)) for x in region])"
   ]
  },
  {
   "cell_type": "code",
   "execution_count": 7,
   "metadata": {},
   "outputs": [
    {
     "data": {
      "image/png": "[encoded data removed]",
      "text/plain": [
       "<Figure size 432x288 with 1 Axes>"
      ]
     },
     "metadata": {
      "needs_background": "light"
     },
     "output_type": "display_data"
    }
   ],
   "source": [
    "pos_sig_mat = get_signal(pybedtools.BedTool(args.out_dir + args.cell_name + \".\" + \"positive.bed\"), chromAcc_bw)\n",
    "neg_sig_mat = get_signal(pybedtools.BedTool(args.out_dir + args.cell_name + \".\" + \"negative.bed\"), chromAcc_bw)\n",
    "#signal_mat = np.vstack((pos_sig_mat, neg_sig_mat))\n",
    "#print(signal_mat.shape)\n",
    "np.savetxt(args.out_dir + args.cell_name+\".\"+\"DNase\"+\".pos.tsv\", pos_sig_mat, fmt='%s', delimiter='\\t')\n",
    "np.savetxt(args.out_dir + args.cell_name+\".\"+\"DNase\"+\".neg.tsv\", neg_sig_mat, fmt='%s', delimiter='\\t')\n",
    "plt.boxplot(pos_sig_mat, showfliers=False);\n",
    "plt.boxplot(neg_sig_mat, showfliers=False);"
   ]
  },
  {
   "cell_type": "code",
   "execution_count": 8,
   "metadata": {},
   "outputs": [
    {
     "data": {
      "image/png": "[encoded data removed]",
      "text/plain": [
       "<Figure size 432x288 with 1 Axes>"
      ]
     },
     "metadata": {
      "needs_background": "light"
     },
     "output_type": "display_data"
    }
   ],
   "source": [
    "pos_sig_mat = get_signal(pybedtools.BedTool(args.out_dir + args.cell_name + \".\" + \"positive.bed\"), chip1_bw)\n",
    "neg_sig_mat = get_signal(pybedtools.BedTool(args.out_dir + args.cell_name + \".\" + \"negative.bed\"), chip1_bw)\n",
    "np.savetxt(args.out_dir + args.cell_name+\".\"+\"H3K27ac\"+\".pos.tsv\", pos_sig_mat, fmt='%s', delimiter='\\t')\n",
    "np.savetxt(args.out_dir + args.cell_name+\".\"+\"H3K27ac\"+\".neg.tsv\", neg_sig_mat, fmt='%s', delimiter='\\t')\n",
    "plt.boxplot(pos_sig_mat, showfliers=False);\n",
    "plt.boxplot(neg_sig_mat, showfliers=False);"
   ]
  },
  {
   "cell_type": "code",
   "execution_count": 9,
   "metadata": {},
   "outputs": [
    {
     "data": {
      "image/png": "[encoded data removed]",
      "text/plain": [
       "<Figure size 432x288 with 1 Axes>"
      ]
     },
     "metadata": {
      "needs_background": "light"
     },
     "output_type": "display_data"
    }
   ],
   "source": [
    "pos_sig_mat = get_signal(pybedtools.BedTool(args.out_dir + args.cell_name + \".\" + \"positive.bed\"), chip2_bw)\n",
    "neg_sig_mat = get_signal(pybedtools.BedTool(args.out_dir + args.cell_name + \".\" + \"negative.bed\"), chip2_bw)\n",
    "np.savetxt(args.out_dir + args.cell_name+\".\"+\"H3K4me3\"+\".pos.tsv\", pos_sig_mat, fmt='%s', delimiter='\\t')\n",
    "np.savetxt(args.out_dir + args.cell_name+\".\"+\"H3K4me3\"+\".neg.tsv\", neg_sig_mat, fmt='%s', delimiter='\\t')\n",
    "plt.boxplot(pos_sig_mat, showfliers=False);\n",
    "plt.boxplot(neg_sig_mat, showfliers=False);"
   ]
  },
  {
   "cell_type": "code",
   "execution_count": 10,
   "metadata": {},
   "outputs": [
    {
     "data": {
      "image/png": "[encoded data removed]",
      "text/plain": [
       "<Figure size 432x288 with 1 Axes>"
      ]
     },
     "metadata": {
      "needs_background": "light"
     },
     "output_type": "display_data"
    }
   ],
   "source": [
    "pos_sig_mat = get_signal(pybedtools.BedTool(args.out_dir + args.cell_name + \".\" + \"positive.bed\"), chip3_bw)\n",
    "neg_sig_mat = get_signal(pybedtools.BedTool(args.out_dir + args.cell_name + \".\" + \"negative.bed\"), chip3_bw)\n",
    "np.savetxt(args.out_dir + args.cell_name+\".\"+\"H3K9ac\"+\".pos.tsv\", pos_sig_mat, fmt='%s', delimiter='\\t')\n",
    "np.savetxt(args.out_dir + args.cell_name+\".\"+\"H3K9ac\"+\".neg.tsv\", neg_sig_mat, fmt='%s', delimiter='\\t')\n",
    "plt.boxplot(pos_sig_mat, showfliers=False);\n",
    "plt.boxplot(neg_sig_mat, showfliers=False);"
   ]
  },
  {
   "cell_type": "code",
   "execution_count": 11,
   "metadata": {},
   "outputs": [
    {
     "data": {
      "image/png": "[encoded data removed]",
      "text/plain": [
       "<Figure size 432x288 with 1 Axes>"
      ]
     },
     "metadata": {
      "needs_background": "light"
     },
     "output_type": "display_data"
    }
   ],
   "source": [
    "pos_sig_mat = get_signal(pybedtools.BedTool(args.out_dir + args.cell_name + \".\" + \"positive.bed\"), chip4_bw)\n",
    "neg_sig_mat = get_signal(pybedtools.BedTool(args.out_dir + args.cell_name + \".\" + \"negative.bed\"), chip4_bw)\n",
    "np.savetxt(args.out_dir + args.cell_name+\".\"+\"H3K4me1\"+\".pos.tsv\", pos_sig_mat, fmt='%s', delimiter='\\t')\n",
    "np.savetxt(args.out_dir + args.cell_name+\".\"+\"H3K4me1\"+\".neg.tsv\", neg_sig_mat, fmt='%s', delimiter='\\t')\n",
    "plt.boxplot(pos_sig_mat, showfliers=False);\n",
    "plt.boxplot(neg_sig_mat, showfliers=False);"
   ]
  },
  {
   "cell_type": "code",
   "execution_count": null,
   "metadata": {},
   "outputs": [],
   "source": []
  }
 ],
 "metadata": {
  "kernelspec": {
   "display_name": "Python 3",
   "language": "python",
   "name": "python3"
  },
  "language_info": {
   "codemirror_mode": {
    "name": "ipython",
    "version": 3
   },
   "file_extension": ".py",
   "mimetype": "text/x-python",
   "name": "python",
   "nbconvert_exporter": "python",
   "pygments_lexer": "ipython3",
   "version": "3.6.5"
  }
 },
 "nbformat": 4,
 "nbformat_minor": 2
}
