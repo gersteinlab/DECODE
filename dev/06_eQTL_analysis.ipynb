{
 "cells": [
  {
   "cell_type": "code",
   "execution_count": 1,
   "metadata": {},
   "outputs": [],
   "source": [
    "#-----import packages-----#\n",
    "\n",
    "#common python packages\n",
    "import numpy as np\n",
    "import string\n",
    "import random\n",
    "import os\n",
    "import pickle\n",
    "import argparse\n",
    "import wget\n",
    "import math\n",
    "import gc\n",
    "import sys\n",
    "import multiprocessing as mp\n",
    "\n",
    "#biological packages\n",
    "import pybedtools\n",
    "from pybedtools import featurefuncs\n",
    "import pyBigWig\n",
    "\n",
    "#machine learning packages\n",
    "import sklearn\n",
    "from sklearn.utils import shuffle\n",
    "import matplotlib\n",
    "from matplotlib import pyplot as plt\n",
    "import pandas as pd\n",
    "from scipy.stats import f_oneway\n",
    "from scipy.stats import ttest_ind\n",
    "\n",
    "%matplotlib inline"
   ]
  },
  {
   "cell_type": "code",
   "execution_count": 2,
   "metadata": {},
   "outputs": [
    {
     "name": "stdout",
     "output_type": "stream",
     "text": [
      "all files found!\n",
      "['chr1', 'chr2', 'chr3', 'chr4', 'chr5', 'chr6', 'chr7', 'chr8', 'chr9', 'chr10', 'chr11', 'chr12', 'chr13', 'chr14', 'chr15', 'chr16', 'chr17', 'chr18', 'chr19', 'chr20', 'chr21', 'chr22', 'chrX']\n",
      "all files found!\n"
     ]
    }
   ],
   "source": [
    "#parsing command line arguments\n",
    "# -----parsing command line arguments-----#\n",
    "parser = argparse.ArgumentParser(description='Training CNN model to predict STARR-seq enhancers based on chromatin accessbility and histone marks')\n",
    "parser.add_argument('-w', '--cell_types', type=str, help='comma separated string of cell_types')\n",
    "parser.add_argument('-x', '--in_dir', type=str, help='input_directory')\n",
    "parser.add_argument('-y', '--cell_name', type=str, help='name of the cell')\n",
    "parser.add_argument('-z', '--out_dir', type=str, help='output_directory')\n",
    "parser.add_argument('-a', '--track1_peaks', type=str, help='chromatin accessibility peak')\n",
    "parser.add_argument('-b', '--track2_peaks', type=str, help='ChIP-seq H3K27ac peak')\n",
    "parser.add_argument('-c', '--track3_peaks', type=str, help='ChIP-seq H3K4me3 peak')\n",
    "parser.add_argument('-d', '--track4_peaks', type=str, help='ChIP-seq H3K9ac peak')\n",
    "parser.add_argument('-e', '--track5_peaks', type=str, help='ChIP-seq H3K4me1 peak')\n",
    "parser.add_argument('-f', '--track1_bw', type=str, help='chromatin accessibility bigWig')\n",
    "parser.add_argument('-g', '--track2_bw', type=str, help='ChIP-seq H3K27ac bigWig')\n",
    "parser.add_argument('-i', '--track3_bw', type=str, help='ChIP-seq H3K4me3 bigWig')\n",
    "parser.add_argument('-j', '--track4_bw', type=str, help='ChIP-seq H3K9ac bigWig')\n",
    "parser.add_argument('-k', '--track5_bw', type=str, help='ChIP-seq H3K4me1 bigWig')\n",
    "\n",
    "cell_type = \"NPC\"\n",
    "\n",
    "#simulate command line input\n",
    "seqdir = \"/gpfs/ysm/scratch60/gerstein/zc264/ChromVar/enhancer-prediction/encode/datasets/\" + cell_type + \"/\"\n",
    "cmdline_str='-w ' + \" HepG2,K562,A549,HCT116,MCF-7 \" + \\\n",
    "    ' -x ' + \"/gpfs/ysm/scratch60/gerstein/zc264/ChromVar/enhancer-prediction/encode/dev/encoded_2overlap/DNase/\" + \\\n",
    "    ' -y ' + \"NPC\" + \\\n",
    "    ' -z ' + \"/gpfs/ysm/scratch60/gerstein/zc264/ChromVar/enhancer-prediction/encode/dev/output/\" + \\\n",
    "    ' -a ' + seqdir+cell_type+\".DNase-seq.narrowPeak\" + \\\n",
    "    ' -b ' + seqdir+cell_type+\".ChIP-seq.H3K27ac.narrowPeak\" + \\\n",
    "    ' -c ' + seqdir+cell_type+\".ChIP-seq.H3K4me3.narrowPeak\" + \\\n",
    "    ' -d ' + seqdir+cell_type+\".ChIP-seq.H3K9ac.narrowPeak\" + \\\n",
    "    ' -e ' + seqdir+cell_type+\".ChIP-seq.H3K4me1.narrowPeak\" + \\\n",
    "    ' -f ' + seqdir+cell_type+\".DNase-seq.bigWig\" + \\\n",
    "    ' -g ' + seqdir+cell_type+\".ChIP-seq.H3K27ac.bigWig\" + \\\n",
    "    ' -i ' + seqdir+cell_type+\".ChIP-seq.H3K4me3.bigWig\" + \\\n",
    "    ' -j ' + seqdir+cell_type+\".ChIP-seq.H3K9ac.bigWig\" + \\\n",
    "    ' -k ' + seqdir+cell_type+\".ChIP-seq.H3K4me1.bigWig\"\n",
    "\n",
    "seq_names = [\"DNase\", \"H3K27ac\", \"H3K4me3\", \"H3K9ac\", \"H3K4me1\"]\n",
    "\n",
    "#check if the files are there\n",
    "args = parser.parse_args(cmdline_str.split())\n",
    "args.cell_types = args.cell_types.split(\",\")\n",
    "for cell in args.cell_types:\n",
    "    for seq in seq_names:\n",
    "        pos_file = args.in_dir + cell + \".\" + seq + \".pos.tsv\"\n",
    "        if not os.path.exists(pos_file):\n",
    "            print(pos_file + \" file does not exist\")\n",
    "            exit(1)\n",
    "        neg_file = args.in_dir + cell + \".\" + seq + \".neg.tsv\"\n",
    "        if not os.path.exists(neg_file):\n",
    "            print(neg_file + \" file does not exist\")\n",
    "            exit(1)\n",
    "            \n",
    "for key, value in vars(args).items():\n",
    "    if key == \"cell_types\" or key == \"in_dir\" or key == \"out_dir\" or key == \"cell_name\":\n",
    "        continue\n",
    "    else:\n",
    "        if not os.path.exists(value):\n",
    "            print(key + \" argument file does not exist\")\n",
    "            exit(1)\n",
    "print(\"all files found!\")\n",
    "\n",
    "#construct a set of autosome + X chromosome names\n",
    "chromosomes = []\n",
    "for i in range(1,23):\n",
    "    chromosomes.append(\"chr\"+str(i))\n",
    "chromosomes.append(\"chrX\")\n",
    "print(chromosomes)\n",
    "print(\"all files found!\")"
   ]
  },
  {
   "cell_type": "code",
   "execution_count": 5,
   "metadata": {},
   "outputs": [],
   "source": [
    "#load in original bed from prediction\n",
    "encode_bed = pybedtools.BedTool(\"/gpfs/ysm/scratch60/gerstein/zc264/ChromVar/enhancer-prediction/encode/datasets/NPC/NPC.ENCODE_cCRE.bed\")\n",
    "\n",
    "#load in fantom NSC\n",
    "fan_nsc_bed = pybedtools.BedTool(\"/gpfs/ysm/scratch60/gerstein/zc264/ChromVar/enhancer-prediction/encode/datasets/fantom_enhancers/neuronal_stem_cell_differentially_expressed_enhancers.bed.mapped.hg38.bed\").sort()\n",
    "\n",
    "#load in fantom gen\n",
    "fan_gen_bed = pybedtools.BedTool(\"/gpfs/ysm/scratch60/gerstein/zc264/ChromVar/enhancer-prediction/encode/datasets/fantom_enhancers/human_permissive_enhancers_phase_1_and_2.bed.mapped.hg38.bed\").sort()\n",
    "\n",
    "#load in original bed from prediction\n",
    "original_bed = pybedtools.BedTool(args.out_dir + args.cell_name + \".all.prediction_pos_regions.50.merged.bed\")\n",
    "\n",
    "#load in bed refined by grad cam\n",
    "refined_bed = pybedtools.BedTool(args.out_dir + args.cell_name + \".all.prediction_pos_regions.50.filtered.bed\")"
   ]
  },
  {
   "cell_type": "code",
   "execution_count": 8,
   "metadata": {},
   "outputs": [
    {
     "name": "stdout",
     "output_type": "stream",
     "text": [
      "ENCODE cCRE has a total coverage of 253321371 bp\n",
      "FANTOM human has a total coverage of 18398234 bp\n",
      "FANTOM NSC has a total coverage of 88514 bp\n",
      "original prediction has a total coverage of 69202000 bp\n",
      "refined prediction has a total coverage of 8726800 bp\n"
     ]
    },
    {
     "data": {
      "image/png": "[encoded data removed]",
      "text/plain": [
       "<Figure size 360x360 with 1 Axes>"
      ]
     },
     "metadata": {
      "needs_background": "light"
     },
     "output_type": "display_data"
    }
   ],
   "source": [
    "print(\"ENCODE cCRE has a total coverage of\", encode_bed.total_coverage(), \"bp\")\n",
    "print(\"FANTOM human has a total coverage of\", fan_gen_bed.total_coverage(), \"bp\")\n",
    "print(\"FANTOM NSC has a total coverage of\", fan_nsc_bed.total_coverage(), \"bp\")\n",
    "print(\"original prediction has a total coverage of\", original_bed.total_coverage(), \"bp\")\n",
    "print(\"refined prediction has a total coverage of\", refined_bed.total_coverage(), \"bp\")\n",
    "matplotlib.rcParams.update({'font.size': 16})\n",
    "fig = plt.figure(figsize=(5, 5))\n",
    "plt.bar(np.array([0, 0.3, 0.6, 0.9, 1.2]), \n",
    "        np.array([encode_bed.total_coverage(),\n",
    "                  fan_gen_bed.total_coverage(),\n",
    "                  fan_nsc_bed.total_coverage(),\n",
    "                  original_bed.total_coverage(), \n",
    "                  refined_bed.total_coverage()]), \n",
    "        width = 0.25,\n",
    "        align='center',\n",
    "        color = [\"#FFD700\", \"#93F372\", \"#72F3CE\", \"#A6CEE3\", \"#1F78B4\"])\n",
    "plt.xticks(np.array([0, 0.3, 0.6, 0.9, 1.2]), np.array([\"ENCODE\\ncCRE\", \"FANTOM\\nHuman\", \"FANTOM\\nNSC\", \n",
    "                                                        \"Original\", \"Refined\"]))\n",
    "fig.suptitle('Total Coverage', fontsize=20)\n",
    "plt.ylabel('Ten Million Base Pairs', fontsize=16)\n",
    "plt.savefig('DECODE.total_coverage.pdf')"
   ]
  },
  {
   "cell_type": "code",
   "execution_count": 44,
   "metadata": {},
   "outputs": [],
   "source": [
    "eQTLs = \"/gpfs/ysm/scratch60/gerstein/zc264/ChromVar/enhancer-prediction/encode/datasets/validation/eQTLs/DER-08b_hg38_eQTL.bonferroni.txt\"\n",
    "cQTLs = \"/gpfs/ysm/scratch60/gerstein/zc264/ChromVar/enhancer-prediction/encode/datasets/validation/eQTLs/DER-09_hg38_cQTL.significant.txt\""
   ]
  },
  {
   "cell_type": "code",
   "execution_count": 46,
   "metadata": {},
   "outputs": [],
   "source": [
    "eQTL_df = pd.read_csv(eQTLs, sep=\"\\t\")\n",
    "cQTL_df = pd.read_csv(cQTLs, sep=\"\\t\")\n",
    "eQTL_df = eQTL_df.groupby([\"SNP_chr\", \"SNP_start\", \"SNP_end\"]).size().reset_index(name='Freq')\n",
    "cQTL_df = cQTL_df.groupby([\"SNP_chr\", \"SNP_start\", \"SNP_end\"]).size().reset_index(name='Freq')\n",
    "eQTL_df.to_csv(eQTLs.replace(\"txt\", \"bed\"), sep=\"\\t\", header=False, index=False)\n",
    "cQTL_df.to_csv(cQTLs.replace(\"txt\", \"bed\"), sep=\"\\t\", header=False, index=False)"
   ]
  },
  {
   "cell_type": "code",
   "execution_count": 47,
   "metadata": {},
   "outputs": [
    {
     "name": "stdout",
     "output_type": "stream",
     "text": [
      "a total of 439169 eQTL snps\n",
      "original prediction has 11789 overlap with eQTL snps\n",
      "refined prediction has 1858 overlap with eQTL snps\n"
     ]
    },
    {
     "data": {
      "image/png": "[encoded data removed]",
      "text/plain": [
       "<Figure size 288x360 with 1 Axes>"
      ]
     },
     "metadata": {
      "needs_background": "light"
     },
     "output_type": "display_data"
    }
   ],
   "source": [
    "#compare eQTL overlap\n",
    "eQTL_snps = pybedtools.BedTool(eQTLs.replace(\"txt\", \"bed\")).sort().merge()\n",
    "print(\"a total of\", eQTL_snps.count(), \"eQTL snps\")\n",
    "print(\"original prediction has\", original_bed.intersect(eQTL_snps).count(), \"overlap with eQTL snps\")\n",
    "print(\"refined prediction has\", refined_bed.intersect(eQTL_snps).count(), \"overlap with eQTL snps\")\n",
    "fig = plt.figure(figsize=(4, 5))\n",
    "plt.bar(np.array([0, 0.3]), \n",
    "        np.array([original_bed.intersect(eQTL_snps).count(), \n",
    "                  refined_bed.intersect(eQTL_snps).count()]), \n",
    "        width = 0.25,\n",
    "        color = [\"#A6CEE3\", \"#1F78B4\"])\n",
    "plt.xticks(np.array([0, 0.3]), np.array([\"Original\", \"Refined\"]))\n",
    "fig.suptitle('eQTL overlap', fontsize=20)\n",
    "plt.ylabel('Count', fontsize=16)\n",
    "plt.savefig('DECODE.eQTL.pdf')"
   ]
  },
  {
   "cell_type": "code",
   "execution_count": 48,
   "metadata": {},
   "outputs": [
    {
     "name": "stdout",
     "output_type": "stream",
     "text": [
      "a total of 1903 cQTL snps\n",
      "original prediction has 93 overlap with cQTL snps\n",
      "refined prediction has 19 overlap with cQTL snps\n"
     ]
    },
    {
     "data": {
      "image/png": "[encoded data removed]",
      "text/plain": [
       "<Figure size 288x360 with 1 Axes>"
      ]
     },
     "metadata": {
      "needs_background": "light"
     },
     "output_type": "display_data"
    }
   ],
   "source": [
    "#compare cQTL overlap\n",
    "cQTL_snps = pybedtools.BedTool(cQTLs.replace(\"txt\", \"bed\")).sort().merge()\n",
    "print(\"a total of\", cQTL_snps.count(), \"cQTL snps\")\n",
    "print(\"original prediction has\", original_bed.intersect(cQTL_snps).count(), \"overlap with cQTL snps\")\n",
    "print(\"refined prediction has\", refined_bed.intersect(cQTL_snps).count(), \"overlap with cQTL snps\")\n",
    "fig = plt.figure(figsize=(4, 5))\n",
    "plt.bar(np.array([0, 0.3]), \n",
    "        np.array([original_bed.intersect(cQTL_snps).count(), \n",
    "                  refined_bed.intersect(cQTL_snps).count()]), \n",
    "        width = 0.25,\n",
    "        color = [\"#A6CEE3\", \"#1F78B4\"])\n",
    "plt.xticks(np.array([0, 0.3]), np.array([\"Original\", \"Refined\"]))\n",
    "fig.suptitle('cQTL overlap', fontsize=20)\n",
    "plt.ylabel('Count', fontsize=16)\n",
    "plt.savefig('DECODE.cQTL.pdf')"
   ]
  },
  {
   "cell_type": "code",
   "execution_count": 49,
   "metadata": {},
   "outputs": [
    {
     "name": "stdout",
     "output_type": "stream",
     "text": [
      "[0.00016567887594450134, 0.00016218947970767194, 0.00015816706961610592, 0.00017035634808242536, 0.00021290736581564834]\n",
      "[2.3447050689139332e-173, 1.0233172301472515e-10, 0.3992687591835361, 1.1300668421248476e-70, 1.27141134244627e-56]\n",
      "[1.1132104602418245e-06, 1.141413898747021e-06, 0.0, 1.3438917950348255e-06, 2.1772012650685245e-06]\n",
      "[4.604226205238858e-19, 0.007380355258683519, 1.0, 3.410488895946391e-11, 4.685609067784791e-06]\n"
     ]
    }
   ],
   "source": [
    "genome_size = 3049315783 # biostars.org/p/186666/\n",
    "eQTL_number = eQTL_snps.count()\n",
    "eQTL_sp = eQTL_number / genome_size\n",
    "cQTL_number = cQTL_snps.count()\n",
    "cQTL_sp = cQTL_number / genome_size\n",
    "from scipy import stats\n",
    "\n",
    "eqtl_op = []\n",
    "eqtl_pval = []\n",
    "cqtl_op = []\n",
    "cqtl_pval = []\n",
    "for i in [encode_bed, fan_gen_bed, fan_nsc_bed, original_bed, refined_bed]:\n",
    "    eqtl_op.append(i.intersect(eQTL_snps).count()/i.total_coverage())\n",
    "    cqtl_op.append(i.intersect(cQTL_snps).count()/i.total_coverage())\n",
    "    eQTL_test = stats.binom_test(i.intersect(eQTL_snps).count(), n=i.total_coverage(), p=eQTL_sp, alternative='greater')\n",
    "    cQTL_test = stats.binom_test(i.intersect(cQTL_snps).count(), n=i.total_coverage(), p=cQTL_sp, alternative='greater')\n",
    "    eqtl_pval.append(eQTL_test)\n",
    "    cqtl_pval.append(cQTL_test)\n",
    "\n",
    "print(eqtl_op)\n",
    "print(eqtl_pval)\n",
    "print(cqtl_op)\n",
    "print(cqtl_pval)"
   ]
  },
  {
   "cell_type": "code",
   "execution_count": 32,
   "metadata": {},
   "outputs": [
    {
     "name": "stdout",
     "output_type": "stream",
     "text": [
      "ENCODE cCRE prediction phastCons score is 0.05090410768357362\n",
      "Fantom NSC prediction phastCons score is 0.0201740011381124\n",
      "Fantom Human prediction phastCons score is 0.04563991702112464\n",
      "original prediction phastCons score is 0.09216967104412493\n",
      "refined prediction phastCons score is 0.11769781306605129\n"
     ]
    }
   ],
   "source": [
    "phastCons = pyBigWig.open(\"/gpfs/ysm/scratch60/gerstein/zc264/ChromVar/enhancer-prediction/encode/dev/hg38.phastCons100way.bw\")\n",
    "\n",
    "encode_phastCons = [float(phastCons.stats(x.chrom, x.start, x.stop)[0] or 0) for x in encode_bed]\n",
    "fan_nsc_pahstCons = [float(phastCons.stats(x.chrom, x.start, x.stop)[0] or 0) for x in fan_nsc_bed]\n",
    "fan_gen_phastCons = [float(phastCons.stats(x.chrom, x.start, x.stop)[0] or 0) for x in fan_gen_bed]\n",
    "original_phastCons = [float(phastCons.stats(x.chrom, x.start, x.stop)[0] or 0) for x in original_bed]\n",
    "refined_pahstCons = [float(phastCons.stats(x.chrom, x.start, x.stop)[0] or 0) for x in refined_bed]\n",
    "\n",
    "encode_phastCons = np.nan_to_num(np.array(encode_phastCons))\n",
    "fan_nsc_pahstCons = np.nan_to_num(np.array(fan_nsc_pahstCons))\n",
    "fan_gen_phastCons = np.nan_to_num(np.array(fan_gen_phastCons))\n",
    "original_phastCons = np.nan_to_num(np.array(original_phastCons))\n",
    "refined_pahstCons = np.nan_to_num(np.array(refined_pahstCons))\n",
    "\n",
    "print(\"ENCODE cCRE prediction phastCons score is\", np.median(encode_phastCons))\n",
    "print(\"Fantom NSC prediction phastCons score is\", np.median(fan_nsc_pahstCons))\n",
    "print(\"Fantom Human prediction phastCons score is\", np.median(fan_gen_phastCons))\n",
    "print(\"original prediction phastCons score is\", np.median(original_phastCons))\n",
    "print(\"refined prediction phastCons score is\", np.median(refined_pahstCons))\n"
   ]
  },
  {
   "cell_type": "code",
   "execution_count": 71,
   "metadata": {},
   "outputs": [
    {
     "name": "stdout",
     "output_type": "stream",
     "text": [
      "0.00e+00\n",
      "0.00e+00\n"
     ]
    },
    {
     "data": {
      "image/png": "[encoded data removed]",
      "text/plain": [
       "<Figure size 576x360 with 1 Axes>"
      ]
     },
     "metadata": {
      "needs_background": "light"
     },
     "output_type": "display_data"
    }
   ],
   "source": [
    "t, p = f_oneway(original_phastCons, refined_pahstCons)\n",
    "print('{:.2e}'.format(p))\n",
    "\n",
    "t, p = ttest_ind(original_phastCons, refined_pahstCons)\n",
    "print('{:.2e}'.format(p))\n",
    "\n",
    "# fig = plt.figure(figsize=(4, 5))\n",
    "# box = plt.boxplot(np.array([np.array(original_phastCons), \n",
    "#                             np.array(refined_pahstCons)]), \n",
    "#                   labels=np.array([\"Original\", \"Refined\"]),\n",
    "#                   boxprops=dict(color=\"#A6CEE3\"),\n",
    "#                   patch_artist=True, notch=True)\n",
    "# fig.suptitle('PhastCons Score (p-value=' + str(p) + \")\", fontsize=20)\n",
    "# plt.ylabel('Signal Distribution', fontsize=16)\n",
    "\n",
    "# colors = [\"#A6CEE3\", \"#1F78B4\"]\n",
    "\n",
    "# plt.show();\n",
    "\n",
    "fig = plt.figure(figsize=(8, 5))\n",
    "c = \"#FFD700\"\n",
    "box1 = plt.boxplot(np.array(encode_phastCons), positions=[1], patch_artist=True,\n",
    "            boxprops=dict(facecolor=c, color=c),\n",
    "            capprops=dict(color=c),\n",
    "            whiskerprops=dict(color=c),\n",
    "            flierprops=dict(color=c, markeredgecolor=c),\n",
    "            medianprops=dict(color=c))\n",
    "plt.setp(box1[\"medians\"], color=\"black\")\n",
    "\n",
    "c3 = \"#72F3CE\"\n",
    "box3 = plt.boxplot(np.array(fan_gen_phastCons), \n",
    "                   positions=[2],\n",
    "                   patch_artist=True)\n",
    "for item in ['boxes', 'whiskers', 'fliers', 'medians', 'caps']:\n",
    "        plt.setp(box3[item], color=c3)\n",
    "plt.setp(box3[\"boxes\"], facecolor=c3)\n",
    "plt.setp(box3[\"medians\"], color=\"black\")\n",
    "plt.setp(box3[\"fliers\"], markeredgecolor=c3)\n",
    "\n",
    "c4 = \"#93F372\"\n",
    "box4 = plt.boxplot(np.array(fan_nsc_pahstCons), \n",
    "                   positions=[3],\n",
    "                   patch_artist=True)\n",
    "for item in ['boxes', 'whiskers', 'fliers', 'medians', 'caps']:\n",
    "        plt.setp(box4[item], color=c4)\n",
    "plt.setp(box4[\"boxes\"], facecolor=c4)\n",
    "plt.setp(box4[\"medians\"], color=\"black\")\n",
    "plt.setp(box4[\"fliers\"], markeredgecolor=c4)\n",
    "\n",
    "c1 = \"#A6CEE3\"\n",
    "box1 = plt.boxplot(np.array(original_phastCons), \n",
    "                   positions=[4],\n",
    "                   patch_artist=True)\n",
    "for item in ['boxes', 'whiskers', 'fliers', 'medians', 'caps']:\n",
    "        plt.setp(box1[item], color=c1)\n",
    "plt.setp(box1[\"boxes\"], facecolor=c1)\n",
    "plt.setp(box1[\"medians\"], color=\"black\")\n",
    "plt.setp(box1[\"fliers\"], markeredgecolor=c1)\n",
    "\n",
    "\n",
    "c2 = \"#1F78B4\"\n",
    "box2 = plt.boxplot(np.array(refined_pahstCons), \n",
    "                   positions=[5],\n",
    "                   patch_artist=True)\n",
    "for item in ['boxes', 'whiskers', 'fliers', 'medians', 'caps']:\n",
    "        plt.setp(box2[item], color=c2)\n",
    "plt.setp(box2[\"boxes\"], facecolor=c2)\n",
    "plt.setp(box2[\"medians\"], color=\"black\")\n",
    "plt.setp(box2[\"fliers\"], markeredgecolor=c2)\n",
    "\n",
    "plt.ylabel('Signal Distribution', fontsize=16)\n",
    "fig.suptitle('PhastCons Score', fontsize=20)\n",
    "plt.ylim(0, 1.2)\n",
    "plt.xticks([1, 2, 3, 4, 5], ['ENCODE\\ncCRE', 'FANTOM\\nHuman', 'FANTOM\\nNSC', 'Original', 'Refined'])\n",
    "plt.savefig('DECODE.phastCONs.pdf')\n",
    "plt.show();\n",
    "\n",
    "# fig = plt.figure(figsize=(4, 5))\n",
    "# plt.bar(np.array([\"Original\", \"Refined\"]), np.array([np.sum(original_phastCons), np.sum(refined_pahstCons)]))\n",
    "# fig.suptitle('PhastCons Score', fontsize=20)\n",
    "# plt.ylabel('Total Signal', fontsize=16)"
   ]
  },
  {
   "cell_type": "code",
   "execution_count": 8,
   "metadata": {},
   "outputs": [
    {
     "data": {
      "text/plain": [
       "0"
      ]
     },
     "execution_count": 8,
     "metadata": {},
     "output_type": "execute_result"
    }
   ],
   "source": [
    "#hg19 genome lift over\n",
    "liftOver = \"~/liftOver \"\n",
    "hg38_original = args.out_dir + args.cell_name + \".all.prediction_pos_regions.50.merged.bed \"\n",
    "hg38_2_hg19_chain = \"~/hg38ToHg19.over.chain \"\n",
    "hg19_lifted = args.out_dir + args.cell_name + \".all.prediction_pos_regions.50.merged.hg19.lifted.bed \"\n",
    "hg19_unlift = args.out_dir + args.cell_name + \".all.prediction_pos_regions.50.merged.hg19.unlift.bed \"\n",
    "os.system(liftOver + hg38_original + hg38_2_hg19_chain + hg19_lifted + hg19_unlift)\n",
    "\n",
    "liftOver = \"~/liftOver \"\n",
    "hg38_original = args.out_dir + args.cell_name + \".all.prediction_pos_regions.50.filtered.bed \"\n",
    "hg38_2_hg19_chain = \"~/hg38ToHg19.over.chain \"\n",
    "hg19_lifted = args.out_dir + args.cell_name + \".all.prediction_pos_regions.50.filtered.hg19.lifted.bed \"\n",
    "hg19_unlift = args.out_dir + args.cell_name + \".all.prediction_pos_regions.50.filtered.hg19.unlift.bed \"\n",
    "os.system(liftOver + hg38_original + hg38_2_hg19_chain + hg19_lifted + hg19_unlift)"
   ]
  },
  {
   "cell_type": "code",
   "execution_count": 36,
   "metadata": {},
   "outputs": [],
   "source": [
    "#load in original bed from prediction\n",
    "encode_bed = pybedtools.BedTool(\"/gpfs/ysm/scratch60/gerstein/zc264/ChromVar/enhancer-prediction/encode/exp_validation/NPC_input/NPC.ENCODE_cCRE.hg19.mapped.bed\")\n",
    "\n",
    "#load in original bed from prediction\n",
    "original_bed = pybedtools.BedTool(args.out_dir + args.cell_name + \".all.prediction_pos_regions.50.merged.hg19.lifted.bed\")\n",
    "\n",
    "#load in bed refined by grad cam\n",
    "refined_bed = pybedtools.BedTool(args.out_dir + args.cell_name + \".all.prediction_pos_regions.50.filtered.hg19.lifted.bed\")\n",
    "\n",
    "#load in fantom nsc bed from prediction\n",
    "fan_nsc_bed = pybedtools.BedTool(\"/gpfs/ysm/scratch60/gerstein/zc264/ChromVar/enhancer-prediction/encode/datasets/fantom_enhancers/neuronal_stem_cell_differentially_expressed_enhancers.bed.sorted.hg19.bed\")\n",
    "\n",
    "#load in fantom gen bed from prediction\n",
    "fan_gen_bed = pybedtools.BedTool(\"/gpfs/ysm/scratch60/gerstein/zc264/ChromVar/enhancer-prediction/encode/datasets/fantom_enhancers/human_permissive_enhancers_phase_1_and_2.bed.sorted.hg19.bed\")\n"
   ]
  },
  {
   "cell_type": "code",
   "execution_count": 37,
   "metadata": {},
   "outputs": [
    {
     "name": "stdout",
     "output_type": "stream",
     "text": [
      "original done\n",
      "refined done\n",
      "encode done\n",
      "fan nsc done\n",
      "fan gen done\n",
      "3025052.0 444817.0 11202636.0 3633.0 829181.0\n",
      "original done\n",
      "refined done\n",
      "encode done\n",
      "fan nsc done\n",
      "fan gen done\n",
      "302967.0 36007.0 1102787.0 384.0 82681.0\n",
      "original done\n",
      "refined done\n",
      "encode done\n",
      "fan nsc done\n",
      "fan gen done\n",
      "1204207.0 164501.0 4443713.0 1453.0 331819.0\n",
      "original done\n",
      "refined done\n",
      "encode done\n",
      "fan nsc done\n",
      "fan gen done\n",
      "225744.0 26034.0 823010.0 312.0 61803.0\n"
     ]
    }
   ],
   "source": [
    "gnomadrare=\"/gpfs/slayman/pi/gerstein/yy555/Project/RareDAF_redo/New_data_set_9/GetLocal_2/data/gnomad.rare.noncoding.bw\"\n",
    "gnomadcomm=\"/gpfs/slayman/pi/gerstein/yy555/Project/RareDAF_redo/New_data_set_9/GetLocal_2/data/gnomad.comm.noncoding.bw\"\n",
    "pcawgrare=\"/gpfs/slayman/pi/gerstein/yy555/Project/RareDAF_redo/Variant_rare_comm_3/variant_bigwig/pcawg.noncoding.rare.0.0004.bw\"\n",
    "pcawgcomm=\"/gpfs/slayman/pi/gerstein/yy555/Project/RareDAF_redo/Variant_rare_comm_3/variant_bigwig/pcawg.noncoding.comm.0.01.bw\"\n",
    "\n",
    "rare_daf = [gnomadrare, gnomadcomm, pcawgrare, pcawgcomm]\n",
    "original_daf = []\n",
    "refined_daf = []\n",
    "encode_daf = []\n",
    "fan_nsc_daf = []\n",
    "fan_gen_daf = []\n",
    "\n",
    "for r in rare_daf:\n",
    "    rare_daf_bw = pyBigWig.open(r)\n",
    "    \n",
    "    original_raredaf = []\n",
    "    original_bed = pybedtools.BedTool(args.out_dir + args.cell_name + \".all.prediction_pos_regions.50.merged.hg19.lifted.bed\").sort()\n",
    "    for x in original_bed:\n",
    "        try:\n",
    "            results = np.nansum(rare_daf_bw.values(x.chrom, x.start, x.stop))\n",
    "        except:\n",
    "            continue\n",
    "        original_raredaf.append(results)\n",
    "    print(\"original done\")\n",
    "    \n",
    "    refined_raredaf = []\n",
    "    refined_bed = pybedtools.BedTool(args.out_dir + args.cell_name + \".all.prediction_pos_regions.50.filtered.hg19.lifted.bed\").sort()\n",
    "    for x in refined_bed:\n",
    "        try:\n",
    "            results = np.nansum(rare_daf_bw.values(x.chrom, x.start, x.stop))\n",
    "        except:\n",
    "            continue\n",
    "        refined_raredaf.append(results)\n",
    "    print(\"refined done\")\n",
    "    \n",
    "    encode_raredaf = []\n",
    "    encode_bed = pybedtools.BedTool(\"/gpfs/ysm/scratch60/gerstein/zc264/ChromVar/enhancer-prediction/encode/exp_validation/NPC_input/NPC.ENCODE_cCRE.hg19.mapped.bed\").sort()\n",
    "    for x in encode_bed:\n",
    "        try:\n",
    "            results = np.nansum(rare_daf_bw.values(x.chrom, x.start, x.stop))\n",
    "        except:\n",
    "            continue\n",
    "        encode_raredaf.append(results)\n",
    "    print(\"encode done\")\n",
    "    \n",
    "    fan_nsc_raredaf = []\n",
    "    fan_nsc_bed = pybedtools.BedTool(\"/gpfs/ysm/scratch60/gerstein/zc264/ChromVar/enhancer-prediction/encode/datasets/fantom_enhancers/neuronal_stem_cell_differentially_expressed_enhancers.bed.sorted.hg19.bed\").sort()\n",
    "    for x in fan_nsc_bed:\n",
    "        try:\n",
    "            results = np.nansum(rare_daf_bw.values(x.chrom, x.start, x.stop))\n",
    "        except:\n",
    "            continue\n",
    "        fan_nsc_raredaf.append(results)\n",
    "    print(\"fan nsc done\")\n",
    "    \n",
    "    fan_gen_raredaf = []\n",
    "    fan_gen_bed = pybedtools.BedTool(\"/gpfs/ysm/scratch60/gerstein/zc264/ChromVar/enhancer-prediction/encode/datasets/fantom_enhancers/human_permissive_enhancers_phase_1_and_2.bed.sorted.hg19.bed\")\n",
    "    for x in fan_gen_bed:\n",
    "        try:\n",
    "            results = np.nansum(rare_daf_bw.values(x.chrom, x.start, x.stop))\n",
    "        except:\n",
    "            continue\n",
    "        fan_gen_raredaf.append(results)\n",
    "    print(\"fan gen done\")\n",
    "    \n",
    "    \n",
    "    original_signal = np.sum(np.nan_to_num(np.array(original_raredaf)))\n",
    "    refined_signal = np.sum(np.nan_to_num(np.array(refined_raredaf)))\n",
    "    encode_signal = np.sum(np.nan_to_num(np.array(encode_raredaf)))\n",
    "    fan_nsc_signal = np.sum(np.nan_to_num(np.array(fan_nsc_raredaf)))\n",
    "    fan_gen_signal = np.sum(np.nan_to_num(np.array(fan_gen_raredaf)))\n",
    "    \n",
    "    original_daf.append(original_signal)\n",
    "    refined_daf.append(refined_signal)\n",
    "    fan_nsc_daf.append(fan_nsc_signal)\n",
    "    fan_gen_daf.append(fan_gen_signal)\n",
    "    encode_daf.append(encode_signal)\n",
    "    \n",
    "    print(original_signal, refined_signal, encode_signal, fan_nsc_signal, fan_gen_signal)"
   ]
  },
  {
   "cell_type": "code",
   "execution_count": 64,
   "metadata": {},
   "outputs": [
    {
     "name": "stdout",
     "output_type": "stream",
     "text": [
      "[0.91038203 0.90932729 0.90440627 0.90896476 0.92511397]\n"
     ]
    }
   ],
   "source": [
    "gnomad_refined = refined_daf[0] / (refined_daf[0] + refined_daf[1])\n",
    "gnomad_original = original_daf[0] / (original_daf[0] + original_daf[1])\n",
    "gnomad_nsc = fan_nsc_daf[0] / (fan_nsc_daf[0] + fan_nsc_daf[1])\n",
    "gnomad_human = fan_gen_daf[0] / (fan_gen_daf[0] + fan_gen_daf[1])\n",
    "gnomad_encode = encode_daf[0] / (encode_daf[0] + encode_daf[1])\n",
    "print(np.array([gnomad_encode,\n",
    "                  gnomad_human, \n",
    "                  gnomad_nsc,\n",
    "                  gnomad_original,\n",
    "                  gnomad_refined\n",
    "                 ]))"
   ]
  },
  {
   "cell_type": "code",
   "execution_count": 65,
   "metadata": {},
   "outputs": [
    {
     "name": "stdout",
     "output_type": "stream",
     "text": [
      "[0.84373395 0.84298896 0.82322946 0.84213165 0.86336369]\n"
     ]
    }
   ],
   "source": [
    "pcawg_refined = refined_daf[2] / (refined_daf[2] + refined_daf[3])\n",
    "pcawg_original = original_daf[2] / (original_daf[2] + original_daf[3])\n",
    "pcawg_nsc = fan_nsc_daf[2] / (fan_nsc_daf[2] + fan_nsc_daf[3])\n",
    "pcawg_human = fan_gen_daf[2] / (fan_gen_daf[2] + fan_gen_daf[3])\n",
    "pcawg_encode = encode_daf[2] / (encode_daf[2] + encode_daf[3])\n",
    "print(np.array([pcawg_encode,\n",
    "                  pcawg_human, \n",
    "                  pcawg_nsc,\n",
    "                  pcawg_original,\n",
    "                  pcawg_refined\n",
    "                 ]))"
   ]
  },
  {
   "cell_type": "code",
   "execution_count": 59,
   "metadata": {},
   "outputs": [
    {
     "data": {
      "image/png": "[encoded data removed]",
      "text/plain": [
       "<Figure size 576x360 with 1 Axes>"
      ]
     },
     "metadata": {
      "needs_background": "light"
     },
     "output_type": "display_data"
    }
   ],
   "source": [
    "fig = plt.figure(figsize=(8, 5))\n",
    "plt.bar(np.array([0, 0.3, 0.6, 0.9, 1.2]), \n",
    "        np.array([gnomad_encode,\n",
    "                  gnomad_human, \n",
    "                  gnomad_nsc,\n",
    "                  gnomad_original,\n",
    "                  gnomad_refined\n",
    "                 ]), \n",
    "        width = 0.25,\n",
    "        color = [\"#FFD700\", \"#93F372\", \"#72F3CE\", \"#A6CEE3\", \"#1F78B4\"])\n",
    "plt.xticks([0, 0.3, 0.6, 0.9, 1.2], ['ENCODE\\ncCRE', 'FANTOM\\nHuman', 'FANTOM\\nNSC', 'Original', 'Refined'])\n",
    "fig.suptitle('gnomAD Rare DAF', fontsize=20)\n",
    "plt.ylim(0.9, 0.93)\n",
    "plt.ylabel('Percent', fontsize=16)\n",
    "plt.savefig('DECODE.gnomAD.rareDAF.pdf')"
   ]
  },
  {
   "cell_type": "code",
   "execution_count": 61,
   "metadata": {},
   "outputs": [
    {
     "data": {
      "image/png": "[encoded data removed]",
      "text/plain": [
       "<Figure size 576x360 with 1 Axes>"
      ]
     },
     "metadata": {
      "needs_background": "light"
     },
     "output_type": "display_data"
    }
   ],
   "source": [
    "fig = plt.figure(figsize=(8, 5))\n",
    "plt.bar(np.array([0, 0.3, 0.6, 0.9, 1.2]), \n",
    "        np.array([pcawg_encode,\n",
    "                  pcawg_human, \n",
    "                  pcawg_nsc,\n",
    "                  pcawg_original,\n",
    "                  pcawg_refined\n",
    "                 ]), \n",
    "        width = 0.25,\n",
    "        color = [\"#FFD700\", \"#93F372\", \"#72F3CE\", \"#A6CEE3\", \"#1F78B4\"])\n",
    "plt.xticks([0, 0.3, 0.6, 0.9, 1.2], ['ENCODE\\ncCRE', 'FANTOM\\nHuman', 'FANTOM\\nNSC', 'Original', 'Refined'])\n",
    "fig.suptitle('PCAWG Rare DAF', fontsize=20)\n",
    "plt.ylim(0.8, 0.9)\n",
    "plt.ylabel('Percent', fontsize=16)\n",
    "plt.savefig('DECODE.pcawg.rareDAF.pdf')"
   ]
  },
  {
   "cell_type": "code",
   "execution_count": null,
   "metadata": {},
   "outputs": [],
   "source": []
  }
 ],
 "metadata": {
  "kernelspec": {
   "display_name": "Python 3",
   "language": "python",
   "name": "python3"
  },
  "language_info": {
   "codemirror_mode": {
    "name": "ipython",
    "version": 3
   },
   "file_extension": ".py",
   "mimetype": "text/x-python",
   "name": "python",
   "nbconvert_exporter": "python",
   "pygments_lexer": "ipython3",
   "version": "3.6.5"
  }
 },
 "nbformat": 4,
 "nbformat_minor": 2
}
