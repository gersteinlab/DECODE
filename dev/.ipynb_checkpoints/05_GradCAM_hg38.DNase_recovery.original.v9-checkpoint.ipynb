{
 "cells": [
  {
   "cell_type": "code",
   "execution_count": 1,
   "metadata": {},
   "outputs": [
    {
     "name": "stderr",
     "output_type": "stream",
     "text": [
      "Using TensorFlow backend.\n"
     ]
    }
   ],
   "source": [
    "#-----import packages-----#\n",
    "\n",
    "#common python packages\n",
    "import numpy as np\n",
    "import string\n",
    "import random\n",
    "import os\n",
    "import pickle\n",
    "import argparse\n",
    "import wget\n",
    "import math\n",
    "import gc\n",
    "import sys\n",
    "import multiprocessing as mp\n",
    "import matplotlib.pyplot as plt\n",
    "from datetime import datetime\n",
    "from tempfile import TemporaryFile\n",
    "\n",
    "#biological packages\n",
    "import pybedtools\n",
    "from pybedtools import featurefuncs\n",
    "import pyBigWig\n",
    "\n",
    "#machine learning packages\n",
    "import sklearn\n",
    "from sklearn.utils import shuffle\n",
    "from matplotlib import pyplot as plt\n",
    "import pandas as pd\n",
    "from scipy import stats\n",
    "\n",
    "import tensorflow as tf\n",
    "from tensorflow.python.framework import ops\n",
    "\n",
    "import keras.backend as K\n",
    "from keras.models import Sequential, Model\n",
    "from keras.layers import Input, Dense, Dropout, Conv2D, MaxPooling2D, BatchNormalization, Flatten, GlobalAveragePooling2D, Multiply\n",
    "from keras.callbacks import EarlyStopping, ModelCheckpoint\n",
    "from keras.optimizers import Adam\n",
    "from keras import backend as K\n",
    "from keras.engine.topology import Layer, InputSpec\n",
    "from keras.utils import Sequence, plot_model\n",
    "from keras.constraints import unit_norm\n",
    "from keras import regularizers\n",
    "from keras.callbacks import EarlyStopping, Callback, TensorBoard, ReduceLROnPlateau\n",
    "import keras_metrics as km\n",
    "from keras.models import load_model\n",
    "\n",
    "import cv2\n",
    "\n",
    "#notify the OS about GPU\n",
    "os.environ[\"CUDA_DEVICE_ORDER\"]=\"PCI_BUS_ID\"\n",
    "os.environ[\"CUDA_VISIBLE_DEVICES\"] = \"0\"\n",
    "os.environ['KERAS_BACKEND'] = 'tensorflow'"
   ]
  },
  {
   "cell_type": "code",
   "execution_count": 2,
   "metadata": {},
   "outputs": [],
   "source": [
    "def SqueezeExcite(tensor, ratio=16):\n",
    "    nb_channel = K.int_shape(tensor)[-1]\n",
    "\n",
    "    x = GlobalAveragePooling2D()(tensor)\n",
    "    x = Dense(nb_channel // ratio, activation='relu')(x)\n",
    "    x = Dense(nb_channel, activation='sigmoid')(x)\n",
    "\n",
    "    x = Multiply()([tensor, x])\n",
    "    return x\n",
    "\n",
    "def build_model():\n",
    "    K.clear_session()\n",
    "    pool2_list = []\n",
    "    merge_list = []\n",
    "\n",
    "    input_size = Input(shape=(5, 200, 1))\n",
    "    conv1_ = Conv2D(128, (3, 10), padding='same',activation='relu')(input_size)\n",
    "    conv1  = SqueezeExcite(conv1_)\n",
    "    conv2_ = Conv2D(64, (3, 1), padding='same',activation='relu')(conv1)\n",
    "    conv2  = SqueezeExcite(conv2_)\n",
    "    conv3_ = Conv2D(64, (3, 3), padding='same',activation='relu')(conv2)\n",
    "    conv3  = SqueezeExcite(conv3_)\n",
    "    conv4_ = Conv2D(128, (3, 1), padding='same',activation='relu')(conv3)\n",
    "    conv4  = SqueezeExcite(conv4_)\n",
    "    pool1  = MaxPooling2D(pool_size=(2, 2))(conv4)\n",
    "    conv5_ = Conv2D(64, (3, 3), padding='same',activation='relu')(pool1)\n",
    "    conv5  = SqueezeExcite(conv5_)\n",
    "    conv6_ = Conv2D(64, (3, 3), padding='same',activation='relu')(conv5)\n",
    "    conv6  = SqueezeExcite(conv6_)\n",
    "    conv7_ = Conv2D(128, (3, 1), padding='same',activation='relu')(conv6)\n",
    "    conv7  = SqueezeExcite(conv7_)\n",
    "    pool2  = MaxPooling2D(pool_size=(2, 2))(conv7)\n",
    "\n",
    "    x = Flatten()(pool2)\n",
    "    dense1_ = Dense(256, activation='relu')\n",
    "    dense1  = dense1_(x)\n",
    "    x = Dropout(0.4)(dense1)\n",
    "    dense2  = Dense(128, activation='relu')(x)\n",
    "    x = Dropout(0.4)(dense2)\n",
    "    dense3 = Dense(32, activation='relu')(x)\n",
    "    pred_output = Dense(1, activation='sigmoid')(dense3)\n",
    "    model = Model(input=[input_size], output=[pred_output])\n",
    "    model.summary()\n",
    "\n",
    "    return model"
   ]
  },
  {
   "cell_type": "code",
   "execution_count": 2,
   "metadata": {},
   "outputs": [
    {
     "name": "stdout",
     "output_type": "stream",
     "text": [
      "all files found!\n",
      "['chr1', 'chr2', 'chr3', 'chr4', 'chr5', 'chr6', 'chr7', 'chr8', 'chr9', 'chr10', 'chr11', 'chr12', 'chr13', 'chr14', 'chr15', 'chr16', 'chr17', 'chr18', 'chr19', 'chr20', 'chr21', 'chr22', 'chrX']\n",
      "all files found!\n"
     ]
    }
   ],
   "source": [
    "#parsing command line arguments\n",
    "# -----parsing command line arguments-----#\n",
    "parser = argparse.ArgumentParser(description='Training CNN model to predict STARR-seq enhancers based on chromatin accessbility and histone marks')\n",
    "parser.add_argument('-w', '--cell_types', type=str, help='comma separated string of cell_types')\n",
    "parser.add_argument('-x', '--in_dir', type=str, help='input_directory')\n",
    "parser.add_argument('-y', '--cell_name', type=str, help='name of the cell')\n",
    "parser.add_argument('-z', '--out_dir', type=str, help='output_directory')\n",
    "parser.add_argument('-a', '--track1_peaks', type=str, help='chromatin accessibility peak')\n",
    "parser.add_argument('-b', '--track2_peaks', type=str, help='ChIP-seq H3K27ac peak')\n",
    "parser.add_argument('-c', '--track3_peaks', type=str, help='ChIP-seq H3K4me3 peak')\n",
    "parser.add_argument('-d', '--track4_peaks', type=str, help='ChIP-seq H3K9ac peak')\n",
    "parser.add_argument('-e', '--track5_peaks', type=str, help='ChIP-seq H3K4me1 peak')\n",
    "parser.add_argument('-f', '--track1_bw', type=str, help='chromatin accessibility bigWig')\n",
    "parser.add_argument('-g', '--track2_bw', type=str, help='ChIP-seq H3K27ac bigWig')\n",
    "parser.add_argument('-i', '--track3_bw', type=str, help='ChIP-seq H3K4me3 bigWig')\n",
    "parser.add_argument('-j', '--track4_bw', type=str, help='ChIP-seq H3K9ac bigWig')\n",
    "parser.add_argument('-k', '--track5_bw', type=str, help='ChIP-seq H3K4me1 bigWig')\n",
    "\n",
    "cell_type = \"NPC\"\n",
    "\n",
    "#simulate command line input\n",
    "seqdir = \"/gpfs/ysm/scratch60/gerstein/zc264/ChromVar/enhancer-prediction/encode/datasets/\" + cell_type + \"/\"\n",
    "cmdline_str='-w ' + \" HepG2,K562,A549,HCT116,MCF-7 \" + \\\n",
    "    ' -x ' + \"/gpfs/ysm/scratch60/gerstein/zc264/ChromVar/enhancer-prediction/encode/pipeline/encoded/DNase/\" + \\\n",
    "    ' -y ' + cell_type + \\\n",
    "    ' -z ' + \"/gpfs/ysm/scratch60/gerstein/zc264/ChromVar/enhancer-prediction/encode/pipeline/output/\" + \\\n",
    "    ' -a ' + seqdir+cell_type+\".DNase-seq.narrowPeak\" + \\\n",
    "    ' -b ' + seqdir+cell_type+\".ChIP-seq.H3K27ac.narrowPeak\" + \\\n",
    "    ' -c ' + seqdir+cell_type+\".ChIP-seq.H3K4me3.narrowPeak\" + \\\n",
    "    ' -d ' + seqdir+cell_type+\".ChIP-seq.H3K9ac.narrowPeak\" + \\\n",
    "    ' -e ' + seqdir+cell_type+\".ChIP-seq.H3K4me1.narrowPeak\" + \\\n",
    "    ' -f ' + seqdir+cell_type+\".DNase-seq.bigWig\" + \\\n",
    "    ' -g ' + seqdir+cell_type+\".ChIP-seq.H3K27ac.bigWig\" + \\\n",
    "    ' -i ' + seqdir+cell_type+\".ChIP-seq.H3K4me3.bigWig\" + \\\n",
    "    ' -j ' + seqdir+cell_type+\".ChIP-seq.H3K9ac.bigWig\" + \\\n",
    "    ' -k ' + seqdir+cell_type+\".ChIP-seq.H3K4me1.bigWig\"\n",
    "\n",
    "seq_names = [\"DNase\", \"H3K27ac\", \"H3K4me3\", \"H3K9ac\", \"H3K4me1\"]\n",
    "\n",
    "#check if the files are there\n",
    "args = parser.parse_args(cmdline_str.split())\n",
    "args.cell_types = args.cell_types.split(\",\")\n",
    "for cell in args.cell_types:\n",
    "    for seq in seq_names:\n",
    "        pos_file = args.in_dir + cell + \".\" + seq + \".pos.tsv\"\n",
    "        if not os.path.exists(pos_file):\n",
    "            print(pos_file + \" file does not exist\")\n",
    "            exit(1)\n",
    "        neg_file = args.in_dir + cell + \".\" + seq + \".neg.tsv\"\n",
    "        if not os.path.exists(neg_file):\n",
    "            print(neg_file + \" file does not exist\")\n",
    "            exit(1)\n",
    "            \n",
    "for key, value in vars(args).items():\n",
    "    if key == \"cell_types\" or key == \"in_dir\" or key == \"out_dir\" or key == \"cell_name\":\n",
    "        continue\n",
    "    else:\n",
    "        if not os.path.exists(value):\n",
    "            print(key + \" argument file does not exist\")\n",
    "            exit(1)\n",
    "print(\"all files found!\")\n",
    "\n",
    "#construct a set of autosome + X chromosome names\n",
    "chromosomes = []\n",
    "for i in range(1,23):\n",
    "    chromosomes.append(\"chr\"+str(i))\n",
    "chromosomes.append(\"chrX\")\n",
    "print(chromosomes)\n",
    "print(\"all files found!\")"
   ]
  },
  {
   "cell_type": "code",
   "execution_count": 3,
   "metadata": {},
   "outputs": [
    {
     "ename": "NameError",
     "evalue": "name 'get_signal' is not defined",
     "output_type": "error",
     "traceback": [
      "\u001b[0;31m---------------------------------------------------------------------------\u001b[0m",
      "\u001b[0;31mNameError\u001b[0m                                 Traceback (most recent call last)",
      "\u001b[0;32m<ipython-input-3-57d68e37ba1e>\u001b[0m in \u001b[0;36m<module>\u001b[0;34m\u001b[0m\n\u001b[1;32m      2\u001b[0m input_list = [[x, args.out_dir + args.cell_name + \".all.prediction_pos_regions.50.bed\"] \n\u001b[1;32m      3\u001b[0m               for x in [args.track1_bw, args.track2_bw, args.track3_bw, args.track4_bw, args.track5_bw]]\n\u001b[0;32m----> 4\u001b[0;31m \u001b[0msignal_files\u001b[0m \u001b[0;34m=\u001b[0m \u001b[0mp\u001b[0m\u001b[0;34m.\u001b[0m\u001b[0mmap\u001b[0m\u001b[0;34m(\u001b[0m\u001b[0mget_signal\u001b[0m\u001b[0;34m,\u001b[0m \u001b[0minput_list\u001b[0m\u001b[0;34m)\u001b[0m\u001b[0;34m\u001b[0m\u001b[0m\n\u001b[0m\u001b[1;32m      5\u001b[0m \u001b[0mp\u001b[0m\u001b[0;34m.\u001b[0m\u001b[0mclose\u001b[0m\u001b[0;34m(\u001b[0m\u001b[0;34m)\u001b[0m\u001b[0;34m\u001b[0m\u001b[0m\n\u001b[1;32m      6\u001b[0m \u001b[0mp\u001b[0m\u001b[0;34m.\u001b[0m\u001b[0mjoin\u001b[0m\u001b[0;34m(\u001b[0m\u001b[0;34m)\u001b[0m\u001b[0;34m\u001b[0m\u001b[0m\n",
      "\u001b[0;31mNameError\u001b[0m: name 'get_signal' is not defined"
     ]
    }
   ],
   "source": [
    "p = mp.Pool(5)\n",
    "input_list = [[x, args.out_dir + args.cell_name + \".all.prediction_pos_regions.50.bed\"] \n",
    "              for x in [args.track1_bw, args.track2_bw, args.track3_bw, args.track4_bw, args.track5_bw]]\n",
    "signal_files = p.map(get_signal, input_list)\n",
    "p.close()\n",
    "p.join()\n",
    "\n",
    "print(\"finished multiprocess IO\")\n",
    "sys.stdout.flush()"
   ]
  },
  {
   "cell_type": "code",
   "execution_count": null,
   "metadata": {},
   "outputs": [],
   "source": [
    "#reformat the validation values\n",
    "#using lists reduces memory footprint\n",
    "for s in range(len(signal_files)):\n",
    "    signal_files[s] = [np.array(i) for i in signal_files[s]]\n",
    "\n",
    "predicted_pos = pybedtools.BedTool().window_maker(b=args.out_dir + args.cell_name + \".all.prediction_pos_regions.50.bed\", n=200)\n",
    "print(predicted_pos.count())\n",
    "predicted_pos.saveas(args.out_dir + args.cell_name + \".all.prediction_pos_regions.50.breakdown.bed\")\n",
    "\n",
    "x_validation = []\n",
    "for i in range(len(signal_files[0])):\n",
    "    x_validation.append(np.array([signal_file[i] for signal_file in signal_files]))\n",
    "x_validation = np.nan_to_num(np.array(x_validation, dtype=float))\n",
    "print(x_validation.shape)"
   ]
  },
  {
   "cell_type": "code",
   "execution_count": null,
   "metadata": {},
   "outputs": [],
   "source": [
    "model = build_model()\n",
    "x_validation = np.expand_dims(np.array(x_validation), axis=4)\n",
    "# x_validation = np.expand_dims(x_validation, axis=0) #select one image, and expand to proper dimensions\n",
    "print(x_validation.shape)\n",
    "model = load_model('hg38_evaluation.h5', custom_objects={\"auroc\": auroc, \n",
    "                                                         \"auprc\": auroc, \n",
    "                                                         \"f1_m\": f1_m, \n",
    "                                                         \"recall_m\": recall_m,\n",
    "                                                         \"precision_m\": precision_m})"
   ]
  },
  {
   "cell_type": "code",
   "execution_count": null,
   "metadata": {},
   "outputs": [],
   "source": [
    "def normalize(x):\n",
    "    \"\"\"Utility function to normalize a tensor by its L2 norm\"\"\"\n",
    "    return (x + 1e-10) / (K.sqrt(K.mean(K.square(x))) + 1e-10)\n",
    "\n",
    "def cam_pred_multi_1d(model, X):\n",
    "    \"\"\"GradCAM method for visualizing input saliency.\"\"\"\n",
    "    layer_name = \"conv2d_7\"\n",
    "\n",
    "    y_c = model.output\n",
    "    conv_output = model.get_layer(layer_name).output\n",
    "    grads = K.gradients(y_c, conv_output)[0]\n",
    "\n",
    "    # Normalize if necessary\n",
    "    grads = normalize(grads)\n",
    "    gradient_function = K.function([model.input], [conv_output, grads])\n",
    "\n",
    "    output, grads_val = gradient_function([X])\n",
    "    weights = np.mean(grads_val, axis=(1, 2))\n",
    "\n",
    "    all_cam = []\n",
    "    for i in range(len(weights)):\n",
    "        cam = np.dot(output[i], weights[i])\n",
    "        cam = cv2.resize(cam, (200, 1), cv2.INTER_LINEAR)\n",
    "        cam = np.maximum(cam, 0)\n",
    "        all_cam.append(cam[0])\n",
    "\n",
    "    all_cam = np.array(all_cam)\n",
    "    return all_cam\n",
    "\n",
    "def cam_pred_multi_5d(model, X):\n",
    "    \"\"\"GradCAM method for visualizing input saliency.\"\"\"\n",
    "    layer_name = \"conv2d_7\"\n",
    "\n",
    "    y_c = model.output\n",
    "    conv_output = model.get_layer(layer_name).output\n",
    "    grads = K.gradients(y_c, conv_output)[0]\n",
    "\n",
    "    # Normalize if necessary\n",
    "    grads = normalize(grads)\n",
    "    gradient_function = K.function([model.input], [conv_output, grads])\n",
    "\n",
    "    output, grads_val = gradient_function([X])\n",
    "    weights = np.mean(grads_val, axis=(1, 2))\n",
    "\n",
    "    all_cam = []\n",
    "    for i in range(len(weights)):\n",
    "        cam = np.dot(output[i], weights[i])\n",
    "        cam = cv2.resize(cam, (200, 5), cv2.INTER_LINEAR)\n",
    "        cam = np.maximum(cam, 0)\n",
    "        all_cam.append(cam)\n",
    "\n",
    "    all_cam = np.array(all_cam)\n",
    "    return all_cam\n"
   ]
  },
  {
   "cell_type": "code",
   "execution_count": 39,
   "metadata": {},
   "outputs": [
    {
     "name": "stdout",
     "output_type": "stream",
     "text": [
      "0 ,000\n",
      "10 ,000\n",
      "20 ,000\n",
      "30 ,000\n",
      "40 ,000\n",
      "50 ,000\n",
      "60 ,000\n",
      "70 ,000\n",
      "80 ,000\n",
      "90 ,000\n",
      "100 ,000\n",
      "110 ,000\n",
      "120 ,000\n",
      "130 ,000\n",
      "140 ,000\n",
      "150 ,000\n",
      "160 ,000\n",
      "170 ,000\n",
      "180 ,000\n",
      "(5, 187719, 200)\n"
     ]
    },
    {
     "data": {
      "image/png": "[encoded data removed]",
      "text/plain": [
       "<Figure size 432x288 with 1 Axes>"
      ]
     },
     "metadata": {
      "needs_background": "light"
     },
     "output_type": "display_data"
    },
    {
     "data": {
      "image/png": "[encoded data removed]",
      "text/plain": [
       "<Figure size 432x288 with 1 Axes>"
      ]
     },
     "metadata": {
      "needs_background": "light"
     },
     "output_type": "display_data"
    },
    {
     "data": {
      "image/png": "[encoded data removed]",
      "text/plain": [
       "<Figure size 432x288 with 1 Axes>"
      ]
     },
     "metadata": {
      "needs_background": "light"
     },
     "output_type": "display_data"
    },
    {
     "data": {
      "image/png": "[encoded data removed]",
      "text/plain": [
       "<Figure size 432x288 with 1 Axes>"
      ]
     },
     "metadata": {
      "needs_background": "light"
     },
     "output_type": "display_data"
    },
    {
     "data": {
      "image/png": "[encoded data removed]",
      "text/plain": [
       "<Figure size 432x288 with 1 Axes>"
      ]
     },
     "metadata": {
      "needs_background": "light"
     },
     "output_type": "display_data"
    }
   ],
   "source": [
    "#plot raw_pred_5d\n",
    "raw_pred_5d = []\n",
    "stride = 1000\n",
    "for i in range(int(len(x_validation)/stride) + 1):\n",
    "    if (i % 10 == 0):\n",
    "        print(i, \",000\")\n",
    "    raw_pred_5d.extend(cam_pred_multi_5d(model, x_validation[i * stride: (i+1) * stride]))\n",
    "raw_pred_5d = np.array(raw_pred_5d)\n",
    "\n",
    "raw_pred_per_seq = np.swapaxes(raw_pred_5d,0,1)\n",
    "print(raw_pred_per_seq.shape)\n",
    "\n",
    "for i in range(len(seq_names)):\n",
    "    fig = plt.figure()\n",
    "    plt.boxplot(raw_pred_per_seq[i], showfliers=False);\n",
    "    fig.suptitle(seq_names[i], fontsize=20)\n",
    "    plt.ylabel('Grad-CAM values', fontsize=16)"
   ]
  },
  {
   "cell_type": "code",
   "execution_count": 40,
   "metadata": {},
   "outputs": [
    {
     "name": "stdout",
     "output_type": "stream",
     "text": [
      "0 ,000\n",
      "10 ,000\n",
      "20 ,000\n",
      "30 ,000\n",
      "40 ,000\n",
      "50 ,000\n",
      "60 ,000\n",
      "70 ,000\n",
      "80 ,000\n",
      "90 ,000\n",
      "100 ,000\n",
      "110 ,000\n",
      "120 ,000\n",
      "130 ,000\n",
      "140 ,000\n",
      "150 ,000\n",
      "160 ,000\n",
      "170 ,000\n",
      "180 ,000\n"
     ]
    }
   ],
   "source": [
    "raw_pred_1d = []\n",
    "stride = 1000\n",
    "for i in range(int(len(x_validation)/stride) + 1):\n",
    "    if (i % 10 == 0):\n",
    "        print(str(i) + \",000\")\n",
    "    raw_pred_1d.extend(cam_pred_multi_1d(model, x_validation[i * stride: (i+1) * stride]))\n",
    "raw_pred_1d = np.array(raw_pred_1d)"
   ]
  },
  {
   "cell_type": "code",
   "execution_count": 45,
   "metadata": {},
   "outputs": [
    {
     "name": "stdout",
     "output_type": "stream",
     "text": [
      "DescribeResult(nobs=37543800, minmax=(0.0, 1.154547), mean=0.010495542, variance=0.0007633475, skewness=5.572983264923096, kurtosis=54.291240047027976)\n"
     ]
    }
   ],
   "source": [
    "print(stats.describe(raw_pred_1d.flatten()))\n",
    "\n",
    "#format into bed with proper regions\n",
    "df = pd.read_csv(args.out_dir + args.cell_name + \".all.prediction_pos_regions.50.breakdown.bed\", sep=\"\\t\",header=None)\n",
    "df[4] = \"bin\"\n",
    "df[5] = raw_pred_1d.flatten()\n",
    "df.to_csv(args.out_dir + args.cell_name + \".all.prediction_pos_regions.50.breakdown.raw.bed\", sep=\"\\t\",header=None, index=False)\n",
    "\n",
    "#refine positive predictions, based on fixed baseline, the mean skews enrichment in a weird way\n",
    "grad_cam_filter = np.mean(raw_pred_1d.flatten())\n",
    "# grad_cam_filter = 0.0002\n",
    "df[df[5]>grad_cam_filter].to_csv(args.out_dir + args.cell_name + \".all.prediction_pos_regions.50.breakdown.filtered.bed\", sep=\"\\t\",header=None, index=False)\n",
    "\n",
    "pybedtools.BedTool(args.out_dir + args.cell_name + \".all.prediction_pos_regions.50.breakdown.raw.bed\").sort().merge(c=5, o=\"mean\").saveas(args.out_dir + args.cell_name + \".all.prediction_pos_regions.50.raw.bed\")\n",
    "pybedtools.BedTool(args.out_dir + args.cell_name + \".all.prediction_pos_regions.50.breakdown.filtered.bed\").sort().merge(c=5, o=\"mean\").saveas(args.out_dir + args.cell_name + \".all.prediction_pos_regions.50.filtered.bed\")\n",
    "\n",
    "#format into bed with proper regions\n",
    "df = pd.read_csv(args.out_dir + args.cell_name + \".all.prediction_pos_regions.50.filtered.bed\", sep=\"\\t\",header=None)\n",
    "# df[4] = df[3]\n",
    "# del df[4]\n",
    "df[3] = df.index\n",
    "df.to_csv(args.out_dir + args.cell_name + \".all.prediction_pos_regions.50.filtered.bed\", sep=\"\\t\",header=None, index=False)"
   ]
  },
  {
   "cell_type": "code",
   "execution_count": null,
   "metadata": {},
   "outputs": [],
   "source": []
  }
 ],
 "metadata": {
  "kernelspec": {
   "display_name": "Python 3",
   "language": "python",
   "name": "python3"
  },
  "language_info": {
   "codemirror_mode": {
    "name": "ipython",
    "version": 3
   },
   "file_extension": ".py",
   "mimetype": "text/x-python",
   "name": "python",
   "nbconvert_exporter": "python",
   "pygments_lexer": "ipython3",
   "version": "3.6.5"
  }
 },
 "nbformat": 4,
 "nbformat_minor": 2
}
