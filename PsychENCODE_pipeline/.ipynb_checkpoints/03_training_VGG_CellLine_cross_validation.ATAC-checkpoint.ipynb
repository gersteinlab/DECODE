{
 "cells": [
  {
   "cell_type": "code",
   "execution_count": 1,
   "metadata": {},
   "outputs": [
    {
     "name": "stderr",
     "output_type": "stream",
     "text": [
      "Using TensorFlow backend.\n"
     ]
    }
   ],
   "source": [
    "#-----import packages-----#\n",
    "\n",
    "#common python packages\n",
    "import numpy as np\n",
    "import string\n",
    "import random\n",
    "import os\n",
    "import pickle\n",
    "import argparse\n",
    "import wget\n",
    "import math\n",
    "import matplotlib.pyplot as plt\n",
    "from datetime import datetime\n",
    "\n",
    "#machine learning packages\n",
    "import sklearn\n",
    "import sklearn.metrics\n",
    "from sklearn.utils import shuffle\n",
    "from matplotlib import pyplot as plt\n",
    "\n",
    "import tensorflow as tf\n",
    "\n",
    "import keras.backend as K\n",
    "from keras.models import Sequential, Model\n",
    "from keras.layers import Input, Dense, Dropout, Conv2D, MaxPooling2D, BatchNormalization, Flatten\n",
    "from keras.callbacks import EarlyStopping, ModelCheckpoint\n",
    "from keras.optimizers import Adam\n",
    "from keras import backend as K\n",
    "from keras.engine.topology import Layer, InputSpec\n",
    "from keras.utils import Sequence, plot_model\n",
    "from keras.constraints import unit_norm\n",
    "from keras import regularizers\n",
    "from keras.callbacks import EarlyStopping, Callback, TensorBoard, ReduceLROnPlateau\n",
    "import keras_metrics as km\n",
    "\n",
    "#notify the OS about GPU\n",
    "os.environ[\"CUDA_DEVICE_ORDER\"]=\"PCI_BUS_ID\"\n",
    "os.environ[\"CUDA_VISIBLE_DEVICES\"] = \"0\"\n",
    "os.environ['KERAS_BACKEND'] = 'tensorflow'"
   ]
  },
  {
   "cell_type": "code",
   "execution_count": 2,
   "metadata": {},
   "outputs": [],
   "source": [
    "def auroc(y_true, y_pred):\n",
    "    auc = tf.metrics.auc(y_true, y_pred, curve=\"ROC\", summation_method='careful_interpolation')[1]\n",
    "    K.get_session().run(tf.local_variables_initializer())\n",
    "    return auc\n",
    "\n",
    "def auprc(y_true, y_pred):\n",
    "    auc = tf.metrics.auc(y_true, y_pred, curve='PR', summation_method='careful_interpolation')[1]\n",
    "    K.get_session().run(tf.local_variables_initializer())\n",
    "    return auc\n",
    "\n",
    "def recall_m(y_true, y_pred):\n",
    "    true_positives = K.sum(K.round(K.clip(y_true * y_pred, 0, 1)))\n",
    "    possible_positives = K.sum(K.round(K.clip(y_true, 0, 1)))\n",
    "    recall = true_positives / (possible_positives + K.epsilon())\n",
    "    return recall\n",
    "\n",
    "def precision_m(y_true, y_pred):\n",
    "    true_positives = K.sum(K.round(K.clip(y_true * y_pred, 0, 1)))\n",
    "    predicted_positives = K.sum(K.round(K.clip(y_pred, 0, 1)))\n",
    "    precision = true_positives / (predicted_positives + K.epsilon())\n",
    "    return precision\n",
    "\n",
    "def f1_m(y_true, y_pred):\n",
    "    precision = precision_m(y_true, y_pred)\n",
    "    recall = recall_m(y_true, y_pred)\n",
    "    return 2*((precision*recall)/(precision+recall+K.epsilon()))\n",
    "\n",
    "def load_model():\n",
    "    K.clear_session()\n",
    "    pool2_list = []\n",
    "    merge_list = []\n",
    "\n",
    "    input_size = Input(shape=(5, 200, 1))\n",
    "    conv1_ = Conv2D(128, (3, 10), padding='same',activation='relu')(input_size)\n",
    "    conv2_ = Conv2D(64, (3, 1), padding='same',activation='relu')(conv1_)\n",
    "    conv3_ = Conv2D(64, (3, 3), padding='same',activation='relu')(conv2_)\n",
    "    conv4_ = Conv2D(128, (3, 1), padding='same',activation='relu')(conv3_)\n",
    "    pool1  = MaxPooling2D(pool_size=(2, 2))(conv4_)\n",
    "    conv5_ = Conv2D(64, (3, 3), padding='same',activation='relu')(pool1)\n",
    "    conv6_ = Conv2D(64, (3, 3), padding='same',activation='relu')(conv5_)\n",
    "    conv7_ = Conv2D(128, (3, 1), padding='same',activation='relu')(conv6_)\n",
    "    pool2  = MaxPooling2D(pool_size=(2, 2))(conv7_)\n",
    "\n",
    "    x = Flatten()(pool2)\n",
    "    dense1_ = Dense(256, activation='relu')\n",
    "    dense1  = dense1_(x)\n",
    "    x = Dropout(0.4)(dense1)\n",
    "    dense2  = Dense(128, activation='relu')(x)\n",
    "    x = Dropout(0.4)(dense2)\n",
    "    dense3 = Dense(32, activation='relu')(x)\n",
    "    pred_output = Dense(1, activation='sigmoid')(dense3)\n",
    "    model = Model(input=[input_size], output=[pred_output])\n",
    "    model.summary()\n",
    "\n",
    "    return model"
   ]
  },
  {
   "cell_type": "code",
   "execution_count": 3,
   "metadata": {},
   "outputs": [
    {
     "name": "stdout",
     "output_type": "stream",
     "text": [
      "all files found!\n"
     ]
    }
   ],
   "source": [
    "#parsing command line arguments\n",
    "# -----parsing command line arguments-----#\n",
    "parser = argparse.ArgumentParser(description='Training CNN model to predict STARR-seq enhancers based on chromatin accessbility and histone marks')\n",
    "parser.add_argument('-c', '--cell_types', type=str, help='comma separated string of cell_types')\n",
    "parser.add_argument('-i', '--in_dir', type=str, help='directory containing 01_data_encoding intermediate tsv files')\n",
    "\n",
    "#simulate command line input\n",
    "cmdline_str='-c ' + \" HepG2,K562 \" + \\\n",
    "    ' -i ' + \"/gpfs/ysm/scratch60/gerstein/zc264/ChromVar/enhancer-prediction/encode/pipeline/encoded/ATAC/\"\n",
    "\n",
    "seq_names = [\"ATAC\", \"H3K27ac\", \"H3K4me3\", \"H3K9ac\", \"H3K4me1\"]\n",
    "\n",
    "#check if the files are there\n",
    "args = parser.parse_args(cmdline_str.split())\n",
    "args.cell_types = args.cell_types.split(\",\")\n",
    "for cell in args.cell_types:\n",
    "    for seq in seq_names:\n",
    "        pos_file = args.in_dir + cell + \".\" + seq + \".pos.tsv\"\n",
    "        if not os.path.exists(pos_file):\n",
    "            print(pos_file + \" file does not exist\")\n",
    "            exit(1)\n",
    "        neg_file = args.in_dir + cell + \".\" + seq + \".neg.tsv\"\n",
    "        if not os.path.exists(neg_file):\n",
    "            print(neg_file + \" file does not exist\")\n",
    "            exit(1)\n",
    "print(\"all files found!\")"
   ]
  },
  {
   "cell_type": "code",
   "execution_count": 4,
   "metadata": {},
   "outputs": [],
   "source": [
    "def get_data(cell_types, in_dir, seq_names):\n",
    "\n",
    "    first_cell = True\n",
    "    for cell in cell_types:\n",
    "        print(cell)\n",
    "\n",
    "        pos = []\n",
    "        neg = []\n",
    "        first_seq = True\n",
    "        for seq in seq_names:\n",
    "            print(\"-\"+seq)\n",
    "\n",
    "            pos_name = in_dir+cell+\".\"+seq+\".pos.tsv\"\n",
    "            pos_mat = np.loadtxt(pos_name, delimiter='\\t')\n",
    "\n",
    "            neg_name = in_dir+cell+\".\"+seq+\".neg.tsv\"\n",
    "            neg_mat = np.loadtxt(neg_name, delimiter='\\t')\n",
    "\n",
    "            if first_seq:\n",
    "                for i in pos_mat:\n",
    "                    pos.append(np.array([i]))\n",
    "                for i in neg_mat:\n",
    "                    neg.append(np.array([i]))\n",
    "                first_seq = False\n",
    "            else:\n",
    "                for i in range(len(pos)):\n",
    "                    pos[i] = np.vstack((pos[i], pos_mat[i,]))\n",
    "                for i in range(len(neg)):\n",
    "                    neg[i] = np.vstack((neg[i], neg_mat[i,]))\n",
    "\n",
    "        if first_cell == True:\n",
    "            X_pos = np.array(pos)\n",
    "            X_neg = np.array(neg)\n",
    "            first_cell = False\n",
    "        else:\n",
    "            X_pos = np.vstack((X_pos, pos))\n",
    "            X_neg = np.vstack((X_neg, neg))\n",
    "\n",
    "    X = np.vstack((X_pos, X_neg))\n",
    "    y = np.array([1 for i in range(X_pos.shape[0])] + [0 for i in range(X_pos.shape[0])]).reshape(-1,1)\n",
    "    print(X.shape)\n",
    "    print(y.shape)\n",
    "    \n",
    "    return X, y\n",
    "\n"
   ]
  },
  {
   "cell_type": "code",
   "execution_count": 5,
   "metadata": {},
   "outputs": [],
   "source": [
    "#collect the output of the kfolds\n",
    "history_list = []\n",
    "y_pred_list = []\n",
    "y_test_list = []\n",
    "accuracy_list = []\n",
    "\n",
    "kskip = 0"
   ]
  },
  {
   "cell_type": "code",
   "execution_count": 6,
   "metadata": {},
   "outputs": [
    {
     "name": "stdout",
     "output_type": "stream",
     "text": [
      "K562\n",
      "-ATAC\n",
      "-H3K27ac\n",
      "-H3K4me3\n",
      "-H3K9ac\n",
      "-H3K4me1\n",
      "(26870, 5, 200)\n",
      "(26870, 1)\n",
      "HepG2\n",
      "-ATAC\n"
     ]
    },
    {
     "name": "stderr",
     "output_type": "stream",
     "text": [
      "/gpfs/ysm/project/zc264/conda_envs/old_keras_gpu/lib/python3.6/site-packages/ipykernel_launcher.py:8: DeprecationWarning: Both axis > a.ndim and axis < -a.ndim - 1 are deprecated and will raise an AxisError in the future.\n",
      "  \n"
     ]
    },
    {
     "name": "stdout",
     "output_type": "stream",
     "text": [
      "-H3K27ac\n",
      "-H3K4me3\n",
      "-H3K9ac\n",
      "-H3K4me1\n",
      "(26630, 5, 200)\n",
      "(26630, 1)\n",
      "_________________________________________________________________\n",
      "Layer (type)                 Output Shape              Param #   \n",
      "=================================================================\n",
      "input_1 (InputLayer)         (None, 5, 200, 1)         0         \n",
      "_________________________________________________________________\n",
      "conv2d_1 (Conv2D)            (None, 5, 200, 128)       3968      \n",
      "_________________________________________________________________\n",
      "conv2d_2 (Conv2D)            (None, 5, 200, 64)        24640     \n",
      "_________________________________________________________________\n",
      "conv2d_3 (Conv2D)            (None, 5, 200, 64)        36928     \n",
      "_________________________________________________________________\n",
      "conv2d_4 (Conv2D)            (None, 5, 200, 128)       24704     \n",
      "_________________________________________________________________\n",
      "max_pooling2d_1 (MaxPooling2 (None, 2, 100, 128)       0         \n",
      "_________________________________________________________________\n",
      "conv2d_5 (Conv2D)            (None, 2, 100, 64)        73792     \n",
      "_________________________________________________________________\n",
      "conv2d_6 (Conv2D)            (None, 2, 100, 64)        36928     \n",
      "_________________________________________________________________\n",
      "conv2d_7 (Conv2D)            (None, 2, 100, 128)       24704     \n",
      "_________________________________________________________________\n",
      "max_pooling2d_2 (MaxPooling2 (None, 1, 50, 128)        0         \n",
      "_________________________________________________________________\n",
      "flatten_1 (Flatten)          (None, 6400)              0         \n",
      "_________________________________________________________________\n",
      "dense_1 (Dense)              (None, 256)               1638656   \n",
      "_________________________________________________________________\n",
      "dropout_1 (Dropout)          (None, 256)               0         \n",
      "_________________________________________________________________\n",
      "dense_2 (Dense)              (None, 128)               32896     \n",
      "_________________________________________________________________\n",
      "dropout_2 (Dropout)          (None, 128)               0         \n",
      "_________________________________________________________________\n",
      "dense_3 (Dense)              (None, 32)                4128      \n",
      "_________________________________________________________________\n",
      "dense_4 (Dense)              (None, 1)                 33        \n",
      "=================================================================\n",
      "Total params: 1,901,377\n",
      "Trainable params: 1,901,377\n",
      "Non-trainable params: 0\n",
      "_________________________________________________________________\n"
     ]
    },
    {
     "name": "stderr",
     "output_type": "stream",
     "text": [
      "/gpfs/ysm/project/zc264/conda_envs/old_keras_gpu/lib/python3.6/site-packages/ipykernel_launcher.py:11: DeprecationWarning: Both axis > a.ndim and axis < -a.ndim - 1 are deprecated and will raise an AxisError in the future.\n",
      "  # This is added back by InteractiveShellApp.init_path()\n",
      "/gpfs/ysm/project/zc264/conda_envs/old_keras_gpu/lib/python3.6/site-packages/ipykernel_launcher.py:52: UserWarning: Update your `Model` call to the Keras 2 API: `Model(inputs=[<tf.Tenso..., outputs=[<tf.Tenso...)`\n"
     ]
    },
    {
     "name": "stdout",
     "output_type": "stream",
     "text": [
      "Epoch 1/30\n",
      "26870/26870 [==============================] - 14s 524us/step - loss: 0.1469 - acc: 0.9480 - auroc: 0.9662 - auprc: 0.9621 - f1_m: 0.9536 - recall_m: 0.9827 - precision_m: 0.9345\n",
      "Epoch 2/30\n",
      "26870/26870 [==============================] - 12s 435us/step - loss: 0.0595 - acc: 0.9842 - auroc: 0.9906 - auprc: 0.9855 - f1_m: 0.9838 - recall_m: 0.9936 - precision_m: 0.9752\n",
      "Epoch 3/30\n",
      "26870/26870 [==============================] - 12s 435us/step - loss: 0.0536 - acc: 0.9863 - auroc: 0.9928 - auprc: 0.9884 - f1_m: 0.9861 - recall_m: 0.9952 - precision_m: 0.9782\n",
      "Epoch 4/30\n",
      "26870/26870 [==============================] - 12s 435us/step - loss: 0.0504 - acc: 0.9862 - auroc: 0.9936 - auprc: 0.9895 - f1_m: 0.9856 - recall_m: 0.9946 - precision_m: 0.9777\n",
      "Epoch 5/30\n",
      "26870/26870 [==============================] - 12s 431us/step - loss: 0.0474 - acc: 0.9876 - auroc: 0.9942 - auprc: 0.9903 - f1_m: 0.9875 - recall_m: 0.9960 - precision_m: 0.9801\n",
      "Epoch 6/30\n",
      "26870/26870 [==============================] - 12s 433us/step - loss: 0.0441 - acc: 0.9885 - auroc: 0.9946 - auprc: 0.9910 - f1_m: 0.9883 - recall_m: 0.9965 - precision_m: 0.9808\n",
      "Epoch 7/30\n",
      "26870/26870 [==============================] - 12s 434us/step - loss: 0.0423 - acc: 0.9889 - auroc: 0.9949 - auprc: 0.9915 - f1_m: 0.9886 - recall_m: 0.9962 - precision_m: 0.9819\n",
      "Epoch 8/30\n",
      "26870/26870 [==============================] - 12s 435us/step - loss: 0.0416 - acc: 0.9894 - auroc: 0.9952 - auprc: 0.9919 - f1_m: 0.9893 - recall_m: 0.9968 - precision_m: 0.9826\n",
      "Epoch 9/30\n",
      "26870/26870 [==============================] - 12s 435us/step - loss: 0.0397 - acc: 0.9895 - auroc: 0.9954 - auprc: 0.9922 - f1_m: 0.9892 - recall_m: 0.9972 - precision_m: 0.9821\n",
      "Epoch 10/30\n",
      "26870/26870 [==============================] - 12s 436us/step - loss: 0.0372 - acc: 0.9901 - auroc: 0.9956 - auprc: 0.9926 - f1_m: 0.9897 - recall_m: 0.9972 - precision_m: 0.9831\n",
      "Epoch 11/30\n",
      "26870/26870 [==============================] - 12s 437us/step - loss: 0.0350 - acc: 0.9911 - auroc: 0.9958 - auprc: 0.9930 - f1_m: 0.9908 - recall_m: 0.9975 - precision_m: 0.9848\n",
      "Epoch 12/30\n",
      "26870/26870 [==============================] - 12s 434us/step - loss: 0.0349 - acc: 0.9908 - auroc: 0.9959 - auprc: 0.9932 - f1_m: 0.9906 - recall_m: 0.9973 - precision_m: 0.9846\n",
      "Epoch 13/30\n",
      "26870/26870 [==============================] - 12s 432us/step - loss: 0.0332 - acc: 0.9913 - auroc: 0.9961 - auprc: 0.9935 - f1_m: 0.9911 - recall_m: 0.9974 - precision_m: 0.9854\n",
      "Epoch 14/30\n",
      "26870/26870 [==============================] - 12s 435us/step - loss: 0.0326 - acc: 0.9914 - auroc: 0.9962 - auprc: 0.9937 - f1_m: 0.9913 - recall_m: 0.9978 - precision_m: 0.9854\n",
      "Epoch 15/30\n",
      "26870/26870 [==============================] - 12s 435us/step - loss: 0.0309 - acc: 0.9911 - auroc: 0.9964 - auprc: 0.9939 - f1_m: 0.9910 - recall_m: 0.9971 - precision_m: 0.9855\n",
      "Epoch 16/30\n",
      "26870/26870 [==============================] - 12s 433us/step - loss: 0.0296 - acc: 0.9921 - auroc: 0.9965 - auprc: 0.9941 - f1_m: 0.9920 - recall_m: 0.9979 - precision_m: 0.9866\n",
      "Epoch 17/30\n",
      "26870/26870 [==============================] - 12s 433us/step - loss: 0.0268 - acc: 0.9928 - auroc: 0.9966 - auprc: 0.9943 - f1_m: 0.9926 - recall_m: 0.9981 - precision_m: 0.9877\n",
      "Epoch 18/30\n",
      "26870/26870 [==============================] - 12s 433us/step - loss: 0.0250 - acc: 0.9933 - auroc: 0.9967 - auprc: 0.9946 - f1_m: 0.9929 - recall_m: 0.9981 - precision_m: 0.9883\n",
      "Epoch 19/30\n",
      "26870/26870 [==============================] - 12s 432us/step - loss: 0.0264 - acc: 0.9929 - auroc: 0.9968 - auprc: 0.9948 - f1_m: 0.9927 - recall_m: 0.9976 - precision_m: 0.9884\n",
      "Epoch 20/30\n",
      "26870/26870 [==============================] - 12s 434us/step - loss: 0.0230 - acc: 0.9938 - auroc: 0.9969 - auprc: 0.9949 - f1_m: 0.9934 - recall_m: 0.9980 - precision_m: 0.9894\n",
      "Epoch 21/30\n",
      "26870/26870 [==============================] - 12s 433us/step - loss: 0.0217 - acc: 0.9940 - auroc: 0.9970 - auprc: 0.9951 - f1_m: 0.9937 - recall_m: 0.9980 - precision_m: 0.9899\n",
      "Epoch 22/30\n",
      "26870/26870 [==============================] - 12s 433us/step - loss: 0.0214 - acc: 0.9943 - auroc: 0.9971 - auprc: 0.9953 - f1_m: 0.9940 - recall_m: 0.9984 - precision_m: 0.9901\n",
      "Epoch 23/30\n",
      "26870/26870 [==============================] - 12s 433us/step - loss: 0.0211 - acc: 0.9943 - auroc: 0.9972 - auprc: 0.9954 - f1_m: 0.9940 - recall_m: 0.9979 - precision_m: 0.9905\n",
      "Epoch 24/30\n",
      "26870/26870 [==============================] - 12s 437us/step - loss: 0.0200 - acc: 0.9951 - auroc: 0.9973 - auprc: 0.9955 - f1_m: 0.9952 - recall_m: 0.9988 - precision_m: 0.9919\n",
      "Epoch 25/30\n",
      "26870/26870 [==============================] - 12s 435us/step - loss: 0.0175 - acc: 0.9955 - auroc: 0.9974 - auprc: 0.9956 - f1_m: 0.9954 - recall_m: 0.9984 - precision_m: 0.9927\n",
      "Epoch 26/30\n",
      "26870/26870 [==============================] - 12s 435us/step - loss: 0.0168 - acc: 0.9953 - auroc: 0.9975 - auprc: 0.9958 - f1_m: 0.9952 - recall_m: 0.9983 - precision_m: 0.9925\n",
      "Epoch 27/30\n",
      "26870/26870 [==============================] - 12s 437us/step - loss: 0.0154 - acc: 0.9961 - auroc: 0.9976 - auprc: 0.9959 - f1_m: 0.9960 - recall_m: 0.9987 - precision_m: 0.9935\n",
      "Epoch 28/30\n",
      "26870/26870 [==============================] - 12s 435us/step - loss: 0.0152 - acc: 0.9956 - auroc: 0.9976 - auprc: 0.9960 - f1_m: 0.9954 - recall_m: 0.9984 - precision_m: 0.9927\n",
      "Epoch 29/30\n",
      "26870/26870 [==============================] - 12s 432us/step - loss: 0.0141 - acc: 0.9964 - auroc: 0.9977 - auprc: 0.9962 - f1_m: 0.9963 - recall_m: 0.9989 - precision_m: 0.9939\n",
      "Epoch 30/30\n",
      "26870/26870 [==============================] - 12s 434us/step - loss: 0.0148 - acc: 0.9963 - auroc: 0.9978 - auprc: 0.9963 - f1_m: 0.9962 - recall_m: 0.9988 - precision_m: 0.9940\n",
      "HepG2\n",
      "-ATAC\n",
      "-H3K27ac\n",
      "-H3K4me3\n",
      "-H3K9ac\n",
      "-H3K4me1\n",
      "(26630, 5, 200)\n",
      "(26630, 1)\n",
      "K562\n",
      "-ATAC\n",
      "-H3K27ac\n",
      "-H3K4me3\n",
      "-H3K9ac\n",
      "-H3K4me1\n",
      "(26870, 5, 200)\n",
      "(26870, 1)\n",
      "_________________________________________________________________\n",
      "Layer (type)                 Output Shape              Param #   \n",
      "=================================================================\n",
      "input_1 (InputLayer)         (None, 5, 200, 1)         0         \n",
      "_________________________________________________________________\n",
      "conv2d_1 (Conv2D)            (None, 5, 200, 128)       3968      \n",
      "_________________________________________________________________\n",
      "conv2d_2 (Conv2D)            (None, 5, 200, 64)        24640     \n",
      "_________________________________________________________________\n",
      "conv2d_3 (Conv2D)            (None, 5, 200, 64)        36928     \n",
      "_________________________________________________________________\n",
      "conv2d_4 (Conv2D)            (None, 5, 200, 128)       24704     \n",
      "_________________________________________________________________\n",
      "max_pooling2d_1 (MaxPooling2 (None, 2, 100, 128)       0         \n",
      "_________________________________________________________________\n",
      "conv2d_5 (Conv2D)            (None, 2, 100, 64)        73792     \n",
      "_________________________________________________________________\n",
      "conv2d_6 (Conv2D)            (None, 2, 100, 64)        36928     \n",
      "_________________________________________________________________\n",
      "conv2d_7 (Conv2D)            (None, 2, 100, 128)       24704     \n",
      "_________________________________________________________________\n",
      "max_pooling2d_2 (MaxPooling2 (None, 1, 50, 128)        0         \n",
      "_________________________________________________________________\n",
      "flatten_1 (Flatten)          (None, 6400)              0         \n",
      "_________________________________________________________________\n",
      "dense_1 (Dense)              (None, 256)               1638656   \n",
      "_________________________________________________________________\n",
      "dropout_1 (Dropout)          (None, 256)               0         \n",
      "_________________________________________________________________\n",
      "dense_2 (Dense)              (None, 128)               32896     \n",
      "_________________________________________________________________\n",
      "dropout_2 (Dropout)          (None, 128)               0         \n",
      "_________________________________________________________________\n",
      "dense_3 (Dense)              (None, 32)                4128      \n",
      "_________________________________________________________________\n",
      "dense_4 (Dense)              (None, 1)                 33        \n",
      "=================================================================\n",
      "Total params: 1,901,377\n",
      "Trainable params: 1,901,377\n",
      "Non-trainable params: 0\n",
      "_________________________________________________________________\n"
     ]
    },
    {
     "name": "stdout",
     "output_type": "stream",
     "text": [
      "Epoch 1/30\n",
      "26630/26630 [==============================] - 12s 465us/step - loss: 0.1471 - acc: 0.9459 - auroc: 0.9612 - auprc: 0.9534 - f1_m: 0.9519 - recall_m: 0.9868 - precision_m: 0.9276\n",
      "Epoch 2/30\n",
      "26630/26630 [==============================] - 12s 433us/step - loss: 0.0690 - acc: 0.9805 - auroc: 0.9885 - auprc: 0.9823 - f1_m: 0.9799 - recall_m: 0.9939 - precision_m: 0.9677\n",
      "Epoch 3/30\n",
      "26630/26630 [==============================] - 12s 433us/step - loss: 0.0587 - acc: 0.9849 - auroc: 0.9912 - auprc: 0.9863 - f1_m: 0.9844 - recall_m: 0.9960 - precision_m: 0.9741\n",
      "Epoch 4/30\n",
      "26630/26630 [==============================] - 12s 432us/step - loss: 0.0520 - acc: 0.9862 - auroc: 0.9925 - auprc: 0.9882 - f1_m: 0.9858 - recall_m: 0.9962 - precision_m: 0.9765\n",
      "Epoch 5/30\n",
      "26630/26630 [==============================] - 12s 432us/step - loss: 0.0474 - acc: 0.9876 - auroc: 0.9934 - auprc: 0.9896 - f1_m: 0.9872 - recall_m: 0.9972 - precision_m: 0.9782\n",
      "Epoch 6/30\n",
      "26630/26630 [==============================] - 12s 432us/step - loss: 0.0471 - acc: 0.9871 - auroc: 0.9939 - auprc: 0.9904 - f1_m: 0.9866 - recall_m: 0.9969 - precision_m: 0.9774\n",
      "Epoch 7/30\n",
      "26630/26630 [==============================] - 12s 432us/step - loss: 0.0443 - acc: 0.9875 - auroc: 0.9943 - auprc: 0.9910 - f1_m: 0.9871 - recall_m: 0.9967 - precision_m: 0.9786\n",
      "Epoch 8/30\n",
      "26630/26630 [==============================] - 12s 433us/step - loss: 0.0427 - acc: 0.9882 - auroc: 0.9947 - auprc: 0.9916 - f1_m: 0.9881 - recall_m: 0.9969 - precision_m: 0.9802\n",
      "Epoch 9/30\n",
      "26630/26630 [==============================] - 12s 432us/step - loss: 0.0405 - acc: 0.9886 - auroc: 0.9950 - auprc: 0.9921 - f1_m: 0.9884 - recall_m: 0.9970 - precision_m: 0.9807\n",
      "Epoch 10/30\n",
      "26630/26630 [==============================] - 12s 432us/step - loss: 0.0394 - acc: 0.9888 - auroc: 0.9952 - auprc: 0.9924 - f1_m: 0.9887 - recall_m: 0.9967 - precision_m: 0.9815\n",
      "Epoch 11/30\n",
      "26630/26630 [==============================] - 12s 433us/step - loss: 0.0390 - acc: 0.9897 - auroc: 0.9955 - auprc: 0.9928 - f1_m: 0.9894 - recall_m: 0.9977 - precision_m: 0.9819\n",
      "Epoch 12/30\n",
      "26630/26630 [==============================] - 12s 434us/step - loss: 0.0374 - acc: 0.9900 - auroc: 0.9956 - auprc: 0.9931 - f1_m: 0.9897 - recall_m: 0.9978 - precision_m: 0.9825\n",
      "Epoch 13/30\n",
      "26630/26630 [==============================] - 12s 432us/step - loss: 0.0345 - acc: 0.9912 - auroc: 0.9958 - auprc: 0.9933 - f1_m: 0.9910 - recall_m: 0.9979 - precision_m: 0.9848\n",
      "Epoch 14/30\n",
      "26630/26630 [==============================] - 12s 433us/step - loss: 0.0339 - acc: 0.9908 - auroc: 0.9959 - auprc: 0.9935 - f1_m: 0.9906 - recall_m: 0.9973 - precision_m: 0.9846\n",
      "Epoch 15/30\n",
      "26630/26630 [==============================] - 12s 432us/step - loss: 0.0336 - acc: 0.9908 - auroc: 0.9961 - auprc: 0.9937 - f1_m: 0.9905 - recall_m: 0.9974 - precision_m: 0.9843\n",
      "Epoch 16/30\n",
      "26630/26630 [==============================] - 12s 433us/step - loss: 0.0331 - acc: 0.9910 - auroc: 0.9962 - auprc: 0.9940 - f1_m: 0.9910 - recall_m: 0.9973 - precision_m: 0.9853\n",
      "Epoch 17/30\n",
      "26630/26630 [==============================] - 12s 432us/step - loss: 0.0305 - acc: 0.9915 - auroc: 0.9963 - auprc: 0.9941 - f1_m: 0.9913 - recall_m: 0.9977 - precision_m: 0.9855\n",
      "Epoch 18/30\n",
      "26630/26630 [==============================] - 12s 432us/step - loss: 0.0291 - acc: 0.9923 - auroc: 0.9964 - auprc: 0.9943 - f1_m: 0.9922 - recall_m: 0.9981 - precision_m: 0.9868\n",
      "Epoch 19/30\n",
      "26630/26630 [==============================] - 12s 433us/step - loss: 0.0286 - acc: 0.9924 - auroc: 0.9965 - auprc: 0.9945 - f1_m: 0.9920 - recall_m: 0.9978 - precision_m: 0.9869\n",
      "Epoch 20/30\n",
      "26630/26630 [==============================] - 12s 433us/step - loss: 0.0286 - acc: 0.9921 - auroc: 0.9966 - auprc: 0.9947 - f1_m: 0.9919 - recall_m: 0.9975 - precision_m: 0.9870\n",
      "Epoch 21/30\n",
      "26630/26630 [==============================] - 12s 432us/step - loss: 0.0267 - acc: 0.9926 - auroc: 0.9968 - auprc: 0.9948 - f1_m: 0.9924 - recall_m: 0.9980 - precision_m: 0.9874\n",
      "Epoch 22/30\n",
      "26630/26630 [==============================] - 12s 435us/step - loss: 0.0268 - acc: 0.9926 - auroc: 0.9968 - auprc: 0.9950 - f1_m: 0.9922 - recall_m: 0.9977 - precision_m: 0.9873\n",
      "Epoch 23/30\n",
      "26630/26630 [==============================] - 12s 432us/step - loss: 0.0253 - acc: 0.9932 - auroc: 0.9969 - auprc: 0.9951 - f1_m: 0.9931 - recall_m: 0.9982 - precision_m: 0.9884\n",
      "Epoch 24/30\n",
      "26630/26630 [==============================] - 12s 433us/step - loss: 0.0237 - acc: 0.9935 - auroc: 0.9970 - auprc: 0.9952 - f1_m: 0.9934 - recall_m: 0.9981 - precision_m: 0.9892\n",
      "Epoch 25/30\n",
      "26630/26630 [==============================] - 12s 432us/step - loss: 0.0231 - acc: 0.9934 - auroc: 0.9971 - auprc: 0.9954 - f1_m: 0.9932 - recall_m: 0.9978 - precision_m: 0.9891\n",
      "Epoch 26/30\n",
      "26630/26630 [==============================] - 11s 432us/step - loss: 0.0207 - acc: 0.9941 - auroc: 0.9972 - auprc: 0.9955 - f1_m: 0.9939 - recall_m: 0.9979 - precision_m: 0.9903\n",
      "Epoch 27/30\n",
      "26630/26630 [==============================] - 12s 432us/step - loss: 0.0211 - acc: 0.9944 - auroc: 0.9973 - auprc: 0.9956 - f1_m: 0.9944 - recall_m: 0.9987 - precision_m: 0.9905\n",
      "Epoch 28/30\n",
      "26630/26630 [==============================] - 11s 431us/step - loss: 0.0188 - acc: 0.9949 - auroc: 0.9973 - auprc: 0.9958 - f1_m: 0.9948 - recall_m: 0.9990 - precision_m: 0.9909\n",
      "Epoch 29/30\n",
      "26630/26630 [==============================] - 11s 431us/step - loss: 0.0185 - acc: 0.9950 - auroc: 0.9974 - auprc: 0.9959 - f1_m: 0.9948 - recall_m: 0.9987 - precision_m: 0.9912\n",
      "Epoch 30/30\n",
      "26630/26630 [==============================] - 12s 432us/step - loss: 0.0172 - acc: 0.9957 - auroc: 0.9975 - auprc: 0.9960 - f1_m: 0.9956 - recall_m: 0.9992 - precision_m: 0.9923\n"
     ]
    }
   ],
   "source": [
    "#iterate to cross validate each cell type\n",
    "for validation_cell in args.cell_types:\n",
    "    training_cell = args.cell_types[:]\n",
    "    training_cell.remove(validation_cell)\n",
    "    \n",
    "    x_train, y_train = get_data(training_cell, args.in_dir, seq_names)\n",
    "    x_train, y_train = shuffle(x_train, y_train, random_state=0)\n",
    "    x_train = np.expand_dims(x_train, axis=4)\n",
    "    \n",
    "    x_test, y_test = get_data([validation_cell], args.in_dir, seq_names)    \n",
    "    x_test = np.expand_dims(x_test, axis=4)\n",
    "\n",
    "    # construct the model\n",
    "    model = load_model()\n",
    "\n",
    "    adam = Adam(lr=1e-4, beta_1=0.9, beta_2=0.999, epsilon=1e-08, decay=9e-5)\n",
    "    model.compile(loss='binary_crossentropy', optimizer=adam, \n",
    "        metrics=['accuracy', auroc, auprc, f1_m, recall_m, precision_m])\n",
    "\n",
    "    #train the model\n",
    "    history_list.append(model.fit(x_train, y_train,\n",
    "                batch_size=32,\n",
    "                epochs=30,\n",
    "                validation_split=0.0,\n",
    "                shuffle=True))\n",
    "\n",
    "    # predict the results\n",
    "    y_pred = model.predict(x_test).ravel()\n",
    "    y_pred_list.append(y_pred)\n",
    "    y_test_list.append(y_test.ravel())\n",
    "\n",
    "    accuracy_s = sklearn.metrics.accuracy_score(y_test, np.rint(y_pred))\n",
    "    accuracy_list.append(accuracy_s)\n",
    "\n",
    "    #iterate k fold counter\n",
    "    kskip = kskip + 1\n",
    "\n",
    "    #delete the model so the variable is cleared\n",
    "    del model"
   ]
  },
  {
   "cell_type": "code",
   "execution_count": 7,
   "metadata": {},
   "outputs": [
    {
     "name": "stdout",
     "output_type": "stream",
     "text": [
      "26630 26630 <class 'numpy.ndarray'>\n",
      "26870 26870 <class 'numpy.ndarray'>\n"
     ]
    },
    {
     "data": {
      "text/plain": [
       "<matplotlib.legend.Legend at 0x2b9743c00828>"
      ]
     },
     "execution_count": 7,
     "metadata": {},
     "output_type": "execute_result"
    },
    {
     "data": {
      "image/png": "[encoded data removed]",
      "text/plain": [
       "<Figure size 432x288 with 1 Axes>"
      ]
     },
     "metadata": {
      "needs_background": "light"
     },
     "output_type": "display_data"
    }
   ],
   "source": [
    "y_test_out = []\n",
    "y_pred_out = []\n",
    "for j in range(len(y_test_list)):\n",
    "    print(len(y_test_list[j]), len(y_pred_list[j]), type(y_test_list[j]))\n",
    "    y_test_out.extend(y_test_list[j])\n",
    "    y_pred_out.extend(y_pred_list[j])\n",
    "\n",
    "# plot accuracy over time\n",
    "plt.figure()\n",
    "history_acc = np.array([np.array(h.history['acc']) for h in history_list])\n",
    "mean_history_acc = np.mean(history_acc, axis=0)\n",
    "\n",
    "plt.plot(mean_history_acc, label='Keras (5cv_acc = {:.3f})'.format(np.mean(np.array(accuracy_list))))\n",
    "plt.title('training accuracy')\n",
    "plt.ylabel('accuracy')\n",
    "plt.xlabel('epoch')\n",
    "plt.legend(['train'], loc='upper left')\n",
    "#plt.savefig(figure_output_name+'.accuracy.png')"
   ]
  },
  {
   "cell_type": "code",
   "execution_count": 8,
   "metadata": {},
   "outputs": [
    {
     "data": {
      "text/plain": [
       "<matplotlib.legend.Legend at 0x2b9743c8cb38>"
      ]
     },
     "execution_count": 8,
     "metadata": {},
     "output_type": "execute_result"
    },
    {
     "data": {
      "image/png": "[encoded data removed]",
      "text/plain": [
       "<Figure size 432x288 with 1 Axes>"
      ]
     },
     "metadata": {
      "needs_background": "light"
     },
     "output_type": "display_data"
    }
   ],
   "source": [
    "# plot loss over time\n",
    "plt.figure()\n",
    "history_loss = np.array([np.array(h.history['loss']) for h in history_list])\n",
    "mean_history_loss = np.mean(history_loss, axis=0)\n",
    "\n",
    "plt.plot(mean_history_loss)\n",
    "plt.title('training loss')\n",
    "plt.ylabel('loss')\n",
    "plt.xlabel('epoch')\n",
    "plt.legend(['train'], loc='upper left')\n",
    "#plt.savefig(figure_output_name+'.loss.png')"
   ]
  },
  {
   "cell_type": "code",
   "execution_count": 9,
   "metadata": {},
   "outputs": [
    {
     "data": {
      "text/plain": [
       "<matplotlib.legend.Legend at 0x2b9743f0c048>"
      ]
     },
     "execution_count": 9,
     "metadata": {},
     "output_type": "execute_result"
    },
    {
     "data": {
      "image/png": "[encoded data removed]",
      "text/plain": [
       "<Figure size 432x288 with 1 Axes>"
      ]
     },
     "metadata": {
      "needs_background": "light"
     },
     "output_type": "display_data"
    }
   ],
   "source": [
    "# auroc over time\n",
    "plt.figure()\n",
    "history_auroc = np.array([np.array(h.history['auroc']) for h in history_list])\n",
    "mean_history_auroc = np.mean(history_auroc, axis=0)\n",
    "\n",
    "plt.plot(mean_history_auroc)\n",
    "plt.title('training auROC')\n",
    "plt.ylabel('auroc')\n",
    "plt.xlabel('epoch')\n",
    "plt.legend(['train'], loc='upper left')\n",
    "#plt.savefig(figure_output_name+'.auROC.png')"
   ]
  },
  {
   "cell_type": "code",
   "execution_count": 10,
   "metadata": {},
   "outputs": [
    {
     "data": {
      "text/plain": [
       "<matplotlib.legend.Legend at 0x2b9743f71390>"
      ]
     },
     "execution_count": 10,
     "metadata": {},
     "output_type": "execute_result"
    },
    {
     "data": {
      "image/png": "[encoded data removed]",
      "text/plain": [
       "<Figure size 432x288 with 1 Axes>"
      ]
     },
     "metadata": {
      "needs_background": "light"
     },
     "output_type": "display_data"
    }
   ],
   "source": [
    "# auprc over time\n",
    "plt.figure()\n",
    "history_auprc = np.array([np.array(h.history['auprc']) for h in history_list])\n",
    "mean_history_auprc = np.mean(history_auprc, axis=0)\n",
    "\n",
    "plt.plot(mean_history_auprc)\n",
    "plt.title('training auPRC')\n",
    "plt.ylabel('auprc')\n",
    "plt.xlabel('epoch')\n",
    "plt.legend(['train'], loc='upper left')\n",
    "#plt.savefig(figure_output_name+'.auPRC.png')"
   ]
  },
  {
   "cell_type": "code",
   "execution_count": 11,
   "metadata": {},
   "outputs": [
    {
     "name": "stdout",
     "output_type": "stream",
     "text": [
      "2 101 101\n"
     ]
    },
    {
     "name": "stderr",
     "output_type": "stream",
     "text": [
      "/gpfs/ysm/project/zc264/conda_envs/old_keras_gpu/lib/python3.6/site-packages/ipykernel_launcher.py:30: MatplotlibDeprecationWarning: Adding an axes using the same arguments as a previous axes currently reuses the earlier instance.  In a future version, a new instance will always be created and returned.  Meanwhile, this warning can be suppressed, and the future behavior ensured, by passing a unique label to each axes instance.\n"
     ]
    },
    {
     "data": {
      "image/png": "[encoded data removed]",
      "text/plain": [
       "<Figure size 360x360 with 1 Axes>"
      ]
     },
     "metadata": {
      "needs_background": "light"
     },
     "output_type": "display_data"
    }
   ],
   "source": [
    "# ROC in test set\n",
    "plt.figure(figsize=(5, 5))\n",
    "base_fpr = np.linspace(0, 1, 101)\n",
    "tpr_list = []\n",
    "auroc_list = []\n",
    "for i in range(len(y_test_list)):\n",
    "    fpr, tpr, thresholds = sklearn.metrics.roc_curve(y_test_list[i], y_pred_list[i])\n",
    "    auroc_list.append(sklearn.metrics.roc_auc_score(y_test_list[i], y_pred_list[i]))\n",
    "    plt.plot(fpr, tpr, 'b', alpha=0.15)\n",
    "    tpr = np.interp(base_fpr, fpr, tpr)\n",
    "    tpr[0] = 0.0\n",
    "    tpr_list.append(tpr)\n",
    "\n",
    "\n",
    "print(len(tpr_list), len(tpr_list[0]), len(tpr_list[1]))\n",
    "tpr_list = np.array(tpr_list)\n",
    "mean_tpr = np.mean(np.array(tpr_list), axis=0)\n",
    "tpr_std = tpr_list.std(axis=0)\n",
    "\n",
    "tprs_upper = np.minimum(mean_tpr + 2 * tpr_std, 1)\n",
    "tprs_lower = mean_tpr - 2 * tpr_std\n",
    "\n",
    "plt.plot([0, 1], [0, 1], 'k--')\n",
    "plt.plot(base_fpr, mean_tpr, 'b', label='Keras (area = {:.3f})'.format(np.mean(np.array(auroc_list))))\n",
    "plt.fill_between(base_fpr, tprs_lower, tprs_upper, color='grey', alpha=0.3)\n",
    "plt.xlabel('False positive rate')\n",
    "plt.ylabel('True positive rate')\n",
    "plt.title('ROC curve')\n",
    "plt.legend(loc='best')\n",
    "plt.axes().set_aspect('equal', 'datalim')\n",
    "#plt.savefig(figure_output_name+'.ROC.png')"
   ]
  },
  {
   "cell_type": "code",
   "execution_count": 12,
   "metadata": {},
   "outputs": [
    {
     "name": "stdout",
     "output_type": "stream",
     "text": [
      "2 101 101\n"
     ]
    },
    {
     "name": "stderr",
     "output_type": "stream",
     "text": [
      "/gpfs/ysm/project/zc264/conda_envs/old_keras_gpu/lib/python3.6/site-packages/ipykernel_launcher.py:29: MatplotlibDeprecationWarning: Adding an axes using the same arguments as a previous axes currently reuses the earlier instance.  In a future version, a new instance will always be created and returned.  Meanwhile, this warning can be suppressed, and the future behavior ensured, by passing a unique label to each axes instance.\n"
     ]
    },
    {
     "data": {
      "image/png": "[encoded data removed]",
      "text/plain": [
       "<Figure size 360x360 with 1 Axes>"
      ]
     },
     "metadata": {
      "needs_background": "light"
     },
     "output_type": "display_data"
    }
   ],
   "source": [
    "# PRC in test set\n",
    "plt.figure(figsize=(5, 5))\n",
    "base_recall = np.linspace(0, 1, 101)\n",
    "precision_list = []\n",
    "auprc_list = []\n",
    "for i in range(len(y_test_list)):\n",
    "    recall, precision, thresholds = sklearn.metrics.precision_recall_curve(y_test_list[i], y_pred_list[i])\n",
    "    auprc_list.append(sklearn.metrics.average_precision_score(y_test_list[i], y_pred_list[i]))\n",
    "    plt.plot(recall, precision, 'b', alpha=0.15)\n",
    "    precision = np.interp(base_recall, recall, precision)\n",
    "    precision[0] = 1.0\n",
    "    precision_list.append(precision)\n",
    "\n",
    "print(len(precision_list), len(precision_list[0]), len(precision_list[1]))\n",
    "precision_list = np.array(precision_list)\n",
    "mean_precision = np.mean(np.array(precision_list), axis=0)\n",
    "precision_std = precision_list.std(axis=0)\n",
    "\n",
    "precisions_upper = np.minimum(mean_precision + 2 * precision_std, 1)\n",
    "precisions_lower = mean_precision - 2 * precision_std\n",
    "\n",
    "plt.plot([0, 1], [1, 0], 'k--')\n",
    "plt.plot(base_recall, mean_precision, 'b', label='Keras (area = {:.3f})'.format(np.mean(np.array(auprc_list))))\n",
    "plt.fill_between(base_recall, precisions_lower, precisions_upper, color='grey', alpha=0.3)\n",
    "plt.xlabel('recall')\n",
    "plt.ylabel('precision')\n",
    "plt.title('PRC curve')\n",
    "plt.legend(loc='best')\n",
    "plt.axes().set_aspect('equal', 'datalim')\n",
    "#plt.savefig(figure_output_name+'.PRC.png')"
   ]
  },
  {
   "cell_type": "code",
   "execution_count": 13,
   "metadata": {},
   "outputs": [
    {
     "name": "stdout",
     "output_type": "stream",
     "text": [
      "validation accuracy: 0.9822204964278431\n",
      "validation auROC: 0.9947883980112533\n",
      "validation auPRC: 0.9908198119952777\n"
     ]
    }
   ],
   "source": [
    "print(\"validation accuracy: \" + str(np.mean(np.array(accuracy_list))))\n",
    "print(\"validation auROC: \" + str(np.mean(np.array(auroc_list))))\n",
    "print(\"validation auPRC: \" + str(np.mean(np.array(auprc_list))))"
   ]
  },
  {
   "cell_type": "code",
   "execution_count": 14,
   "metadata": {},
   "outputs": [
    {
     "name": "stdout",
     "output_type": "stream",
     "text": [
      "validated cell type HepG2 accuracy: 0.9772061584678934\n",
      "validated cell type K562 accuracy: 0.987234834387793\n"
     ]
    }
   ],
   "source": [
    "for i in range(len(args.cell_types)):\n",
    "    print(\"validated cell type \" + args.cell_types[i] + \" accuracy: \" + str(accuracy_list[i]))"
   ]
  },
  {
   "cell_type": "code",
   "execution_count": 15,
   "metadata": {},
   "outputs": [
    {
     "name": "stdout",
     "output_type": "stream",
     "text": [
      "validated cell type HepG2 auROC: 0.9941326355281886\n",
      "validated cell type K562 auROC: 0.9954441604943179\n"
     ]
    }
   ],
   "source": [
    "for i in range(len(args.cell_types)):\n",
    "    print(\"validated cell type \" + args.cell_types[i] + \" auROC: \" + str(auroc_list[i]))"
   ]
  },
  {
   "cell_type": "code",
   "execution_count": 16,
   "metadata": {},
   "outputs": [
    {
     "name": "stdout",
     "output_type": "stream",
     "text": [
      "validated cell type HepG2 auROC: 0.9893741281148849\n",
      "validated cell type K562 auROC: 0.9922654958756705\n"
     ]
    }
   ],
   "source": [
    "for i in range(len(args.cell_types)):\n",
    "    print(\"validated cell type \" + args.cell_types[i] + \" auROC: \" + str(auprc_list[i]))"
   ]
  },
  {
   "cell_type": "code",
   "execution_count": null,
   "metadata": {},
   "outputs": [],
   "source": []
  }
 ],
 "metadata": {
  "kernelspec": {
   "display_name": "Python 3",
   "language": "python",
   "name": "python3"
  },
  "language_info": {
   "codemirror_mode": {
    "name": "ipython",
    "version": 3
   },
   "file_extension": ".py",
   "mimetype": "text/x-python",
   "name": "python",
   "nbconvert_exporter": "python",
   "pygments_lexer": "ipython3",
   "version": "3.6.5"
  }
 },
 "nbformat": 4,
 "nbformat_minor": 2
}
