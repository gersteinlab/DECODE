{
 "cells": [
  {
   "cell_type": "code",
   "execution_count": 1,
   "metadata": {},
   "outputs": [
    {
     "name": "stderr",
     "output_type": "stream",
     "text": [
      "Using TensorFlow backend.\n"
     ]
    }
   ],
   "source": [
    "#-----import packages-----#\n",
    "\n",
    "#common python packages\n",
    "import numpy as np\n",
    "import string\n",
    "import random\n",
    "import os\n",
    "import pickle\n",
    "import argparse\n",
    "import wget\n",
    "import math\n",
    "import matplotlib.pyplot as plt\n",
    "from datetime import datetime\n",
    "\n",
    "#machine learning packages\n",
    "import sklearn\n",
    "import sklearn.metrics\n",
    "from sklearn.utils import shuffle\n",
    "from matplotlib import pyplot as plt\n",
    "\n",
    "import tensorflow as tf\n",
    "\n",
    "import keras.backend as K\n",
    "from keras.models import Sequential, Model\n",
    "from keras.layers import Input, Dense, Dropout, Conv2D, MaxPooling2D, BatchNormalization, Flatten, Multiply, GlobalAveragePooling2D\n",
    "from keras.callbacks import EarlyStopping, ModelCheckpoint\n",
    "from keras.optimizers import Adam\n",
    "from keras import backend as K\n",
    "from keras.engine.topology import Layer, InputSpec\n",
    "from keras.utils import Sequence, plot_model\n",
    "from keras.constraints import unit_norm\n",
    "from keras import regularizers\n",
    "from keras.callbacks import EarlyStopping, Callback, TensorBoard, ReduceLROnPlateau\n",
    "import keras_metrics as km\n",
    "\n",
    "#notify the OS about GPU\n",
    "os.environ[\"CUDA_DEVICE_ORDER\"]=\"PCI_BUS_ID\"\n",
    "os.environ[\"CUDA_VISIBLE_DEVICES\"] = \"0\"\n",
    "os.environ['KERAS_BACKEND'] = 'tensorflow'"
   ]
  },
  {
   "cell_type": "code",
   "execution_count": 2,
   "metadata": {},
   "outputs": [],
   "source": [
    "def SqueezeExcite(tensor, ratio=16):\n",
    "    nb_channel = K.int_shape(tensor)[-1]\n",
    "\n",
    "    x = GlobalAveragePooling2D()(tensor)\n",
    "    x = Dense(nb_channel // ratio, activation='relu')(x)\n",
    "    x = Dense(nb_channel, activation='sigmoid')(x)\n",
    "\n",
    "    x = Multiply()([tensor, x])\n",
    "    return x\n",
    "\n",
    "def auroc(y_true, y_pred):\n",
    "    auc = tf.metrics.auc(y_true, y_pred, curve=\"ROC\", summation_method='careful_interpolation')[1]\n",
    "    K.get_session().run(tf.local_variables_initializer())\n",
    "    return auc\n",
    "\n",
    "def auprc(y_true, y_pred):\n",
    "    auc = tf.metrics.auc(y_true, y_pred, curve='PR', summation_method='careful_interpolation')[1]\n",
    "    K.get_session().run(tf.local_variables_initializer())\n",
    "    return auc\n",
    "\n",
    "def recall_m(y_true, y_pred):\n",
    "    true_positives = K.sum(K.round(K.clip(y_true * y_pred, 0, 1)))\n",
    "    possible_positives = K.sum(K.round(K.clip(y_true, 0, 1)))\n",
    "    recall = true_positives / (possible_positives + K.epsilon())\n",
    "    return recall\n",
    "\n",
    "def precision_m(y_true, y_pred):\n",
    "    true_positives = K.sum(K.round(K.clip(y_true * y_pred, 0, 1)))\n",
    "    predicted_positives = K.sum(K.round(K.clip(y_pred, 0, 1)))\n",
    "    precision = true_positives / (predicted_positives + K.epsilon())\n",
    "    return precision\n",
    "\n",
    "def f1_m(y_true, y_pred):\n",
    "    precision = precision_m(y_true, y_pred)\n",
    "    recall = recall_m(y_true, y_pred)\n",
    "    return 2*((precision*recall)/(precision+recall+K.epsilon()))\n",
    "\n",
    "def load_model():\n",
    "    K.clear_session()\n",
    "    pool2_list = []\n",
    "    merge_list = []\n",
    "\n",
    "    input_size = Input(shape=(5, 200, 1))\n",
    "    conv1_ = Conv2D(128, (3, 10), padding='same',activation='relu')(input_size)\n",
    "    conv1  = SqueezeExcite(conv1_)\n",
    "    conv2_ = Conv2D(64, (3, 1), padding='same',activation='relu')(conv1)\n",
    "    conv2  = SqueezeExcite(conv2_)\n",
    "    conv3_ = Conv2D(64, (3, 3), padding='same',activation='relu')(conv2)\n",
    "    conv3  = SqueezeExcite(conv3_)\n",
    "    conv4_ = Conv2D(128, (3, 1), padding='same',activation='relu')(conv3)\n",
    "    conv4  = SqueezeExcite(conv4_)\n",
    "    pool1  = MaxPooling2D(pool_size=(2, 2))(conv4)\n",
    "    conv5_ = Conv2D(64, (3, 3), padding='same',activation='relu')(pool1)\n",
    "    conv5  = SqueezeExcite(conv5_)\n",
    "    conv6_ = Conv2D(64, (3, 3), padding='same',activation='relu')(conv5)\n",
    "    conv6  = SqueezeExcite(conv6_)\n",
    "    conv7_ = Conv2D(128, (3, 1), padding='same',activation='relu')(conv6)\n",
    "    conv7  = SqueezeExcite(conv7_)\n",
    "    pool2  = MaxPooling2D(pool_size=(2, 2))(conv7)\n",
    "\n",
    "    x = Flatten()(pool2)\n",
    "    dense1_ = Dense(256, activation='relu')\n",
    "    dense1  = dense1_(x)\n",
    "    x = Dropout(0.4)(dense1)\n",
    "    dense2  = Dense(128, activation='relu')(x)\n",
    "    x = Dropout(0.4)(dense2)\n",
    "    dense3 = Dense(32, activation='relu')(x)\n",
    "    pred_output = Dense(1, activation='sigmoid')(dense3)\n",
    "    model = Model(input=[input_size], output=[pred_output])\n",
    "    model.summary()\n",
    "\n",
    "    return model"
   ]
  },
  {
   "cell_type": "code",
   "execution_count": 3,
   "metadata": {},
   "outputs": [
    {
     "name": "stdout",
     "output_type": "stream",
     "text": [
      "all files found!\n"
     ]
    }
   ],
   "source": [
    "#parsing command line arguments\n",
    "# -----parsing command line arguments-----#\n",
    "parser = argparse.ArgumentParser(description='Training CNN model to predict STARR-seq enhancers based on chromatin accessbility and histone marks')\n",
    "parser.add_argument('-c', '--cell_types', type=str, help='comma separated string of cell_types')\n",
    "parser.add_argument('-i', '--in_dir', type=str, help='directory containing 01_data_encoding intermediate tsv files')\n",
    "\n",
    "#simulate command line input\n",
    "cmdline_str='-c ' + \" HepG2,K562 \" + \\\n",
    "    ' -i ' + \"/gpfs/ysm/scratch60/gerstein/zc264/ChromVar/enhancer-prediction/encode/pipeline/encoded/ATAC/\"\n",
    "\n",
    "seq_names = [\"ATAC\", \"H3K27ac\", \"H3K4me3\", \"H3K9ac\", \"H3K4me1\"]\n",
    "\n",
    "#check if the files are there\n",
    "args = parser.parse_args(cmdline_str.split())\n",
    "args.cell_types = args.cell_types.split(\",\")\n",
    "for cell in args.cell_types:\n",
    "    for seq in seq_names:\n",
    "        pos_file = args.in_dir + cell + \".\" + seq + \".pos.tsv\"\n",
    "        if not os.path.exists(pos_file):\n",
    "            print(pos_file + \" file does not exist\")\n",
    "            exit(1)\n",
    "        neg_file = args.in_dir + cell + \".\" + seq + \".neg.tsv\"\n",
    "        if not os.path.exists(neg_file):\n",
    "            print(neg_file + \" file does not exist\")\n",
    "            exit(1)\n",
    "print(\"all files found!\")"
   ]
  },
  {
   "cell_type": "code",
   "execution_count": 4,
   "metadata": {},
   "outputs": [],
   "source": [
    "def get_data(cell_types, in_dir, seq_names):\n",
    "\n",
    "    first_cell = True\n",
    "    for cell in cell_types:\n",
    "        print(cell)\n",
    "\n",
    "        pos = []\n",
    "        neg = []\n",
    "        first_seq = True\n",
    "        for seq in seq_names:\n",
    "            print(\"-\"+seq)\n",
    "\n",
    "            pos_name = in_dir+cell+\".\"+seq+\".pos.tsv\"\n",
    "            pos_mat = np.loadtxt(pos_name, delimiter='\\t')\n",
    "\n",
    "            neg_name = in_dir+cell+\".\"+seq+\".neg.tsv\"\n",
    "            neg_mat = np.loadtxt(neg_name, delimiter='\\t')\n",
    "\n",
    "            if first_seq:\n",
    "                for i in pos_mat:\n",
    "                    pos.append(np.array([i]))\n",
    "                for i in neg_mat:\n",
    "                    neg.append(np.array([i]))\n",
    "                first_seq = False\n",
    "            else:\n",
    "                for i in range(len(pos)):\n",
    "                    pos[i] = np.vstack((pos[i], pos_mat[i,]))\n",
    "                for i in range(len(neg)):\n",
    "                    neg[i] = np.vstack((neg[i], neg_mat[i,]))\n",
    "\n",
    "        if first_cell == True:\n",
    "            X_pos = np.array(pos)\n",
    "            X_neg = np.array(neg)\n",
    "            first_cell = False\n",
    "        else:\n",
    "            X_pos = np.vstack((X_pos, pos))\n",
    "            X_neg = np.vstack((X_neg, neg))\n",
    "\n",
    "    X = np.vstack((X_pos, X_neg))\n",
    "    y = np.array([1 for i in range(X_pos.shape[0])] + [0 for i in range(X_pos.shape[0])]).reshape(-1,1)\n",
    "    print(X.shape)\n",
    "    print(y.shape)\n",
    "    \n",
    "    return X, y\n",
    "\n"
   ]
  },
  {
   "cell_type": "code",
   "execution_count": 5,
   "metadata": {},
   "outputs": [],
   "source": [
    "#collect the output of the kfolds\n",
    "history_list = []\n",
    "y_pred_list = []\n",
    "y_test_list = []\n",
    "accuracy_list = []\n",
    "\n",
    "kskip = 0"
   ]
  },
  {
   "cell_type": "code",
   "execution_count": 6,
   "metadata": {},
   "outputs": [
    {
     "name": "stdout",
     "output_type": "stream",
     "text": [
      "K562\n",
      "-ATAC\n",
      "-H3K27ac\n",
      "-H3K4me3\n",
      "-H3K9ac\n",
      "-H3K4me1\n",
      "(13316, 5, 200)\n",
      "(13316, 1)\n",
      "HepG2\n",
      "-ATAC\n"
     ]
    },
    {
     "name": "stderr",
     "output_type": "stream",
     "text": [
      "/gpfs/ysm/project/zc264/conda_envs/old_keras_gpu/lib/python3.6/site-packages/ipykernel_launcher.py:8: DeprecationWarning: Both axis > a.ndim and axis < -a.ndim - 1 are deprecated and will raise an AxisError in the future.\n",
      "  \n"
     ]
    },
    {
     "name": "stdout",
     "output_type": "stream",
     "text": [
      "-H3K27ac\n",
      "-H3K4me3\n",
      "-H3K9ac\n",
      "-H3K4me1\n",
      "(15438, 5, 200)\n",
      "(15438, 1)\n"
     ]
    },
    {
     "name": "stderr",
     "output_type": "stream",
     "text": [
      "/gpfs/ysm/project/zc264/conda_envs/old_keras_gpu/lib/python3.6/site-packages/ipykernel_launcher.py:11: DeprecationWarning: Both axis > a.ndim and axis < -a.ndim - 1 are deprecated and will raise an AxisError in the future.\n",
      "  # This is added back by InteractiveShellApp.init_path()\n",
      "/gpfs/ysm/project/zc264/conda_envs/old_keras_gpu/lib/python3.6/site-packages/ipykernel_launcher.py:69: UserWarning: Update your `Model` call to the Keras 2 API: `Model(inputs=[<tf.Tenso..., outputs=[<tf.Tenso...)`\n"
     ]
    },
    {
     "name": "stdout",
     "output_type": "stream",
     "text": [
      "__________________________________________________________________________________________________\n",
      "Layer (type)                    Output Shape         Param #     Connected to                     \n",
      "==================================================================================================\n",
      "input_1 (InputLayer)            (None, 5, 200, 1)    0                                            \n",
      "__________________________________________________________________________________________________\n",
      "conv2d_1 (Conv2D)               (None, 5, 200, 128)  3968        input_1[0][0]                    \n",
      "__________________________________________________________________________________________________\n",
      "global_average_pooling2d_1 (Glo (None, 128)          0           conv2d_1[0][0]                   \n",
      "__________________________________________________________________________________________________\n",
      "dense_1 (Dense)                 (None, 8)            1032        global_average_pooling2d_1[0][0] \n",
      "__________________________________________________________________________________________________\n",
      "dense_2 (Dense)                 (None, 128)          1152        dense_1[0][0]                    \n",
      "__________________________________________________________________________________________________\n",
      "multiply_1 (Multiply)           (None, 5, 200, 128)  0           conv2d_1[0][0]                   \n",
      "                                                                 dense_2[0][0]                    \n",
      "__________________________________________________________________________________________________\n",
      "conv2d_2 (Conv2D)               (None, 5, 200, 64)   24640       multiply_1[0][0]                 \n",
      "__________________________________________________________________________________________________\n",
      "global_average_pooling2d_2 (Glo (None, 64)           0           conv2d_2[0][0]                   \n",
      "__________________________________________________________________________________________________\n",
      "dense_3 (Dense)                 (None, 4)            260         global_average_pooling2d_2[0][0] \n",
      "__________________________________________________________________________________________________\n",
      "dense_4 (Dense)                 (None, 64)           320         dense_3[0][0]                    \n",
      "__________________________________________________________________________________________________\n",
      "multiply_2 (Multiply)           (None, 5, 200, 64)   0           conv2d_2[0][0]                   \n",
      "                                                                 dense_4[0][0]                    \n",
      "__________________________________________________________________________________________________\n",
      "conv2d_3 (Conv2D)               (None, 5, 200, 64)   36928       multiply_2[0][0]                 \n",
      "__________________________________________________________________________________________________\n",
      "global_average_pooling2d_3 (Glo (None, 64)           0           conv2d_3[0][0]                   \n",
      "__________________________________________________________________________________________________\n",
      "dense_5 (Dense)                 (None, 4)            260         global_average_pooling2d_3[0][0] \n",
      "__________________________________________________________________________________________________\n",
      "dense_6 (Dense)                 (None, 64)           320         dense_5[0][0]                    \n",
      "__________________________________________________________________________________________________\n",
      "multiply_3 (Multiply)           (None, 5, 200, 64)   0           conv2d_3[0][0]                   \n",
      "                                                                 dense_6[0][0]                    \n",
      "__________________________________________________________________________________________________\n",
      "conv2d_4 (Conv2D)               (None, 5, 200, 128)  24704       multiply_3[0][0]                 \n",
      "__________________________________________________________________________________________________\n",
      "global_average_pooling2d_4 (Glo (None, 128)          0           conv2d_4[0][0]                   \n",
      "__________________________________________________________________________________________________\n",
      "dense_7 (Dense)                 (None, 8)            1032        global_average_pooling2d_4[0][0] \n",
      "__________________________________________________________________________________________________\n",
      "dense_8 (Dense)                 (None, 128)          1152        dense_7[0][0]                    \n",
      "__________________________________________________________________________________________________\n",
      "multiply_4 (Multiply)           (None, 5, 200, 128)  0           conv2d_4[0][0]                   \n",
      "                                                                 dense_8[0][0]                    \n",
      "__________________________________________________________________________________________________\n",
      "max_pooling2d_1 (MaxPooling2D)  (None, 2, 100, 128)  0           multiply_4[0][0]                 \n",
      "__________________________________________________________________________________________________\n",
      "conv2d_5 (Conv2D)               (None, 2, 100, 64)   73792       max_pooling2d_1[0][0]            \n",
      "__________________________________________________________________________________________________\n",
      "global_average_pooling2d_5 (Glo (None, 64)           0           conv2d_5[0][0]                   \n",
      "__________________________________________________________________________________________________\n",
      "dense_9 (Dense)                 (None, 4)            260         global_average_pooling2d_5[0][0] \n",
      "__________________________________________________________________________________________________\n",
      "dense_10 (Dense)                (None, 64)           320         dense_9[0][0]                    \n",
      "__________________________________________________________________________________________________\n",
      "multiply_5 (Multiply)           (None, 2, 100, 64)   0           conv2d_5[0][0]                   \n",
      "                                                                 dense_10[0][0]                   \n",
      "__________________________________________________________________________________________________\n",
      "conv2d_6 (Conv2D)               (None, 2, 100, 64)   36928       multiply_5[0][0]                 \n",
      "__________________________________________________________________________________________________\n",
      "global_average_pooling2d_6 (Glo (None, 64)           0           conv2d_6[0][0]                   \n",
      "__________________________________________________________________________________________________\n",
      "dense_11 (Dense)                (None, 4)            260         global_average_pooling2d_6[0][0] \n",
      "__________________________________________________________________________________________________\n",
      "dense_12 (Dense)                (None, 64)           320         dense_11[0][0]                   \n",
      "__________________________________________________________________________________________________\n",
      "multiply_6 (Multiply)           (None, 2, 100, 64)   0           conv2d_6[0][0]                   \n",
      "                                                                 dense_12[0][0]                   \n",
      "__________________________________________________________________________________________________\n",
      "conv2d_7 (Conv2D)               (None, 2, 100, 128)  24704       multiply_6[0][0]                 \n",
      "__________________________________________________________________________________________________\n",
      "global_average_pooling2d_7 (Glo (None, 128)          0           conv2d_7[0][0]                   \n",
      "__________________________________________________________________________________________________\n",
      "dense_13 (Dense)                (None, 8)            1032        global_average_pooling2d_7[0][0] \n",
      "__________________________________________________________________________________________________\n",
      "dense_14 (Dense)                (None, 128)          1152        dense_13[0][0]                   \n",
      "__________________________________________________________________________________________________\n",
      "multiply_7 (Multiply)           (None, 2, 100, 128)  0           conv2d_7[0][0]                   \n",
      "                                                                 dense_14[0][0]                   \n",
      "__________________________________________________________________________________________________\n",
      "max_pooling2d_2 (MaxPooling2D)  (None, 1, 50, 128)   0           multiply_7[0][0]                 \n",
      "__________________________________________________________________________________________________\n",
      "flatten_1 (Flatten)             (None, 6400)         0           max_pooling2d_2[0][0]            \n",
      "__________________________________________________________________________________________________\n",
      "dense_15 (Dense)                (None, 256)          1638656     flatten_1[0][0]                  \n",
      "__________________________________________________________________________________________________\n",
      "dropout_1 (Dropout)             (None, 256)          0           dense_15[0][0]                   \n",
      "__________________________________________________________________________________________________\n",
      "dense_16 (Dense)                (None, 128)          32896       dropout_1[0][0]                  \n",
      "__________________________________________________________________________________________________\n",
      "dropout_2 (Dropout)             (None, 128)          0           dense_16[0][0]                   \n",
      "__________________________________________________________________________________________________\n",
      "dense_17 (Dense)                (None, 32)           4128        dropout_2[0][0]                  \n",
      "__________________________________________________________________________________________________\n",
      "dense_18 (Dense)                (None, 1)            33          dense_17[0][0]                   \n",
      "==================================================================================================\n",
      "Total params: 1,910,249\n",
      "Trainable params: 1,910,249\n",
      "Non-trainable params: 0\n",
      "__________________________________________________________________________________________________\n"
     ]
    },
    {
     "name": "stdout",
     "output_type": "stream",
     "text": [
      "Epoch 1/30\n",
      "13316/13316 [==============================] - 11s 831us/step - loss: 0.2373 - acc: 0.9233 - auroc: 0.9417 - auprc: 0.9417 - f1_m: 0.9328 - recall_m: 0.9753 - precision_m: 0.9106\n",
      "Epoch 2/30\n",
      "13316/13316 [==============================] - 8s 570us/step - loss: 0.0568 - acc: 0.9837 - auroc: 0.9867 - auprc: 0.9839 - f1_m: 0.9833 - recall_m: 0.9892 - precision_m: 0.9787\n",
      "Epoch 3/30\n",
      "13316/13316 [==============================] - 8s 565us/step - loss: 0.0446 - acc: 0.9877 - auroc: 0.9919 - auprc: 0.9890 - f1_m: 0.9874 - recall_m: 0.9933 - precision_m: 0.9822\n",
      "Epoch 4/30\n",
      "13316/13316 [==============================] - 8s 564us/step - loss: 0.0422 - acc: 0.9881 - auroc: 0.9939 - auprc: 0.9913 - f1_m: 0.9877 - recall_m: 0.9937 - precision_m: 0.9825\n",
      "Epoch 5/30\n",
      "13316/13316 [==============================] - 8s 565us/step - loss: 0.0410 - acc: 0.9878 - auroc: 0.9948 - auprc: 0.9924 - f1_m: 0.9875 - recall_m: 0.9952 - precision_m: 0.9807\n",
      "Epoch 6/30\n",
      "13316/13316 [==============================] - 7s 561us/step - loss: 0.0379 - acc: 0.9898 - auroc: 0.9954 - auprc: 0.9931 - f1_m: 0.9895 - recall_m: 0.9964 - precision_m: 0.9834\n",
      "Epoch 7/30\n",
      "13316/13316 [==============================] - 7s 558us/step - loss: 0.0360 - acc: 0.9897 - auroc: 0.9958 - auprc: 0.9936 - f1_m: 0.9894 - recall_m: 0.9960 - precision_m: 0.9837\n",
      "Epoch 8/30\n",
      "13316/13316 [==============================] - 7s 556us/step - loss: 0.0361 - acc: 0.9898 - auroc: 0.9961 - auprc: 0.9940 - f1_m: 0.9891 - recall_m: 0.9955 - precision_m: 0.9837\n",
      "Epoch 9/30\n",
      "13316/13316 [==============================] - 7s 550us/step - loss: 0.0349 - acc: 0.9903 - auroc: 0.9963 - auprc: 0.9943 - f1_m: 0.9903 - recall_m: 0.9964 - precision_m: 0.9849\n",
      "Epoch 10/30\n",
      "13316/13316 [==============================] - 7s 547us/step - loss: 0.0339 - acc: 0.9902 - auroc: 0.9965 - auprc: 0.9946 - f1_m: 0.9900 - recall_m: 0.9960 - precision_m: 0.9848\n",
      "Epoch 11/30\n",
      "13316/13316 [==============================] - 7s 554us/step - loss: 0.0320 - acc: 0.9909 - auroc: 0.9966 - auprc: 0.9947 - f1_m: 0.9910 - recall_m: 0.9968 - precision_m: 0.9858\n",
      "Epoch 12/30\n",
      "13316/13316 [==============================] - 8s 565us/step - loss: 0.0314 - acc: 0.9911 - auroc: 0.9968 - auprc: 0.9950 - f1_m: 0.9909 - recall_m: 0.9960 - precision_m: 0.9865\n",
      "Epoch 13/30\n",
      "13316/13316 [==============================] - 8s 569us/step - loss: 0.0291 - acc: 0.9924 - auroc: 0.9969 - auprc: 0.9951 - f1_m: 0.9921 - recall_m: 0.9973 - precision_m: 0.9875\n",
      "Epoch 14/30\n",
      "13316/13316 [==============================] - 8s 567us/step - loss: 0.0302 - acc: 0.9920 - auroc: 0.9970 - auprc: 0.9953 - f1_m: 0.9918 - recall_m: 0.9972 - precision_m: 0.9870\n",
      "Epoch 15/30\n",
      "13316/13316 [==============================] - 8s 571us/step - loss: 0.0296 - acc: 0.9923 - auroc: 0.9971 - auprc: 0.9954 - f1_m: 0.9921 - recall_m: 0.9970 - precision_m: 0.9877\n",
      "Epoch 16/30\n",
      "13316/13316 [==============================] - 7s 548us/step - loss: 0.0296 - acc: 0.9917 - auroc: 0.9972 - auprc: 0.9955 - f1_m: 0.9914 - recall_m: 0.9966 - precision_m: 0.9868\n",
      "Epoch 17/30\n",
      "13316/13316 [==============================] - 7s 550us/step - loss: 0.0286 - acc: 0.9918 - auroc: 0.9972 - auprc: 0.9956 - f1_m: 0.9917 - recall_m: 0.9970 - precision_m: 0.9869\n",
      "Epoch 18/30\n",
      "13316/13316 [==============================] - 7s 555us/step - loss: 0.0268 - acc: 0.9926 - auroc: 0.9973 - auprc: 0.9958 - f1_m: 0.9925 - recall_m: 0.9971 - precision_m: 0.9884\n",
      "Epoch 19/30\n",
      "13316/13316 [==============================] - 8s 568us/step - loss: 0.0254 - acc: 0.9932 - auroc: 0.9974 - auprc: 0.9959 - f1_m: 0.9931 - recall_m: 0.9975 - precision_m: 0.9892\n",
      "Epoch 20/30\n",
      "13316/13316 [==============================] - 8s 572us/step - loss: 0.0253 - acc: 0.9935 - auroc: 0.9975 - auprc: 0.9960 - f1_m: 0.9932 - recall_m: 0.9977 - precision_m: 0.9892\n",
      "Epoch 21/30\n",
      "13316/13316 [==============================] - 7s 557us/step - loss: 0.0261 - acc: 0.9925 - auroc: 0.9975 - auprc: 0.9961 - f1_m: 0.9923 - recall_m: 0.9969 - precision_m: 0.9882\n",
      "Epoch 22/30\n",
      "13316/13316 [==============================] - 7s 556us/step - loss: 0.0243 - acc: 0.9932 - auroc: 0.9976 - auprc: 0.9962 - f1_m: 0.9930 - recall_m: 0.9974 - precision_m: 0.9890\n",
      "Epoch 23/30\n",
      "13316/13316 [==============================] - 7s 552us/step - loss: 0.0238 - acc: 0.9936 - auroc: 0.9976 - auprc: 0.9962 - f1_m: 0.9935 - recall_m: 0.9981 - precision_m: 0.9893\n",
      "Epoch 24/30\n",
      "13316/13316 [==============================] - 7s 550us/step - loss: 0.0230 - acc: 0.9935 - auroc: 0.9977 - auprc: 0.9963 - f1_m: 0.9936 - recall_m: 0.9974 - precision_m: 0.9903\n",
      "Epoch 25/30\n",
      "13316/13316 [==============================] - 7s 550us/step - loss: 0.0217 - acc: 0.9941 - auroc: 0.9977 - auprc: 0.9964 - f1_m: 0.9939 - recall_m: 0.9979 - precision_m: 0.9904\n",
      "Epoch 26/30\n",
      "13316/13316 [==============================] - 7s 556us/step - loss: 0.0220 - acc: 0.9939 - auroc: 0.9978 - auprc: 0.9965 - f1_m: 0.9937 - recall_m: 0.9979 - precision_m: 0.9900\n",
      "Epoch 27/30\n",
      "13316/13316 [==============================] - 8s 564us/step - loss: 0.0219 - acc: 0.9941 - auroc: 0.9978 - auprc: 0.9966 - f1_m: 0.9941 - recall_m: 0.9978 - precision_m: 0.9909\n",
      "Epoch 28/30\n",
      "13316/13316 [==============================] - 8s 565us/step - loss: 0.0211 - acc: 0.9944 - auroc: 0.9979 - auprc: 0.9967 - f1_m: 0.9942 - recall_m: 0.9978 - precision_m: 0.9910\n",
      "Epoch 29/30\n",
      "13316/13316 [==============================] - 8s 568us/step - loss: 0.0210 - acc: 0.9944 - auroc: 0.9979 - auprc: 0.9967 - f1_m: 0.9942 - recall_m: 0.9982 - precision_m: 0.9907\n",
      "Epoch 30/30\n",
      "13316/13316 [==============================] - 8s 572us/step - loss: 0.0197 - acc: 0.9949 - auroc: 0.9980 - auprc: 0.9968 - f1_m: 0.9948 - recall_m: 0.9984 - precision_m: 0.9915\n",
      "HepG2\n",
      "-ATAC\n",
      "-H3K27ac\n",
      "-H3K4me3\n",
      "-H3K9ac\n",
      "-H3K4me1\n",
      "(15438, 5, 200)\n",
      "(15438, 1)\n",
      "K562\n",
      "-ATAC\n",
      "-H3K27ac\n",
      "-H3K4me3\n",
      "-H3K9ac\n",
      "-H3K4me1\n",
      "(13316, 5, 200)\n",
      "(13316, 1)\n",
      "__________________________________________________________________________________________________\n",
      "Layer (type)                    Output Shape         Param #     Connected to                     \n",
      "==================================================================================================\n",
      "input_1 (InputLayer)            (None, 5, 200, 1)    0                                            \n",
      "__________________________________________________________________________________________________\n",
      "conv2d_1 (Conv2D)               (None, 5, 200, 128)  3968        input_1[0][0]                    \n",
      "__________________________________________________________________________________________________\n",
      "global_average_pooling2d_1 (Glo (None, 128)          0           conv2d_1[0][0]                   \n",
      "__________________________________________________________________________________________________\n",
      "dense_1 (Dense)                 (None, 8)            1032        global_average_pooling2d_1[0][0] \n",
      "__________________________________________________________________________________________________\n",
      "dense_2 (Dense)                 (None, 128)          1152        dense_1[0][0]                    \n",
      "__________________________________________________________________________________________________\n",
      "multiply_1 (Multiply)           (None, 5, 200, 128)  0           conv2d_1[0][0]                   \n",
      "                                                                 dense_2[0][0]                    \n",
      "__________________________________________________________________________________________________\n",
      "conv2d_2 (Conv2D)               (None, 5, 200, 64)   24640       multiply_1[0][0]                 \n",
      "__________________________________________________________________________________________________\n",
      "global_average_pooling2d_2 (Glo (None, 64)           0           conv2d_2[0][0]                   \n",
      "__________________________________________________________________________________________________\n",
      "dense_3 (Dense)                 (None, 4)            260         global_average_pooling2d_2[0][0] \n",
      "__________________________________________________________________________________________________\n",
      "dense_4 (Dense)                 (None, 64)           320         dense_3[0][0]                    \n",
      "__________________________________________________________________________________________________\n",
      "multiply_2 (Multiply)           (None, 5, 200, 64)   0           conv2d_2[0][0]                   \n",
      "                                                                 dense_4[0][0]                    \n",
      "__________________________________________________________________________________________________\n",
      "conv2d_3 (Conv2D)               (None, 5, 200, 64)   36928       multiply_2[0][0]                 \n",
      "__________________________________________________________________________________________________\n",
      "global_average_pooling2d_3 (Glo (None, 64)           0           conv2d_3[0][0]                   \n",
      "__________________________________________________________________________________________________\n",
      "dense_5 (Dense)                 (None, 4)            260         global_average_pooling2d_3[0][0] \n",
      "__________________________________________________________________________________________________\n",
      "dense_6 (Dense)                 (None, 64)           320         dense_5[0][0]                    \n",
      "__________________________________________________________________________________________________\n",
      "multiply_3 (Multiply)           (None, 5, 200, 64)   0           conv2d_3[0][0]                   \n",
      "                                                                 dense_6[0][0]                    \n",
      "__________________________________________________________________________________________________\n",
      "conv2d_4 (Conv2D)               (None, 5, 200, 128)  24704       multiply_3[0][0]                 \n",
      "__________________________________________________________________________________________________\n",
      "global_average_pooling2d_4 (Glo (None, 128)          0           conv2d_4[0][0]                   \n",
      "__________________________________________________________________________________________________\n",
      "dense_7 (Dense)                 (None, 8)            1032        global_average_pooling2d_4[0][0] \n",
      "__________________________________________________________________________________________________\n",
      "dense_8 (Dense)                 (None, 128)          1152        dense_7[0][0]                    \n",
      "__________________________________________________________________________________________________\n",
      "multiply_4 (Multiply)           (None, 5, 200, 128)  0           conv2d_4[0][0]                   \n",
      "                                                                 dense_8[0][0]                    \n",
      "__________________________________________________________________________________________________\n",
      "max_pooling2d_1 (MaxPooling2D)  (None, 2, 100, 128)  0           multiply_4[0][0]                 \n",
      "__________________________________________________________________________________________________\n",
      "conv2d_5 (Conv2D)               (None, 2, 100, 64)   73792       max_pooling2d_1[0][0]            \n",
      "__________________________________________________________________________________________________\n",
      "global_average_pooling2d_5 (Glo (None, 64)           0           conv2d_5[0][0]                   \n",
      "__________________________________________________________________________________________________\n",
      "dense_9 (Dense)                 (None, 4)            260         global_average_pooling2d_5[0][0] \n",
      "__________________________________________________________________________________________________\n",
      "dense_10 (Dense)                (None, 64)           320         dense_9[0][0]                    \n",
      "__________________________________________________________________________________________________\n",
      "multiply_5 (Multiply)           (None, 2, 100, 64)   0           conv2d_5[0][0]                   \n",
      "                                                                 dense_10[0][0]                   \n",
      "__________________________________________________________________________________________________\n",
      "conv2d_6 (Conv2D)               (None, 2, 100, 64)   36928       multiply_5[0][0]                 \n",
      "__________________________________________________________________________________________________\n",
      "global_average_pooling2d_6 (Glo (None, 64)           0           conv2d_6[0][0]                   \n",
      "__________________________________________________________________________________________________\n",
      "dense_11 (Dense)                (None, 4)            260         global_average_pooling2d_6[0][0] \n",
      "__________________________________________________________________________________________________\n",
      "dense_12 (Dense)                (None, 64)           320         dense_11[0][0]                   \n",
      "__________________________________________________________________________________________________\n",
      "multiply_6 (Multiply)           (None, 2, 100, 64)   0           conv2d_6[0][0]                   \n",
      "                                                                 dense_12[0][0]                   \n",
      "__________________________________________________________________________________________________\n",
      "conv2d_7 (Conv2D)               (None, 2, 100, 128)  24704       multiply_6[0][0]                 \n",
      "__________________________________________________________________________________________________\n",
      "global_average_pooling2d_7 (Glo (None, 128)          0           conv2d_7[0][0]                   \n",
      "__________________________________________________________________________________________________\n",
      "dense_13 (Dense)                (None, 8)            1032        global_average_pooling2d_7[0][0] \n",
      "__________________________________________________________________________________________________\n",
      "dense_14 (Dense)                (None, 128)          1152        dense_13[0][0]                   \n",
      "__________________________________________________________________________________________________\n",
      "multiply_7 (Multiply)           (None, 2, 100, 128)  0           conv2d_7[0][0]                   \n",
      "                                                                 dense_14[0][0]                   \n",
      "__________________________________________________________________________________________________\n",
      "max_pooling2d_2 (MaxPooling2D)  (None, 1, 50, 128)   0           multiply_7[0][0]                 \n",
      "__________________________________________________________________________________________________\n",
      "flatten_1 (Flatten)             (None, 6400)         0           max_pooling2d_2[0][0]            \n",
      "__________________________________________________________________________________________________\n",
      "dense_15 (Dense)                (None, 256)          1638656     flatten_1[0][0]                  \n",
      "__________________________________________________________________________________________________\n",
      "dropout_1 (Dropout)             (None, 256)          0           dense_15[0][0]                   \n",
      "__________________________________________________________________________________________________\n",
      "dense_16 (Dense)                (None, 128)          32896       dropout_1[0][0]                  \n",
      "__________________________________________________________________________________________________\n",
      "dropout_2 (Dropout)             (None, 128)          0           dense_16[0][0]                   \n",
      "__________________________________________________________________________________________________\n",
      "dense_17 (Dense)                (None, 32)           4128        dropout_2[0][0]                  \n",
      "__________________________________________________________________________________________________\n",
      "dense_18 (Dense)                (None, 1)            33          dense_17[0][0]                   \n",
      "==================================================================================================\n",
      "Total params: 1,910,249\n",
      "Trainable params: 1,910,249\n",
      "Non-trainable params: 0\n",
      "__________________________________________________________________________________________________\n"
     ]
    },
    {
     "name": "stdout",
     "output_type": "stream",
     "text": [
      "Epoch 1/30\n",
      "15438/15438 [==============================] - 10s 671us/step - loss: 0.2343 - acc: 0.9245 - auroc: 0.9200 - auprc: 0.9183 - f1_m: 0.9317 - recall_m: 0.9741 - precision_m: 0.9055\n",
      "Epoch 2/30\n",
      "15438/15438 [==============================] - 9s 558us/step - loss: 0.0726 - acc: 0.9792 - auroc: 0.9815 - auprc: 0.9735 - f1_m: 0.9787 - recall_m: 0.9928 - precision_m: 0.9664\n",
      "Epoch 3/30\n",
      "15438/15438 [==============================] - 9s 554us/step - loss: 0.0579 - acc: 0.9841 - auroc: 0.9879 - auprc: 0.9816 - f1_m: 0.9836 - recall_m: 0.9948 - precision_m: 0.9738\n",
      "Epoch 4/30\n",
      "15438/15438 [==============================] - 9s 555us/step - loss: 0.0492 - acc: 0.9863 - auroc: 0.9906 - auprc: 0.9855 - f1_m: 0.9858 - recall_m: 0.9949 - precision_m: 0.9778\n",
      "Epoch 5/30\n",
      "15438/15438 [==============================] - 8s 550us/step - loss: 0.0429 - acc: 0.9879 - auroc: 0.9922 - auprc: 0.9879 - f1_m: 0.9877 - recall_m: 0.9962 - precision_m: 0.9802\n",
      "Epoch 6/30\n",
      "15438/15438 [==============================] - 9s 559us/step - loss: 0.0445 - acc: 0.9872 - auroc: 0.9933 - auprc: 0.9896 - f1_m: 0.9869 - recall_m: 0.9951 - precision_m: 0.9797\n",
      "Epoch 7/30\n",
      "15438/15438 [==============================] - 9s 552us/step - loss: 0.0427 - acc: 0.9874 - auroc: 0.9939 - auprc: 0.9904 - f1_m: 0.9873 - recall_m: 0.9958 - precision_m: 0.9797\n",
      "Epoch 8/30\n",
      "15438/15438 [==============================] - 9s 552us/step - loss: 0.0379 - acc: 0.9896 - auroc: 0.9944 - auprc: 0.9913 - f1_m: 0.9893 - recall_m: 0.9968 - precision_m: 0.9827\n",
      "Epoch 9/30\n",
      "15438/15438 [==============================] - 9s 566us/step - loss: 0.0365 - acc: 0.9900 - auroc: 0.9948 - auprc: 0.9919 - f1_m: 0.9898 - recall_m: 0.9967 - precision_m: 0.9837\n",
      "Epoch 10/30\n",
      "15438/15438 [==============================] - 9s 570us/step - loss: 0.0352 - acc: 0.9903 - auroc: 0.9952 - auprc: 0.9925 - f1_m: 0.9901 - recall_m: 0.9972 - precision_m: 0.9838\n",
      "Epoch 11/30\n",
      "15438/15438 [==============================] - 9s 568us/step - loss: 0.0365 - acc: 0.9897 - auroc: 0.9955 - auprc: 0.9929 - f1_m: 0.9895 - recall_m: 0.9965 - precision_m: 0.9832\n",
      "Epoch 12/30\n",
      "15438/15438 [==============================] - 9s 553us/step - loss: 0.0343 - acc: 0.9900 - auroc: 0.9957 - auprc: 0.9932 - f1_m: 0.9899 - recall_m: 0.9967 - precision_m: 0.9838\n",
      "Epoch 13/30\n",
      "15438/15438 [==============================] - 9s 560us/step - loss: 0.0322 - acc: 0.9913 - auroc: 0.9959 - auprc: 0.9936 - f1_m: 0.9910 - recall_m: 0.9970 - precision_m: 0.9857\n",
      "Epoch 14/30\n",
      "15438/15438 [==============================] - 9s 564us/step - loss: 0.0325 - acc: 0.9912 - auroc: 0.9961 - auprc: 0.9938 - f1_m: 0.9911 - recall_m: 0.9970 - precision_m: 0.9859\n",
      "Epoch 15/30\n",
      "15438/15438 [==============================] - 9s 568us/step - loss: 0.0333 - acc: 0.9905 - auroc: 0.9962 - auprc: 0.9941 - f1_m: 0.9904 - recall_m: 0.9967 - precision_m: 0.9848\n",
      "Epoch 16/30\n",
      "15438/15438 [==============================] - 9s 570us/step - loss: 0.0328 - acc: 0.9914 - auroc: 0.9964 - auprc: 0.9943 - f1_m: 0.9912 - recall_m: 0.9970 - precision_m: 0.9860\n",
      "Epoch 17/30\n",
      "15438/15438 [==============================] - 9s 567us/step - loss: 0.0302 - acc: 0.9916 - auroc: 0.9965 - auprc: 0.9944 - f1_m: 0.9914 - recall_m: 0.9972 - precision_m: 0.9862\n",
      "Epoch 18/30\n",
      "15438/15438 [==============================] - 9s 561us/step - loss: 0.0302 - acc: 0.9915 - auroc: 0.9966 - auprc: 0.9946 - f1_m: 0.9912 - recall_m: 0.9969 - precision_m: 0.9862\n",
      "Epoch 19/30\n",
      "15438/15438 [==============================] - 9s 559us/step - loss: 0.0285 - acc: 0.9926 - auroc: 0.9967 - auprc: 0.9948 - f1_m: 0.9925 - recall_m: 0.9983 - precision_m: 0.9872\n",
      "Epoch 20/30\n",
      "15438/15438 [==============================] - 9s 559us/step - loss: 0.0284 - acc: 0.9920 - auroc: 0.9968 - auprc: 0.9949 - f1_m: 0.9919 - recall_m: 0.9974 - precision_m: 0.9869\n",
      "Epoch 21/30\n",
      "15438/15438 [==============================] - 9s 562us/step - loss: 0.0279 - acc: 0.9920 - auroc: 0.9969 - auprc: 0.9950 - f1_m: 0.9917 - recall_m: 0.9969 - precision_m: 0.9872\n",
      "Epoch 22/30\n",
      "15438/15438 [==============================] - 9s 565us/step - loss: 0.0256 - acc: 0.9935 - auroc: 0.9970 - auprc: 0.9952 - f1_m: 0.9933 - recall_m: 0.9982 - precision_m: 0.9888\n",
      "Epoch 23/30\n",
      "15438/15438 [==============================] - 9s 565us/step - loss: 0.0262 - acc: 0.9927 - auroc: 0.9970 - auprc: 0.9953 - f1_m: 0.9924 - recall_m: 0.9972 - precision_m: 0.9881\n",
      "Epoch 24/30\n",
      "15438/15438 [==============================] - 9s 566us/step - loss: 0.0256 - acc: 0.9932 - auroc: 0.9971 - auprc: 0.9954 - f1_m: 0.9930 - recall_m: 0.9979 - precision_m: 0.9885\n",
      "Epoch 25/30\n",
      "15438/15438 [==============================] - 9s 567us/step - loss: 0.0234 - acc: 0.9935 - auroc: 0.9972 - auprc: 0.9955 - f1_m: 0.9933 - recall_m: 0.9979 - precision_m: 0.9892\n",
      "Epoch 26/30\n",
      "15438/15438 [==============================] - 9s 567us/step - loss: 0.0258 - acc: 0.9931 - auroc: 0.9972 - auprc: 0.9956 - f1_m: 0.9927 - recall_m: 0.9979 - precision_m: 0.9881\n",
      "Epoch 27/30\n",
      "15438/15438 [==============================] - 9s 567us/step - loss: 0.0231 - acc: 0.9939 - auroc: 0.9973 - auprc: 0.9957 - f1_m: 0.9938 - recall_m: 0.9983 - precision_m: 0.9897\n",
      "Epoch 28/30\n",
      "15438/15438 [==============================] - 9s 572us/step - loss: 0.0240 - acc: 0.9935 - auroc: 0.9974 - auprc: 0.9958 - f1_m: 0.9932 - recall_m: 0.9981 - precision_m: 0.9887\n",
      "Epoch 29/30\n",
      "15438/15438 [==============================] - 9s 552us/step - loss: 0.0229 - acc: 0.9940 - auroc: 0.9974 - auprc: 0.9959 - f1_m: 0.9938 - recall_m: 0.9984 - precision_m: 0.9897\n",
      "Epoch 30/30\n",
      "15438/15438 [==============================] - 8s 543us/step - loss: 0.0223 - acc: 0.9944 - auroc: 0.9975 - auprc: 0.9959 - f1_m: 0.9941 - recall_m: 0.9989 - precision_m: 0.9898\n"
     ]
    }
   ],
   "source": [
    "#iterate to cross validate each cell type\n",
    "for validation_cell in args.cell_types:\n",
    "    training_cell = args.cell_types[:]\n",
    "    training_cell.remove(validation_cell)\n",
    "    \n",
    "    x_train, y_train = get_data(training_cell, args.in_dir, seq_names)\n",
    "    x_train, y_train = shuffle(x_train, y_train, random_state=0)\n",
    "    x_train = np.expand_dims(x_train, axis=4)\n",
    "    \n",
    "    x_test, y_test = get_data([validation_cell], args.in_dir, seq_names)    \n",
    "    x_test = np.expand_dims(x_test, axis=4)\n",
    "\n",
    "    # construct the model\n",
    "    model = load_model()\n",
    "\n",
    "    adam = Adam(lr=1e-4, beta_1=0.9, beta_2=0.999, epsilon=1e-08, decay=9e-5)\n",
    "    model.compile(loss='binary_crossentropy', optimizer=adam, \n",
    "        metrics=['accuracy', auroc, auprc, f1_m, recall_m, precision_m])\n",
    "\n",
    "    #train the model\n",
    "    history_list.append(model.fit(x_train, y_train,\n",
    "                batch_size=32,\n",
    "                epochs=30,\n",
    "                validation_split=0.0,\n",
    "                shuffle=True))\n",
    "\n",
    "    # predict the results\n",
    "    y_pred = model.predict(x_test).ravel()\n",
    "    y_pred_list.append(y_pred)\n",
    "    y_test_list.append(y_test.ravel())\n",
    "\n",
    "    accuracy_s = sklearn.metrics.accuracy_score(y_test, np.rint(y_pred))\n",
    "    accuracy_list.append(accuracy_s)\n",
    "\n",
    "    #iterate k fold counter\n",
    "    kskip = kskip + 1\n",
    "\n",
    "    #delete the model so the variable is cleared\n",
    "    del model"
   ]
  },
  {
   "cell_type": "code",
   "execution_count": 7,
   "metadata": {},
   "outputs": [
    {
     "name": "stdout",
     "output_type": "stream",
     "text": [
      "15438 15438 <class 'numpy.ndarray'>\n",
      "13316 13316 <class 'numpy.ndarray'>\n"
     ]
    },
    {
     "data": {
      "text/plain": [
       "<matplotlib.legend.Legend at 0x2b3346acbb38>"
      ]
     },
     "execution_count": 7,
     "metadata": {},
     "output_type": "execute_result"
    },
    {
     "data": {
      "image/png": "[encoded data removed]",
      "text/plain": [
       "<Figure size 432x288 with 1 Axes>"
      ]
     },
     "metadata": {
      "needs_background": "light"
     },
     "output_type": "display_data"
    }
   ],
   "source": [
    "y_test_out = []\n",
    "y_pred_out = []\n",
    "for j in range(len(y_test_list)):\n",
    "    print(len(y_test_list[j]), len(y_pred_list[j]), type(y_test_list[j]))\n",
    "    y_test_out.extend(y_test_list[j])\n",
    "    y_pred_out.extend(y_pred_list[j])\n",
    "\n",
    "# plot accuracy over time\n",
    "plt.figure()\n",
    "history_acc = np.array([np.array(h.history['acc']) for h in history_list])\n",
    "mean_history_acc = np.mean(history_acc, axis=0)\n",
    "\n",
    "plt.plot(mean_history_acc, label='Keras (5cv_acc = {:.3f})'.format(np.mean(np.array(accuracy_list))))\n",
    "plt.title('training accuracy')\n",
    "plt.ylabel('accuracy')\n",
    "plt.xlabel('epoch')\n",
    "plt.legend(['train'], loc='upper left')\n",
    "#plt.savefig(figure_output_name+'.accuracy.png')"
   ]
  },
  {
   "cell_type": "code",
   "execution_count": 8,
   "metadata": {},
   "outputs": [
    {
     "data": {
      "text/plain": [
       "<matplotlib.legend.Legend at 0x2b33471c45f8>"
      ]
     },
     "execution_count": 8,
     "metadata": {},
     "output_type": "execute_result"
    },
    {
     "data": {
      "image/png": "[encoded data removed]",
      "text/plain": [
       "<Figure size 432x288 with 1 Axes>"
      ]
     },
     "metadata": {
      "needs_background": "light"
     },
     "output_type": "display_data"
    }
   ],
   "source": [
    "# plot loss over time\n",
    "plt.figure()\n",
    "history_loss = np.array([np.array(h.history['loss']) for h in history_list])\n",
    "mean_history_loss = np.mean(history_loss, axis=0)\n",
    "\n",
    "plt.plot(mean_history_loss)\n",
    "plt.title('training loss')\n",
    "plt.ylabel('loss')\n",
    "plt.xlabel('epoch')\n",
    "plt.legend(['train'], loc='upper left')\n",
    "#plt.savefig(figure_output_name+'.loss.png')"
   ]
  },
  {
   "cell_type": "code",
   "execution_count": 9,
   "metadata": {},
   "outputs": [
    {
     "data": {
      "text/plain": [
       "<matplotlib.legend.Legend at 0x2b3347228278>"
      ]
     },
     "execution_count": 9,
     "metadata": {},
     "output_type": "execute_result"
    },
    {
     "data": {
      "image/png": "[encoded data removed]",
      "text/plain": [
       "<Figure size 432x288 with 1 Axes>"
      ]
     },
     "metadata": {
      "needs_background": "light"
     },
     "output_type": "display_data"
    }
   ],
   "source": [
    "# auroc over time\n",
    "plt.figure()\n",
    "history_auroc = np.array([np.array(h.history['auroc']) for h in history_list])\n",
    "mean_history_auroc = np.mean(history_auroc, axis=0)\n",
    "\n",
    "plt.plot(mean_history_auroc)\n",
    "plt.title('training auROC')\n",
    "plt.ylabel('auroc')\n",
    "plt.xlabel('epoch')\n",
    "plt.legend(['train'], loc='upper left')\n",
    "#plt.savefig(figure_output_name+'.auROC.png')"
   ]
  },
  {
   "cell_type": "code",
   "execution_count": 10,
   "metadata": {},
   "outputs": [
    {
     "data": {
      "text/plain": [
       "<matplotlib.legend.Legend at 0x2b3347298438>"
      ]
     },
     "execution_count": 10,
     "metadata": {},
     "output_type": "execute_result"
    },
    {
     "data": {
      "image/png": "[encoded data removed]",
      "text/plain": [
       "<Figure size 432x288 with 1 Axes>"
      ]
     },
     "metadata": {
      "needs_background": "light"
     },
     "output_type": "display_data"
    }
   ],
   "source": [
    "# auprc over time\n",
    "plt.figure()\n",
    "history_auprc = np.array([np.array(h.history['auprc']) for h in history_list])\n",
    "mean_history_auprc = np.mean(history_auprc, axis=0)\n",
    "\n",
    "plt.plot(mean_history_auprc)\n",
    "plt.title('training auPRC')\n",
    "plt.ylabel('auprc')\n",
    "plt.xlabel('epoch')\n",
    "plt.legend(['train'], loc='upper left')\n",
    "#plt.savefig(figure_output_name+'.auPRC.png')"
   ]
  },
  {
   "cell_type": "code",
   "execution_count": 11,
   "metadata": {},
   "outputs": [
    {
     "name": "stdout",
     "output_type": "stream",
     "text": [
      "2 101 101\n"
     ]
    },
    {
     "name": "stderr",
     "output_type": "stream",
     "text": [
      "/gpfs/ysm/project/zc264/conda_envs/old_keras_gpu/lib/python3.6/site-packages/ipykernel_launcher.py:30: MatplotlibDeprecationWarning: Adding an axes using the same arguments as a previous axes currently reuses the earlier instance.  In a future version, a new instance will always be created and returned.  Meanwhile, this warning can be suppressed, and the future behavior ensured, by passing a unique label to each axes instance.\n"
     ]
    },
    {
     "data": {
      "image/png": "[encoded data removed]",
      "text/plain": [
       "<Figure size 360x360 with 1 Axes>"
      ]
     },
     "metadata": {
      "needs_background": "light"
     },
     "output_type": "display_data"
    }
   ],
   "source": [
    "# ROC in test set\n",
    "plt.figure(figsize=(5, 5))\n",
    "base_fpr = np.linspace(0, 1, 101)\n",
    "tpr_list = []\n",
    "auroc_list = []\n",
    "for i in range(len(y_test_list)):\n",
    "    fpr, tpr, thresholds = sklearn.metrics.roc_curve(y_test_list[i], y_pred_list[i])\n",
    "    auroc_list.append(sklearn.metrics.roc_auc_score(y_test_list[i], y_pred_list[i]))\n",
    "    plt.plot(fpr, tpr, 'b', alpha=0.15)\n",
    "    tpr = np.interp(base_fpr, fpr, tpr)\n",
    "    tpr[0] = 0.0\n",
    "    tpr_list.append(tpr)\n",
    "\n",
    "\n",
    "print(len(tpr_list), len(tpr_list[0]), len(tpr_list[1]))\n",
    "tpr_list = np.array(tpr_list)\n",
    "mean_tpr = np.mean(np.array(tpr_list), axis=0)\n",
    "tpr_std = tpr_list.std(axis=0)\n",
    "\n",
    "tprs_upper = np.minimum(mean_tpr + 2 * tpr_std, 1)\n",
    "tprs_lower = mean_tpr - 2 * tpr_std\n",
    "\n",
    "plt.plot([0, 1], [0, 1], 'k--')\n",
    "plt.plot(base_fpr, mean_tpr, 'b', label='Keras (area = {:.3f})'.format(np.mean(np.array(auroc_list))))\n",
    "plt.fill_between(base_fpr, tprs_lower, tprs_upper, color='grey', alpha=0.3)\n",
    "plt.xlabel('False positive rate')\n",
    "plt.ylabel('True positive rate')\n",
    "plt.title('ROC curve')\n",
    "plt.legend(loc='best')\n",
    "plt.axes().set_aspect('equal', 'datalim')\n",
    "#plt.savefig(figure_output_name+'.ROC.png')"
   ]
  },
  {
   "cell_type": "code",
   "execution_count": 12,
   "metadata": {},
   "outputs": [
    {
     "name": "stdout",
     "output_type": "stream",
     "text": [
      "2 101 101\n"
     ]
    },
    {
     "name": "stderr",
     "output_type": "stream",
     "text": [
      "/gpfs/ysm/project/zc264/conda_envs/old_keras_gpu/lib/python3.6/site-packages/ipykernel_launcher.py:29: MatplotlibDeprecationWarning: Adding an axes using the same arguments as a previous axes currently reuses the earlier instance.  In a future version, a new instance will always be created and returned.  Meanwhile, this warning can be suppressed, and the future behavior ensured, by passing a unique label to each axes instance.\n"
     ]
    },
    {
     "data": {
      "image/png": "[encoded data removed]",
      "text/plain": [
       "<Figure size 360x360 with 1 Axes>"
      ]
     },
     "metadata": {
      "needs_background": "light"
     },
     "output_type": "display_data"
    }
   ],
   "source": [
    "# PRC in test set\n",
    "plt.figure(figsize=(5, 5))\n",
    "base_recall = np.linspace(0, 1, 101)\n",
    "precision_list = []\n",
    "auprc_list = []\n",
    "for i in range(len(y_test_list)):\n",
    "    recall, precision, thresholds = sklearn.metrics.precision_recall_curve(y_test_list[i], y_pred_list[i])\n",
    "    auprc_list.append(sklearn.metrics.average_precision_score(y_test_list[i], y_pred_list[i]))\n",
    "    plt.plot(recall, precision, 'b', alpha=0.15)\n",
    "    precision = np.interp(base_recall, recall, precision)\n",
    "    precision[0] = 1.0\n",
    "    precision_list.append(precision)\n",
    "\n",
    "print(len(precision_list), len(precision_list[0]), len(precision_list[1]))\n",
    "precision_list = np.array(precision_list)\n",
    "mean_precision = np.mean(np.array(precision_list), axis=0)\n",
    "precision_std = precision_list.std(axis=0)\n",
    "\n",
    "precisions_upper = np.minimum(mean_precision + 2 * precision_std, 1)\n",
    "precisions_lower = mean_precision - 2 * precision_std\n",
    "\n",
    "plt.plot([0, 1], [1, 0], 'k--')\n",
    "plt.plot(base_recall, mean_precision, 'b', label='Keras (area = {:.3f})'.format(np.mean(np.array(auprc_list))))\n",
    "plt.fill_between(base_recall, precisions_lower, precisions_upper, color='grey', alpha=0.3)\n",
    "plt.xlabel('recall')\n",
    "plt.ylabel('precision')\n",
    "plt.title('PRC curve')\n",
    "plt.legend(loc='best')\n",
    "plt.axes().set_aspect('equal', 'datalim')\n",
    "#plt.savefig(figure_output_name+'.PRC.png')"
   ]
  },
  {
   "cell_type": "code",
   "execution_count": 13,
   "metadata": {},
   "outputs": [
    {
     "name": "stdout",
     "output_type": "stream",
     "text": [
      "validation accuracy: 0.9775218569215768\n",
      "validation auROC: 0.9970865270664689\n",
      "validation auPRC: 0.9955845362699265\n"
     ]
    }
   ],
   "source": [
    "print(\"validation accuracy: \" + str(np.mean(np.array(accuracy_list))))\n",
    "print(\"validation auROC: \" + str(np.mean(np.array(auroc_list))))\n",
    "print(\"validation auPRC: \" + str(np.mean(np.array(auprc_list))))"
   ]
  },
  {
   "cell_type": "code",
   "execution_count": null,
   "metadata": {},
   "outputs": [],
   "source": []
  }
 ],
 "metadata": {
  "kernelspec": {
   "display_name": "Python 3",
   "language": "python",
   "name": "python3"
  },
  "language_info": {
   "codemirror_mode": {
    "name": "ipython",
    "version": 3
   },
   "file_extension": ".py",
   "mimetype": "text/x-python",
   "name": "python",
   "nbconvert_exporter": "python",
   "pygments_lexer": "ipython3",
   "version": "3.6.5"
  }
 },
 "nbformat": 4,
 "nbformat_minor": 2
}
