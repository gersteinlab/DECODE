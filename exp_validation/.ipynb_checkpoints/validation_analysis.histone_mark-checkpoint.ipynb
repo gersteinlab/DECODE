{
 "cells": [
  {
   "cell_type": "code",
   "execution_count": 1,
   "metadata": {},
   "outputs": [],
   "source": [
    "#-----import packages-----#\n",
    "\n",
    "#common python packages\n",
    "import numpy as np\n",
    "import string\n",
    "import random\n",
    "import os\n",
    "import pickle\n",
    "import argparse\n",
    "import wget\n",
    "import math\n",
    "import gc\n",
    "import sys\n",
    "import multiprocessing as mp\n",
    "\n",
    "#biological packages\n",
    "import pybedtools\n",
    "from pybedtools import featurefuncs\n",
    "import pyBigWig\n",
    "\n",
    "#machine learning packages\n",
    "import sklearn\n",
    "from sklearn.utils import shuffle\n",
    "import matplotlib\n",
    "from matplotlib import pyplot as plt\n",
    "import pandas as pd\n",
    "from scipy.stats import f_oneway\n",
    "from scipy.stats import ttest_ind\n",
    "\n",
    "%matplotlib inline"
   ]
  },
  {
   "cell_type": "code",
   "execution_count": 37,
   "metadata": {},
   "outputs": [],
   "source": [
    "#load in original bed from prediction\n",
    "file_dir = \"/gpfs/ysm/scratch60/gerstein/zc264/ChromVar/enhancer-prediction/encode/datasets/validation/Sutton/\"\n",
    "file_name = \"H1.17k.enhancer.hg38.bed\"\n",
    "sutton_bed = pybedtools.BedTool(file_dir + file_name).sort()\n",
    "\n",
    "#load in H1 DNase \n",
    "dnase_bed = pybedtools.BedTool(\"/gpfs/ysm/scratch60/gerstein/zc264/ChromVar/enhancer-prediction/encode/datasets/H1/\" + \"H1.DNase-seq.narrowPeak\").sort()\n",
    "\n",
    "#load in H1 H3K27ac \n",
    "h3k27ac_bed = pybedtools.BedTool(\"/gpfs/ysm/scratch60/gerstein/zc264/ChromVar/enhancer-prediction/encode/datasets/H1/\" + \"H1.ChIP-seq.H3K27ac.narrowPeak\").sort()\n",
    "\n",
    "#load in H1 H3K4me3\n",
    "h3k4me3_bed = pybedtools.BedTool(\"/gpfs/ysm/scratch60/gerstein/zc264/ChromVar/enhancer-prediction/encode/datasets/H1/\" + \"H1.ChIP-seq.H3K4me3.narrowPeak\").sort()"
   ]
  },
  {
   "cell_type": "code",
   "execution_count": 41,
   "metadata": {},
   "outputs": [
    {
     "name": "stdout",
     "output_type": "stream",
     "text": [
      "Sutton-seq has a total coverage of 65673558 bp\n",
      "DNase-seq has a total coverage of 9013812 bp\n",
      "ChIP-seq H3K27ac prediction has a total coverage of 37345246 bp\n",
      "ChIP-seq H3K4me3 prediction has a total coverage of 71221468 bp\n"
     ]
    },
    {
     "data": {
      "text/plain": [
       "Text(0, 0.5, 'Ten Million Base Pairs')"
      ]
     },
     "execution_count": 41,
     "metadata": {},
     "output_type": "execute_result"
    },
    {
     "data": {
      "image/png": "[encoded data removed]",
      "text/plain": [
       "<Figure size 504x360 with 1 Axes>"
      ]
     },
     "metadata": {
      "needs_background": "light"
     },
     "output_type": "display_data"
    }
   ],
   "source": [
    "print(\"Sutton-seq has a total coverage of\", original_bed.total_coverage(), \"bp\")\n",
    "print(\"DNase-seq has a total coverage of\", dnase_bed.total_coverage(), \"bp\")\n",
    "print(\"ChIP-seq H3K27ac prediction has a total coverage of\", h3k27ac_bed.total_coverage(), \"bp\")\n",
    "print(\"ChIP-seq H3K4me3 prediction has a total coverage of\", h3k4me3_bed.total_coverage(), \"bp\")\n",
    "matplotlib.rcParams.update({'font.size': 16})\n",
    "fig = plt.figure(figsize=(7, 5))\n",
    "plt.bar(np.array([0, 0.3, 0.6, 0.9]), \n",
    "        np.array([original_bed.total_coverage(), dnase_bed.total_coverage(), \n",
    "                  h3k27ac_bed.total_coverage(), h3k4me3_bed.total_coverage()]), \n",
    "        width = 0.25,\n",
    "        align='center',\n",
    "        color = [\"#1F78B4\", \"#A6CEE3\", \"#FF7F50\", \"#98FB98\"])\n",
    "plt.xticks(np.array([0, 0.3, 0.6, 0.9]), np.array([\"Sutton\", \"DNase\", \"H3K27ac\", \"H3K4me3\"]))\n",
    "fig.suptitle('Total Coverage', fontsize=20)\n",
    "plt.ylabel('Ten Million Base Pairs', fontsize=16)\n"
   ]
  },
  {
   "cell_type": "code",
   "execution_count": 42,
   "metadata": {},
   "outputs": [
    {
     "name": "stdout",
     "output_type": "stream",
     "text": [
      "a total of 224694 tss snps\n",
      "Sutton-seq contains  52475  tss overlaps\n",
      "DNase-seq contains  22804  tss overlaps\n",
      "ChIP-seq H3K27ac contains  39644  tss overlaps\n",
      "ChIP-seq H3K4me3 contains  88387  tss overlaps\n"
     ]
    },
    {
     "data": {
      "text/plain": [
       "Text(0, 0.5, 'Count')"
      ]
     },
     "execution_count": 42,
     "metadata": {},
     "output_type": "execute_result"
    },
    {
     "data": {
      "image/png": "[encoded data removed]",
      "text/plain": [
       "<Figure size 504x360 with 1 Axes>"
      ]
     },
     "metadata": {
      "needs_background": "light"
     },
     "output_type": "display_data"
    }
   ],
   "source": [
    "#compare tss overlap\n",
    "tss_snps = pybedtools.BedTool(\"/gpfs/ysm/scratch60/gerstein/zc264/ChromVar/enhancer-prediction/encode/dev/refTSS_v3.1_human_coordinate.hg38.bed\")\n",
    "print(\"a total of\", tss_snps.count(), \"tss snps\")\n",
    "print(\"Sutton-seq contains \", original_bed.intersect(tss_snps).count(), \" tss overlaps\")\n",
    "print(\"DNase-seq contains \", dnase_bed.intersect(tss_snps).count(), \" tss overlaps\")\n",
    "print(\"ChIP-seq H3K27ac contains \", h3k27ac_bed.intersect(tss_snps).count(), \" tss overlaps\")\n",
    "print(\"ChIP-seq H3K4me3 contains \", h3k4me3_bed.intersect(tss_snps).count(), \" tss overlaps\")\n",
    "\n",
    "\n",
    "fig = plt.figure(figsize=(7, 5))\n",
    "plt.bar(np.array([0, 0.3, 0.6, 0.9]), \n",
    "        np.array([original_bed.intersect(tss_snps).count(), \n",
    "                  dnase_bed.intersect(tss_snps).count(),\n",
    "                  h3k27ac_bed.intersect(tss_snps).count(),\n",
    "                  h3k4me3_bed.intersect(tss_snps).count()]), \n",
    "        width = 0.25,\n",
    "        color = [\"#1F78B4\", \"#A6CEE3\", \"#FF7F50\", \"#98FB98\"])\n",
    "plt.xticks(np.array([0, 0.3, 0.6, 0.9]), np.array([\"Sutton\", \"DNase\", \"H3K27ac\", \"H3K4me3\"]))\n",
    "fig.suptitle('TSS overlap', fontsize=20)\n",
    "plt.ylabel('Count', fontsize=16)\n"
   ]
  },
  {
   "cell_type": "code",
   "execution_count": 43,
   "metadata": {},
   "outputs": [
    {
     "ename": "RuntimeError",
     "evalue": "Invalid interval bounds!",
     "output_type": "error",
     "traceback": [
      "\u001b[0;31m---------------------------------------------------------------------------\u001b[0m",
      "\u001b[0;31mRuntimeError\u001b[0m                              Traceback (most recent call last)",
      "\u001b[0;32m<ipython-input-43-c0ec66f66470>\u001b[0m in \u001b[0;36m<module>\u001b[0;34m\u001b[0m\n\u001b[1;32m      4\u001b[0m \u001b[0mdnase_phastCons\u001b[0m \u001b[0;34m=\u001b[0m \u001b[0;34m[\u001b[0m\u001b[0mfloat\u001b[0m\u001b[0;34m(\u001b[0m\u001b[0mphastCons\u001b[0m\u001b[0;34m.\u001b[0m\u001b[0mstats\u001b[0m\u001b[0;34m(\u001b[0m\u001b[0mx\u001b[0m\u001b[0;34m.\u001b[0m\u001b[0mchrom\u001b[0m\u001b[0;34m,\u001b[0m \u001b[0mx\u001b[0m\u001b[0;34m.\u001b[0m\u001b[0mstart\u001b[0m\u001b[0;34m,\u001b[0m \u001b[0mx\u001b[0m\u001b[0;34m.\u001b[0m\u001b[0mstop\u001b[0m\u001b[0;34m)\u001b[0m\u001b[0;34m[\u001b[0m\u001b[0;36m0\u001b[0m\u001b[0;34m]\u001b[0m \u001b[0;32mor\u001b[0m \u001b[0;36m0\u001b[0m\u001b[0;34m)\u001b[0m \u001b[0;32mfor\u001b[0m \u001b[0mx\u001b[0m \u001b[0;32min\u001b[0m \u001b[0mdnase_bed\u001b[0m\u001b[0;34m]\u001b[0m\u001b[0;34m\u001b[0m\u001b[0m\n\u001b[1;32m      5\u001b[0m \u001b[0mh3k27ac_phastCons\u001b[0m \u001b[0;34m=\u001b[0m \u001b[0;34m[\u001b[0m\u001b[0mfloat\u001b[0m\u001b[0;34m(\u001b[0m\u001b[0mphastCons\u001b[0m\u001b[0;34m.\u001b[0m\u001b[0mstats\u001b[0m\u001b[0;34m(\u001b[0m\u001b[0mx\u001b[0m\u001b[0;34m.\u001b[0m\u001b[0mchrom\u001b[0m\u001b[0;34m,\u001b[0m \u001b[0mx\u001b[0m\u001b[0;34m.\u001b[0m\u001b[0mstart\u001b[0m\u001b[0;34m,\u001b[0m \u001b[0mx\u001b[0m\u001b[0;34m.\u001b[0m\u001b[0mstop\u001b[0m\u001b[0;34m)\u001b[0m\u001b[0;34m[\u001b[0m\u001b[0;36m0\u001b[0m\u001b[0;34m]\u001b[0m \u001b[0;32mor\u001b[0m \u001b[0;36m0\u001b[0m\u001b[0;34m)\u001b[0m \u001b[0;32mfor\u001b[0m \u001b[0mx\u001b[0m \u001b[0;32min\u001b[0m \u001b[0mh3k27ac_bed\u001b[0m\u001b[0;34m]\u001b[0m\u001b[0;34m\u001b[0m\u001b[0m\n\u001b[0;32m----> 6\u001b[0;31m \u001b[0mh3k4me3_phastCons\u001b[0m \u001b[0;34m=\u001b[0m \u001b[0;34m[\u001b[0m\u001b[0mfloat\u001b[0m\u001b[0;34m(\u001b[0m\u001b[0mphastCons\u001b[0m\u001b[0;34m.\u001b[0m\u001b[0mstats\u001b[0m\u001b[0;34m(\u001b[0m\u001b[0mx\u001b[0m\u001b[0;34m.\u001b[0m\u001b[0mchrom\u001b[0m\u001b[0;34m,\u001b[0m \u001b[0mx\u001b[0m\u001b[0;34m.\u001b[0m\u001b[0mstart\u001b[0m\u001b[0;34m,\u001b[0m \u001b[0mx\u001b[0m\u001b[0;34m.\u001b[0m\u001b[0mstop\u001b[0m\u001b[0;34m)\u001b[0m\u001b[0;34m[\u001b[0m\u001b[0;36m0\u001b[0m\u001b[0;34m]\u001b[0m \u001b[0;32mor\u001b[0m \u001b[0;36m0\u001b[0m\u001b[0;34m)\u001b[0m \u001b[0;32mfor\u001b[0m \u001b[0mx\u001b[0m \u001b[0;32min\u001b[0m \u001b[0mh3k4me3_bed\u001b[0m\u001b[0;34m]\u001b[0m\u001b[0;34m\u001b[0m\u001b[0m\n\u001b[0m\u001b[1;32m      7\u001b[0m \u001b[0;34m\u001b[0m\u001b[0m\n\u001b[1;32m      8\u001b[0m \u001b[0moriginal_phastCons\u001b[0m \u001b[0;34m=\u001b[0m \u001b[0mnp\u001b[0m\u001b[0;34m.\u001b[0m\u001b[0mnan_to_num\u001b[0m\u001b[0;34m(\u001b[0m\u001b[0mnp\u001b[0m\u001b[0;34m.\u001b[0m\u001b[0marray\u001b[0m\u001b[0;34m(\u001b[0m\u001b[0moriginal_phastCons\u001b[0m\u001b[0;34m)\u001b[0m\u001b[0;34m)\u001b[0m\u001b[0;34m\u001b[0m\u001b[0m\n",
      "\u001b[0;32m<ipython-input-43-c0ec66f66470>\u001b[0m in \u001b[0;36m<listcomp>\u001b[0;34m(.0)\u001b[0m\n\u001b[1;32m      4\u001b[0m \u001b[0mdnase_phastCons\u001b[0m \u001b[0;34m=\u001b[0m \u001b[0;34m[\u001b[0m\u001b[0mfloat\u001b[0m\u001b[0;34m(\u001b[0m\u001b[0mphastCons\u001b[0m\u001b[0;34m.\u001b[0m\u001b[0mstats\u001b[0m\u001b[0;34m(\u001b[0m\u001b[0mx\u001b[0m\u001b[0;34m.\u001b[0m\u001b[0mchrom\u001b[0m\u001b[0;34m,\u001b[0m \u001b[0mx\u001b[0m\u001b[0;34m.\u001b[0m\u001b[0mstart\u001b[0m\u001b[0;34m,\u001b[0m \u001b[0mx\u001b[0m\u001b[0;34m.\u001b[0m\u001b[0mstop\u001b[0m\u001b[0;34m)\u001b[0m\u001b[0;34m[\u001b[0m\u001b[0;36m0\u001b[0m\u001b[0;34m]\u001b[0m \u001b[0;32mor\u001b[0m \u001b[0;36m0\u001b[0m\u001b[0;34m)\u001b[0m \u001b[0;32mfor\u001b[0m \u001b[0mx\u001b[0m \u001b[0;32min\u001b[0m \u001b[0mdnase_bed\u001b[0m\u001b[0;34m]\u001b[0m\u001b[0;34m\u001b[0m\u001b[0m\n\u001b[1;32m      5\u001b[0m \u001b[0mh3k27ac_phastCons\u001b[0m \u001b[0;34m=\u001b[0m \u001b[0;34m[\u001b[0m\u001b[0mfloat\u001b[0m\u001b[0;34m(\u001b[0m\u001b[0mphastCons\u001b[0m\u001b[0;34m.\u001b[0m\u001b[0mstats\u001b[0m\u001b[0;34m(\u001b[0m\u001b[0mx\u001b[0m\u001b[0;34m.\u001b[0m\u001b[0mchrom\u001b[0m\u001b[0;34m,\u001b[0m \u001b[0mx\u001b[0m\u001b[0;34m.\u001b[0m\u001b[0mstart\u001b[0m\u001b[0;34m,\u001b[0m \u001b[0mx\u001b[0m\u001b[0;34m.\u001b[0m\u001b[0mstop\u001b[0m\u001b[0;34m)\u001b[0m\u001b[0;34m[\u001b[0m\u001b[0;36m0\u001b[0m\u001b[0;34m]\u001b[0m \u001b[0;32mor\u001b[0m \u001b[0;36m0\u001b[0m\u001b[0;34m)\u001b[0m \u001b[0;32mfor\u001b[0m \u001b[0mx\u001b[0m \u001b[0;32min\u001b[0m \u001b[0mh3k27ac_bed\u001b[0m\u001b[0;34m]\u001b[0m\u001b[0;34m\u001b[0m\u001b[0m\n\u001b[0;32m----> 6\u001b[0;31m \u001b[0mh3k4me3_phastCons\u001b[0m \u001b[0;34m=\u001b[0m \u001b[0;34m[\u001b[0m\u001b[0mfloat\u001b[0m\u001b[0;34m(\u001b[0m\u001b[0mphastCons\u001b[0m\u001b[0;34m.\u001b[0m\u001b[0mstats\u001b[0m\u001b[0;34m(\u001b[0m\u001b[0mx\u001b[0m\u001b[0;34m.\u001b[0m\u001b[0mchrom\u001b[0m\u001b[0;34m,\u001b[0m \u001b[0mx\u001b[0m\u001b[0;34m.\u001b[0m\u001b[0mstart\u001b[0m\u001b[0;34m,\u001b[0m \u001b[0mx\u001b[0m\u001b[0;34m.\u001b[0m\u001b[0mstop\u001b[0m\u001b[0;34m)\u001b[0m\u001b[0;34m[\u001b[0m\u001b[0;36m0\u001b[0m\u001b[0;34m]\u001b[0m \u001b[0;32mor\u001b[0m \u001b[0;36m0\u001b[0m\u001b[0;34m)\u001b[0m \u001b[0;32mfor\u001b[0m \u001b[0mx\u001b[0m \u001b[0;32min\u001b[0m \u001b[0mh3k4me3_bed\u001b[0m\u001b[0;34m]\u001b[0m\u001b[0;34m\u001b[0m\u001b[0m\n\u001b[0m\u001b[1;32m      7\u001b[0m \u001b[0;34m\u001b[0m\u001b[0m\n\u001b[1;32m      8\u001b[0m \u001b[0moriginal_phastCons\u001b[0m \u001b[0;34m=\u001b[0m \u001b[0mnp\u001b[0m\u001b[0;34m.\u001b[0m\u001b[0mnan_to_num\u001b[0m\u001b[0;34m(\u001b[0m\u001b[0mnp\u001b[0m\u001b[0;34m.\u001b[0m\u001b[0marray\u001b[0m\u001b[0;34m(\u001b[0m\u001b[0moriginal_phastCons\u001b[0m\u001b[0;34m)\u001b[0m\u001b[0;34m)\u001b[0m\u001b[0;34m\u001b[0m\u001b[0m\n",
      "\u001b[0;31mRuntimeError\u001b[0m: Invalid interval bounds!"
     ]
    }
   ],
   "source": [
    "phastCons = pyBigWig.open(\"/gpfs/ysm/scratch60/gerstein/zc264/ChromVar/enhancer-prediction/encode/dev/hg38.phastCons100way.bw\")\n",
    "\n",
    "original_phastCons = [float(phastCons.stats(x.chrom, x.start, x.stop)[0] or 0) for x in original_bed]\n",
    "dnase_phastCons = [float(phastCons.stats(x.chrom, x.start, x.stop)[0] or 0) for x in dnase_bed]\n",
    "h3k27ac_phastCons = [float(phastCons.stats(x.chrom, x.start, x.stop)[0] or 0) for x in h3k27ac_bed]\n",
    "h3k4me3_phastCons = [float(phastCons.stats(x.chrom, x.start, x.stop)[0] or 0) for x in h3k4me3_bed]\n",
    "\n",
    "original_phastCons = np.nan_to_num(np.array(original_phastCons))\n",
    "dnase_phastCons = np.nan_to_num(np.array(dnase_phastCons))\n",
    "h3k27ac_phastCons = np.nan_to_num(np.array(h3k27ac_phastCons))\n",
    "h3k4me3_phastCons = np.nan_to_num(np.array(h3k4me3_phastCons))\n",
    "\n",
    "print(\"Sutton-seq phastCons score is\", np.median(original_phastCons))\n",
    "print(\"DNase-seq phastCons score is\", np.median(dnase_phastCons))\n",
    "print(\"ChIP-seq H3K27ac phastCons score is\", np.median(h3k27ac_phastCons))\n",
    "print(\"ChIP-seq H3K4me3 phastCons score is\", np.median(h3k4me3_phastCons))"
   ]
  },
  {
   "cell_type": "code",
   "execution_count": 35,
   "metadata": {},
   "outputs": [
    {
     "name": "stdout",
     "output_type": "stream",
     "text": [
      "3.50e-216\n",
      "3.50e-216\n"
     ]
    },
    {
     "data": {
      "image/png": "[encoded data removed]",
      "text/plain": [
       "<Figure size 288x360 with 1 Axes>"
      ]
     },
     "metadata": {
      "needs_background": "light"
     },
     "output_type": "display_data"
    }
   ],
   "source": [
    "t, p = f_oneway(original_phastCons, dnase_phastCons)\n",
    "print('{:.2e}'.format(p))\n",
    "\n",
    "t, p = ttest_ind(original_phastCons, dnase_phastCons)\n",
    "print('{:.2e}'.format(p))\n",
    "\n",
    "# fig = plt.figure(figsize=(4, 5))\n",
    "# box = plt.boxplot(np.array([np.array(original_phastCons), \n",
    "#                             np.array(refined_pahstCons)]), \n",
    "#                   labels=np.array([\"Original\", \"Refined\"]),\n",
    "#                   boxprops=dict(color=\"#A6CEE3\"),\n",
    "#                   patch_artist=True, notch=True)\n",
    "# fig.suptitle('PhastCons Score (p-value=' + str(p) + \")\", fontsize=20)\n",
    "# plt.ylabel('Signal Distribution', fontsize=16)\n",
    "\n",
    "# colors = [\"#A6CEE3\", \"#1F78B4\"]\n",
    "\n",
    "# plt.show();\n",
    "\n",
    "fig = plt.figure(figsize=(4, 5))\n",
    "c = \"#1F78B4\"\n",
    "box1 = plt.boxplot(np.array(original_phastCons), positions=[1], patch_artist=True,\n",
    "            boxprops=dict(facecolor=c, color=c),\n",
    "            capprops=dict(color=c),\n",
    "            whiskerprops=dict(color=c),\n",
    "            flierprops=dict(color=c, markeredgecolor=c),\n",
    "            medianprops=dict(color=c))\n",
    "plt.setp(box1[\"medians\"], color=\"black\")\n",
    "\n",
    "c2 = \"#A6CEE3\"\n",
    "box1 = plt.boxplot(np.array(dnase_phastCons), \n",
    "                   positions=[2],\n",
    "                   patch_artist=True)\n",
    "for item in ['boxes', 'whiskers', 'fliers', 'medians', 'caps']:\n",
    "        plt.setp(box1[item], color=c2)\n",
    "plt.setp(box1[\"boxes\"], facecolor=c2)\n",
    "plt.setp(box1[\"medians\"], color=\"black\")\n",
    "plt.setp(box1[\"fliers\"], markeredgecolor=c2)\n",
    "\n",
    "c3 = \"#FF7F50\"\n",
    "box1 = plt.boxplot(np.array(h3k27ac_phastCons), \n",
    "                   positions=[3],\n",
    "                   patch_artist=True)\n",
    "for item in ['boxes', 'whiskers', 'fliers', 'medians', 'caps']:\n",
    "        plt.setp(box1[item], color=c3)\n",
    "plt.setp(box1[\"boxes\"], facecolor=c3)\n",
    "plt.setp(box1[\"medians\"], color=\"black\")\n",
    "plt.setp(box1[\"fliers\"], markeredgecolor=c3)\n",
    "\n",
    "\n",
    "plt.xticks([1,2,3], [1,2,3])\n",
    "plt.ylabel('Signal Distribution', fontsize=16)\n",
    "fig.suptitle('PhastCons Score (p-value<0.001)', fontsize=20)\n",
    "plt.xticks([1, 2, 3], ['Sutton', 'DNase', 'H3K27ac'])\n",
    "plt.show();\n",
    "\n",
    "# fig = plt.figure(figsize=(4, 5))\n",
    "# plt.bar(np.array([\"Original\", \"Refined\"]), np.array([np.sum(original_phastCons), np.sum(refined_pahstCons)]))\n",
    "# fig.suptitle('PhastCons Score', fontsize=20)\n",
    "# plt.ylabel('Total Signal', fontsize=16)"
   ]
  },
  {
   "cell_type": "code",
   "execution_count": 8,
   "metadata": {},
   "outputs": [
    {
     "data": {
      "text/plain": [
       "0"
      ]
     },
     "execution_count": 8,
     "metadata": {},
     "output_type": "execute_result"
    }
   ],
   "source": [
    "#hg19 genome lift over\n",
    "liftOver = \"~/liftOver \"\n",
    "hg38_original = args.out_dir + args.cell_name + \".all.prediction_pos_regions.50.merged.bed \"\n",
    "hg38_2_hg19_chain = \"~/hg38ToHg19.over.chain \"\n",
    "hg19_lifted = args.out_dir + args.cell_name + \".all.prediction_pos_regions.50.merged.hg19.lifted.bed \"\n",
    "hg19_unlift = args.out_dir + args.cell_name + \".all.prediction_pos_regions.50.merged.hg19.unlift.bed \"\n",
    "os.system(liftOver + hg38_original + hg38_2_hg19_chain + hg19_lifted + hg19_unlift)\n",
    "\n",
    "liftOver = \"~/liftOver \"\n",
    "hg38_original = args.out_dir + args.cell_name + \".all.prediction_pos_regions.50.filtered.bed \"\n",
    "hg38_2_hg19_chain = \"~/hg38ToHg19.over.chain \"\n",
    "hg19_lifted = args.out_dir + args.cell_name + \".all.prediction_pos_regions.50.filtered.hg19.lifted.bed \"\n",
    "hg19_unlift = args.out_dir + args.cell_name + \".all.prediction_pos_regions.50.filtered.hg19.unlift.bed \"\n",
    "os.system(liftOver + hg38_original + hg38_2_hg19_chain + hg19_lifted + hg19_unlift)"
   ]
  },
  {
   "cell_type": "code",
   "execution_count": 9,
   "metadata": {},
   "outputs": [],
   "source": [
    "#load in original bed from prediction\n",
    "original_bed = pybedtools.BedTool(args.out_dir + args.cell_name + \".all.prediction_pos_regions.50.merged.hg19.lifted.bed\")\n",
    "\n",
    "#load in bed refined by grad cam\n",
    "refined_bed = pybedtools.BedTool(args.out_dir + args.cell_name + \".all.prediction_pos_regions.50.filtered.hg19.lifted.bed\")"
   ]
  },
  {
   "cell_type": "code",
   "execution_count": 10,
   "metadata": {},
   "outputs": [
    {
     "name": "stdout",
     "output_type": "stream",
     "text": [
      "a total of 4608 ASD snps\n",
      "original prediction has 122 overlap with ASD snps\n",
      "refined prediction has 24 overlap with ASD snps\n"
     ]
    }
   ],
   "source": [
    "#ASD summary statistics\n",
    "ASD_snps = pybedtools.BedTool(\"/ysm-gpfs/pi/gerstein/yc774/project/1kg_phase3/GWAS_catalog/linked_snps/Autism_spectrum_disorder\")\n",
    "print(\"a total of\", ASD_snps.count(), \"ASD snps\")\n",
    "print(\"original prediction has\", original_bed.intersect(ASD_snps).count(), \"overlap with ASD snps\")\n",
    "print(\"refined prediction has\", refined_bed.intersect(ASD_snps).count(), \"overlap with ASD snps\")"
   ]
  },
  {
   "cell_type": "code",
   "execution_count": 11,
   "metadata": {},
   "outputs": [
    {
     "name": "stdout",
     "output_type": "stream",
     "text": [
      "a total of 30773 Bipolar Disorder snps\n",
      "original prediction has 898 overlap with Bipolar Disorder snps\n",
      "refined prediction has 113 overlap with Bipolar Disorder snps\n"
     ]
    }
   ],
   "source": [
    "#Bipolar_disorder summary statistics\n",
    "Bipolar_disorder_snps = pybedtools.BedTool(\"/ysm-gpfs/pi/gerstein/yc774/project/1kg_phase3/GWAS_catalog/linked_snps/Bipolar_disorder\")\n",
    "print(\"a total of\", Bipolar_disorder_snps.count(), \"Bipolar Disorder snps\")\n",
    "print(\"original prediction has\", original_bed.intersect(Bipolar_disorder_snps).count(), \"overlap with Bipolar Disorder snps\")\n",
    "print(\"refined prediction has\", refined_bed.intersect(Bipolar_disorder_snps).count(), \"overlap with Bipolar Disorder snps\")"
   ]
  },
  {
   "cell_type": "code",
   "execution_count": 12,
   "metadata": {},
   "outputs": [
    {
     "name": "stdout",
     "output_type": "stream",
     "text": [
      "a total of 128641 Schizophrenia snps\n",
      "original prediction has 3812 overlap with Schizophrenia snps\n",
      "refined prediction has 513 overlap with Schizophrenia snps\n"
     ]
    }
   ],
   "source": [
    "#Schizophrenia summary statistics\n",
    "Schizophrenia_snps = pybedtools.BedTool(\"/ysm-gpfs/pi/gerstein/yc774/project/1kg_phase3/GWAS_catalog/linked_snps/Schizophrenia\")\n",
    "print(\"a total of\", Schizophrenia_snps.count(), \"Schizophrenia snps\")\n",
    "print(\"original prediction has\", original_bed.intersect(Schizophrenia_snps).count(), \"overlap with Schizophrenia snps\")\n",
    "print(\"refined prediction has\", refined_bed.intersect(Schizophrenia_snps).count(), \"overlap with Schizophrenia snps\")"
   ]
  },
  {
   "cell_type": "code",
   "execution_count": null,
   "metadata": {},
   "outputs": [],
   "source": []
  }
 ],
 "metadata": {
  "kernelspec": {
   "display_name": "Python 3",
   "language": "python",
   "name": "python3"
  },
  "language_info": {
   "codemirror_mode": {
    "name": "ipython",
    "version": 3
   },
   "file_extension": ".py",
   "mimetype": "text/x-python",
   "name": "python",
   "nbconvert_exporter": "python",
   "pygments_lexer": "ipython3",
   "version": "3.6.5"
  }
 },
 "nbformat": 4,
 "nbformat_minor": 2
}
