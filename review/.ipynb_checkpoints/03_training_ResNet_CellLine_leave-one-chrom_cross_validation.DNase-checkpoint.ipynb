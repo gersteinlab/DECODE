{
 "cells": [
  {
   "cell_type": "code",
   "execution_count": 1,
   "metadata": {},
   "outputs": [
    {
     "name": "stderr",
     "output_type": "stream",
     "text": [
      "/gpfs/ysm/project/zc264/conda_envs/old_keras_gpu/lib/python3.6/site-packages/tensorflow/python/framework/dtypes.py:523: FutureWarning: Passing (type, 1) or '1type' as a synonym of type is deprecated; in a future version of numpy, it will be understood as (type, (1,)) / '(1,)type'.\n",
      "  _np_qint8 = np.dtype([(\"qint8\", np.int8, 1)])\n",
      "/gpfs/ysm/project/zc264/conda_envs/old_keras_gpu/lib/python3.6/site-packages/tensorflow/python/framework/dtypes.py:524: FutureWarning: Passing (type, 1) or '1type' as a synonym of type is deprecated; in a future version of numpy, it will be understood as (type, (1,)) / '(1,)type'.\n",
      "  _np_quint8 = np.dtype([(\"quint8\", np.uint8, 1)])\n",
      "/gpfs/ysm/project/zc264/conda_envs/old_keras_gpu/lib/python3.6/site-packages/tensorflow/python/framework/dtypes.py:525: FutureWarning: Passing (type, 1) or '1type' as a synonym of type is deprecated; in a future version of numpy, it will be understood as (type, (1,)) / '(1,)type'.\n",
      "  _np_qint16 = np.dtype([(\"qint16\", np.int16, 1)])\n",
      "/gpfs/ysm/project/zc264/conda_envs/old_keras_gpu/lib/python3.6/site-packages/tensorflow/python/framework/dtypes.py:526: FutureWarning: Passing (type, 1) or '1type' as a synonym of type is deprecated; in a future version of numpy, it will be understood as (type, (1,)) / '(1,)type'.\n",
      "  _np_quint16 = np.dtype([(\"quint16\", np.uint16, 1)])\n",
      "/gpfs/ysm/project/zc264/conda_envs/old_keras_gpu/lib/python3.6/site-packages/tensorflow/python/framework/dtypes.py:527: FutureWarning: Passing (type, 1) or '1type' as a synonym of type is deprecated; in a future version of numpy, it will be understood as (type, (1,)) / '(1,)type'.\n",
      "  _np_qint32 = np.dtype([(\"qint32\", np.int32, 1)])\n",
      "/gpfs/ysm/project/zc264/conda_envs/old_keras_gpu/lib/python3.6/site-packages/tensorflow/python/framework/dtypes.py:532: FutureWarning: Passing (type, 1) or '1type' as a synonym of type is deprecated; in a future version of numpy, it will be understood as (type, (1,)) / '(1,)type'.\n",
      "  np_resource = np.dtype([(\"resource\", np.ubyte, 1)])\n",
      "Using TensorFlow backend.\n"
     ]
    }
   ],
   "source": [
    "#-----import packages-----#\n",
    "\n",
    "#common python packages\n",
    "import numpy as np\n",
    "import pandas as pd\n",
    "import string\n",
    "import random\n",
    "import os\n",
    "import pickle\n",
    "import argparse\n",
    "import wget\n",
    "import math\n",
    "import matplotlib.pyplot as plt\n",
    "from datetime import datetime\n",
    "\n",
    "#machine learning packages\n",
    "import sklearn\n",
    "import sklearn.metrics\n",
    "from sklearn.utils import shuffle\n",
    "from matplotlib import pyplot as plt\n",
    "\n",
    "#biological packages\n",
    "import pybedtools\n",
    "import pyBigWig\n",
    "\n",
    "import tensorflow as tf\n",
    "\n",
    "import keras.backend as K\n",
    "from keras.models import Sequential, Model\n",
    "from keras.layers import Input, Dense, Dropout, Conv2D, MaxPooling2D, BatchNormalization, Flatten, GlobalAveragePooling2D, Multiply\n",
    "from keras.callbacks import EarlyStopping, ModelCheckpoint\n",
    "from keras.optimizers import Adam\n",
    "from keras import backend as K\n",
    "from keras.engine.topology import Layer, InputSpec\n",
    "from keras.utils import Sequence, plot_model\n",
    "from keras.constraints import unit_norm\n",
    "from keras import regularizers\n",
    "from keras.callbacks import EarlyStopping, Callback, TensorBoard, ReduceLROnPlateau\n",
    "import keras_metrics as km\n",
    "\n",
    "#notify the OS about GPU\n",
    "os.environ[\"CUDA_DEVICE_ORDER\"]=\"PCI_BUS_ID\"\n",
    "os.environ[\"CUDA_VISIBLE_DEVICES\"] = \"0\"\n",
    "os.environ['KERAS_BACKEND'] = 'tensorflow'"
   ]
  },
  {
   "cell_type": "code",
   "execution_count": 2,
   "metadata": {},
   "outputs": [],
   "source": [
    "def auroc(y_true, y_pred):\n",
    "    auc = tf.metrics.auc(y_true, y_pred, curve=\"ROC\", summation_method='careful_interpolation')[1]\n",
    "    K.get_session().run(tf.local_variables_initializer())\n",
    "    return auc\n",
    "\n",
    "def auprc(y_true, y_pred):\n",
    "    auc = tf.metrics.auc(y_true, y_pred, curve='PR', summation_method='careful_interpolation')[1]\n",
    "    K.get_session().run(tf.local_variables_initializer())\n",
    "    return auc\n",
    "\n",
    "def recall_m(y_true, y_pred):\n",
    "    true_positives = K.sum(K.round(K.clip(y_true * y_pred, 0, 1)))\n",
    "    possible_positives = K.sum(K.round(K.clip(y_true, 0, 1)))\n",
    "    recall = true_positives / (possible_positives + K.epsilon())\n",
    "    return recall\n",
    "\n",
    "def precision_m(y_true, y_pred):\n",
    "    true_positives = K.sum(K.round(K.clip(y_true * y_pred, 0, 1)))\n",
    "    predicted_positives = K.sum(K.round(K.clip(y_pred, 0, 1)))\n",
    "    precision = true_positives / (predicted_positives + K.epsilon())\n",
    "    return precision\n",
    "\n",
    "def f1_m(y_true, y_pred):\n",
    "    precision = precision_m(y_true, y_pred)\n",
    "    recall = recall_m(y_true, y_pred)\n",
    "    return 2*((precision*recall)/(precision+recall+K.epsilon()))\n",
    "\n",
    "def SqueezeExcite(tensor, ratio=16):\n",
    "    nb_channel = K.int_shape(tensor)[-1]\n",
    "\n",
    "    x = GlobalAveragePooling2D()(tensor)\n",
    "    x = Dense(nb_channel // ratio, activation='relu')(x)\n",
    "    x = Dense(nb_channel, activation='sigmoid')(x)\n",
    "\n",
    "    x = Multiply()([tensor, x])\n",
    "    return x\n",
    "\n",
    "\n",
    "def load_model():\n",
    "    K.clear_session()\n",
    "    pool2_list = []\n",
    "    merge_list = []\n",
    "\n",
    "    input_size = Input(shape=(5, 200, 1))\n",
    "    conv1_ = Conv2D(128, (3, 10), padding='same',activation='relu')(input_size)\n",
    "    conv1  = SqueezeExcite(conv1_)\n",
    "    conv2_ = Conv2D(64, (3, 1), padding='same',activation='relu')(conv1)\n",
    "    conv2  = SqueezeExcite(conv2_)\n",
    "    conv3_ = Conv2D(64, (3, 3), padding='same',activation='relu')(conv2)\n",
    "    conv3  = SqueezeExcite(conv3_)\n",
    "    conv4_ = Conv2D(128, (3, 1), padding='same',activation='relu')(conv3)\n",
    "    conv4  = SqueezeExcite(conv4_)\n",
    "    pool1  = MaxPooling2D(pool_size=(2, 2))(conv4)\n",
    "    conv5_ = Conv2D(64, (3, 3), padding='same',activation='relu')(pool1)\n",
    "    conv5  = SqueezeExcite(conv5_)\n",
    "    conv6_ = Conv2D(64, (3, 3), padding='same',activation='relu')(conv5)\n",
    "    conv6  = SqueezeExcite(conv6_)\n",
    "    conv7_ = Conv2D(128, (3, 1), padding='same',activation='relu')(conv6)\n",
    "    conv7  = SqueezeExcite(conv7_)\n",
    "    pool2  = MaxPooling2D(pool_size=(2, 2))(conv7)\n",
    "\n",
    "    x = Flatten()(pool2)\n",
    "    dense1_ = Dense(256, activation='relu')\n",
    "    dense1  = dense1_(x)\n",
    "    x = Dropout(0.4)(dense1)\n",
    "    dense2  = Dense(128, activation='relu')(x)\n",
    "    x = Dropout(0.4)(dense2)\n",
    "    dense3 = Dense(32, activation='relu')(x)\n",
    "    pred_output = Dense(1, activation='sigmoid')(dense3)\n",
    "    model = Model(input=[input_size], output=[pred_output])\n",
    "    model.summary()\n",
    "\n",
    "    return model"
   ]
  },
  {
   "cell_type": "code",
   "execution_count": 3,
   "metadata": {},
   "outputs": [
    {
     "name": "stdout",
     "output_type": "stream",
     "text": [
      "all files found!\n"
     ]
    }
   ],
   "source": [
    "#parsing command line arguments\n",
    "# -----parsing command line arguments-----#\n",
    "parser = argparse.ArgumentParser(description='Training CNN model to predict STARR-seq enhancers based on chromatin accessbility and histone marks')\n",
    "parser.add_argument('-c', '--cell_types', type=str, help='comma separated string of cell_types')\n",
    "parser.add_argument('-i', '--in_dir', type=str, help='directory containing 01_data_encoding intermediate tsv files')\n",
    "\n",
    "#simulate command line input\n",
    "cmdline_str='-c ' + \" HepG2,K562,A549,HCT116,MCF-7 \" + \\\n",
    "    ' -i ' + \"/gpfs/ysm/scratch60/gerstein/zc264/ChromVar/enhancer-prediction/encode/review/encoded/DNase/\"\n",
    "\n",
    "seq_names = [\"DNase\", \"H3K27ac\", \"H3K4me3\", \"H3K9ac\", \"H3K4me1\"]\n",
    "\n",
    "#check if the files are there\n",
    "args = parser.parse_args(cmdline_str.split())\n",
    "args.cell_types = args.cell_types.split(\",\")\n",
    "for cell in args.cell_types:\n",
    "    for seq in seq_names:\n",
    "        pos_file = args.in_dir + cell + \".\" + seq + \".pos.tsv\"\n",
    "        if not os.path.exists(pos_file):\n",
    "            print(pos_file + \" file does not exist\")\n",
    "            exit(1)\n",
    "        neg_file = args.in_dir + cell + \".\" + seq + \".neg.tsv\"\n",
    "        if not os.path.exists(neg_file):\n",
    "            print(neg_file + \" file does not exist\")\n",
    "            exit(1)\n",
    "print(\"all files found!\")"
   ]
  },
  {
   "cell_type": "code",
   "execution_count": 4,
   "metadata": {},
   "outputs": [],
   "source": [
    "def get_data(cell_types, in_dir, seq_names):\n",
    "\n",
    "    first_cell = True\n",
    "    pos_chr_list = []\n",
    "    neg_chr_list = []\n",
    "    for cell in cell_types:\n",
    "        print(cell)\n",
    "\n",
    "        pos = []\n",
    "        neg = []\n",
    "        first_seq = True\n",
    "        for seq in seq_names:\n",
    "            print(\"-\"+seq)\n",
    "\n",
    "            pos_name = in_dir+cell+\".\"+seq+\".pos.tsv\"\n",
    "            pos_mat = np.loadtxt(pos_name, delimiter='\\t')\n",
    "\n",
    "            neg_name = in_dir+cell+\".\"+seq+\".neg.tsv\"\n",
    "            neg_mat = np.loadtxt(neg_name, delimiter='\\t')\n",
    "\n",
    "            if first_seq:\n",
    "                for i in pos_mat:\n",
    "                    pos.append(np.array([i]))\n",
    "                for i in neg_mat:\n",
    "                    neg.append(np.array([i]))\n",
    "                first_seq = False\n",
    "            else:\n",
    "                for i in range(len(pos)):\n",
    "                    pos[i] = np.vstack((pos[i], pos_mat[i,]))\n",
    "                for i in range(len(neg)):\n",
    "                    neg[i] = np.vstack((neg[i], neg_mat[i,]))\n",
    "\n",
    "        if first_cell == True:\n",
    "            X_pos = np.array(pos)\n",
    "            X_neg = np.array(neg)\n",
    "            \n",
    "            first_cell = False\n",
    "        else:\n",
    "            X_pos = np.vstack((X_pos, pos))\n",
    "            X_neg = np.vstack((X_neg, neg))\n",
    "    \n",
    "        pos_region = in_dir+cell+\".positive.bed\"\n",
    "        pos_chr = pd.read_csv(pos_region, sep=\"\\t\", header=None).iloc[:, 0]\n",
    "        pos_chr_list.extend(pos_chr.tolist())\n",
    "        #print(len(pos_chr_list))\n",
    "\n",
    "        neg_region = in_dir+cell+\".negative.bed\"\n",
    "        neg_chr = pd.read_csv(neg_region, sep=\"\\t\", header=None).iloc[:, 0]\n",
    "        neg_chr_list.extend(neg_chr.tolist())\n",
    "        #print(len(neg_chr_list))\n",
    "\n",
    "    X = np.vstack((X_pos, X_neg))\n",
    "    y = np.array([1 for i in range(X_pos.shape[0])] + [0 for i in range(X_neg.shape[0])]).reshape(-1,1)\n",
    "    chrom = pd.Series(pos_chr_list + neg_chr_list)\n",
    "    print(X.shape)\n",
    "    print(y.shape)\n",
    "    print(len(chrom))\n",
    "    \n",
    "    return X, y, chrom"
   ]
  },
  {
   "cell_type": "code",
   "execution_count": 5,
   "metadata": {},
   "outputs": [],
   "source": [
    "#collect the output of the kfolds\n",
    "history_list = []\n",
    "y_pred_list = []\n",
    "y_test_list = []\n",
    "accuracy_list = []\n",
    "auROC_list = []\n",
    "auPRC_list = []\n",
    "\n",
    "kskip = 0"
   ]
  },
  {
   "cell_type": "code",
   "execution_count": 6,
   "metadata": {},
   "outputs": [
    {
     "name": "stdout",
     "output_type": "stream",
     "text": [
      "['chr1', 'chr2', 'chr3', 'chr4', 'chr5', 'chr6', 'chr7', 'chr8', 'chr9', 'chr10', 'chr11', 'chr12', 'chr13', 'chr14', 'chr15', 'chr16', 'chr17', 'chr18', 'chr19', 'chr20', 'chr21', 'chr22', 'chrX']\n"
     ]
    }
   ],
   "source": [
    "chrom_list = [\"chr\" + str(i) for i in range(1, 23)] + [\"chrX\"]\n",
    "print(chrom_list)"
   ]
  },
  {
   "cell_type": "code",
   "execution_count": 8,
   "metadata": {},
   "outputs": [
    {
     "name": "stdout",
     "output_type": "stream",
     "text": [
      "chr1\n",
      "HepG2\n",
      "-DNase\n",
      "-H3K27ac\n",
      "-H3K4me3\n",
      "-H3K9ac\n",
      "-H3K4me1\n",
      "K562\n",
      "-DNase\n",
      "-H3K27ac\n",
      "-H3K4me3\n",
      "-H3K9ac\n",
      "-H3K4me1\n",
      "A549\n",
      "-DNase\n",
      "-H3K27ac\n",
      "-H3K4me3\n",
      "-H3K9ac\n",
      "-H3K4me1\n",
      "HCT116\n",
      "-DNase\n",
      "-H3K27ac\n",
      "-H3K4me3\n",
      "-H3K9ac\n",
      "-H3K4me1\n",
      "MCF-7\n",
      "-DNase\n",
      "-H3K27ac\n",
      "-H3K4me3\n",
      "-H3K9ac\n",
      "-H3K4me1\n",
      "(146542, 5, 200)\n",
      "(146542, 1)\n",
      "146542\n"
     ]
    },
    {
     "name": "stderr",
     "output_type": "stream",
     "text": [
      "/gpfs/ysm/project/zc264/conda_envs/old_keras_gpu/lib/python3.6/site-packages/ipykernel_launcher.py:70: UserWarning: Update your `Model` call to the Keras 2 API: `Model(inputs=[<tf.Tenso..., outputs=[<tf.Tenso...)`\n"
     ]
    },
    {
     "name": "stdout",
     "output_type": "stream",
     "text": [
      "__________________________________________________________________________________________________\n",
      "Layer (type)                    Output Shape         Param #     Connected to                     \n",
      "==================================================================================================\n",
      "input_1 (InputLayer)            (None, 5, 200, 1)    0                                            \n",
      "__________________________________________________________________________________________________\n",
      "conv2d_1 (Conv2D)               (None, 5, 200, 128)  3968        input_1[0][0]                    \n",
      "__________________________________________________________________________________________________\n",
      "global_average_pooling2d_1 (Glo (None, 128)          0           conv2d_1[0][0]                   \n",
      "__________________________________________________________________________________________________\n",
      "dense_1 (Dense)                 (None, 8)            1032        global_average_pooling2d_1[0][0] \n",
      "__________________________________________________________________________________________________\n",
      "dense_2 (Dense)                 (None, 128)          1152        dense_1[0][0]                    \n",
      "__________________________________________________________________________________________________\n",
      "multiply_1 (Multiply)           (None, 5, 200, 128)  0           conv2d_1[0][0]                   \n",
      "                                                                 dense_2[0][0]                    \n",
      "__________________________________________________________________________________________________\n",
      "conv2d_2 (Conv2D)               (None, 5, 200, 64)   24640       multiply_1[0][0]                 \n",
      "__________________________________________________________________________________________________\n",
      "global_average_pooling2d_2 (Glo (None, 64)           0           conv2d_2[0][0]                   \n",
      "__________________________________________________________________________________________________\n",
      "dense_3 (Dense)                 (None, 4)            260         global_average_pooling2d_2[0][0] \n",
      "__________________________________________________________________________________________________\n",
      "dense_4 (Dense)                 (None, 64)           320         dense_3[0][0]                    \n",
      "__________________________________________________________________________________________________\n",
      "multiply_2 (Multiply)           (None, 5, 200, 64)   0           conv2d_2[0][0]                   \n",
      "                                                                 dense_4[0][0]                    \n",
      "__________________________________________________________________________________________________\n",
      "conv2d_3 (Conv2D)               (None, 5, 200, 64)   36928       multiply_2[0][0]                 \n",
      "__________________________________________________________________________________________________\n",
      "global_average_pooling2d_3 (Glo (None, 64)           0           conv2d_3[0][0]                   \n",
      "__________________________________________________________________________________________________\n",
      "dense_5 (Dense)                 (None, 4)            260         global_average_pooling2d_3[0][0] \n",
      "__________________________________________________________________________________________________\n",
      "dense_6 (Dense)                 (None, 64)           320         dense_5[0][0]                    \n",
      "__________________________________________________________________________________________________\n",
      "multiply_3 (Multiply)           (None, 5, 200, 64)   0           conv2d_3[0][0]                   \n",
      "                                                                 dense_6[0][0]                    \n",
      "__________________________________________________________________________________________________\n",
      "conv2d_4 (Conv2D)               (None, 5, 200, 128)  24704       multiply_3[0][0]                 \n",
      "__________________________________________________________________________________________________\n",
      "global_average_pooling2d_4 (Glo (None, 128)          0           conv2d_4[0][0]                   \n",
      "__________________________________________________________________________________________________\n",
      "dense_7 (Dense)                 (None, 8)            1032        global_average_pooling2d_4[0][0] \n",
      "__________________________________________________________________________________________________\n",
      "dense_8 (Dense)                 (None, 128)          1152        dense_7[0][0]                    \n",
      "__________________________________________________________________________________________________\n",
      "multiply_4 (Multiply)           (None, 5, 200, 128)  0           conv2d_4[0][0]                   \n",
      "                                                                 dense_8[0][0]                    \n",
      "__________________________________________________________________________________________________\n",
      "max_pooling2d_1 (MaxPooling2D)  (None, 2, 100, 128)  0           multiply_4[0][0]                 \n",
      "__________________________________________________________________________________________________\n",
      "conv2d_5 (Conv2D)               (None, 2, 100, 64)   73792       max_pooling2d_1[0][0]            \n",
      "__________________________________________________________________________________________________\n",
      "global_average_pooling2d_5 (Glo (None, 64)           0           conv2d_5[0][0]                   \n",
      "__________________________________________________________________________________________________\n",
      "dense_9 (Dense)                 (None, 4)            260         global_average_pooling2d_5[0][0] \n",
      "__________________________________________________________________________________________________\n",
      "dense_10 (Dense)                (None, 64)           320         dense_9[0][0]                    \n",
      "__________________________________________________________________________________________________\n",
      "multiply_5 (Multiply)           (None, 2, 100, 64)   0           conv2d_5[0][0]                   \n",
      "                                                                 dense_10[0][0]                   \n",
      "__________________________________________________________________________________________________\n",
      "conv2d_6 (Conv2D)               (None, 2, 100, 64)   36928       multiply_5[0][0]                 \n",
      "__________________________________________________________________________________________________\n",
      "global_average_pooling2d_6 (Glo (None, 64)           0           conv2d_6[0][0]                   \n",
      "__________________________________________________________________________________________________\n",
      "dense_11 (Dense)                (None, 4)            260         global_average_pooling2d_6[0][0] \n",
      "__________________________________________________________________________________________________\n",
      "dense_12 (Dense)                (None, 64)           320         dense_11[0][0]                   \n",
      "__________________________________________________________________________________________________\n",
      "multiply_6 (Multiply)           (None, 2, 100, 64)   0           conv2d_6[0][0]                   \n",
      "                                                                 dense_12[0][0]                   \n",
      "__________________________________________________________________________________________________\n",
      "conv2d_7 (Conv2D)               (None, 2, 100, 128)  24704       multiply_6[0][0]                 \n",
      "__________________________________________________________________________________________________\n",
      "global_average_pooling2d_7 (Glo (None, 128)          0           conv2d_7[0][0]                   \n",
      "__________________________________________________________________________________________________\n",
      "dense_13 (Dense)                (None, 8)            1032        global_average_pooling2d_7[0][0] \n",
      "__________________________________________________________________________________________________\n",
      "dense_14 (Dense)                (None, 128)          1152        dense_13[0][0]                   \n",
      "__________________________________________________________________________________________________\n",
      "multiply_7 (Multiply)           (None, 2, 100, 128)  0           conv2d_7[0][0]                   \n",
      "                                                                 dense_14[0][0]                   \n",
      "__________________________________________________________________________________________________\n",
      "max_pooling2d_2 (MaxPooling2D)  (None, 1, 50, 128)   0           multiply_7[0][0]                 \n",
      "__________________________________________________________________________________________________\n",
      "flatten_1 (Flatten)             (None, 6400)         0           max_pooling2d_2[0][0]            \n",
      "__________________________________________________________________________________________________\n",
      "dense_15 (Dense)                (None, 256)          1638656     flatten_1[0][0]                  \n",
      "__________________________________________________________________________________________________\n",
      "dropout_1 (Dropout)             (None, 256)          0           dense_15[0][0]                   \n",
      "__________________________________________________________________________________________________\n",
      "dense_16 (Dense)                (None, 128)          32896       dropout_1[0][0]                  \n",
      "__________________________________________________________________________________________________\n",
      "dropout_2 (Dropout)             (None, 128)          0           dense_16[0][0]                   \n",
      "__________________________________________________________________________________________________\n",
      "dense_17 (Dense)                (None, 32)           4128        dropout_2[0][0]                  \n",
      "__________________________________________________________________________________________________\n",
      "dense_18 (Dense)                (None, 1)            33          dense_17[0][0]                   \n",
      "==================================================================================================\n",
      "Total params: 1,910,249\n",
      "Trainable params: 1,910,249\n",
      "Non-trainable params: 0\n",
      "__________________________________________________________________________________________________\n"
     ]
    },
    {
     "name": "stdout",
     "output_type": "stream",
     "text": [
      "Epoch 1/20\n",
      "133424/133424 [==============================] - 96s 719us/step - loss: 0.0783 - acc: 0.9756 - auroc: 0.9852 - auprc: 0.9791 - f1_m: 0.9753 - recall_m: 0.9897 - precision_m: 0.9634\n",
      "Epoch 2/20\n",
      "133424/133424 [==============================] - 93s 697us/step - loss: 0.0454 - acc: 0.9856 - auroc: 0.9949 - auprc: 0.9922 - f1_m: 0.9851 - recall_m: 0.9932 - precision_m: 0.9781\n",
      "Epoch 3/20\n",
      "133424/133424 [==============================] - 93s 698us/step - loss: 0.0390 - acc: 0.9879 - auroc: 0.9961 - auprc: 0.9939 - f1_m: 0.9876 - recall_m: 0.9942 - precision_m: 0.9818\n",
      "Epoch 4/20\n",
      "133424/133424 [==============================] - 94s 705us/step - loss: 0.0359 - acc: 0.9887 - auroc: 0.9967 - auprc: 0.9949 - f1_m: 0.9882 - recall_m: 0.9939 - precision_m: 0.9833\n",
      "Epoch 5/20\n",
      "133424/133424 [==============================] - 93s 699us/step - loss: 0.0340 - acc: 0.9898 - auroc: 0.9970 - auprc: 0.9953 - f1_m: 0.9893 - recall_m: 0.9948 - precision_m: 0.9847\n",
      "Epoch 6/20\n",
      "133424/133424 [==============================] - 93s 700us/step - loss: 0.0316 - acc: 0.9900 - auroc: 0.9973 - auprc: 0.9958 - f1_m: 0.9897 - recall_m: 0.9948 - precision_m: 0.9853\n",
      "Epoch 7/20\n",
      "133424/133424 [==============================] - 94s 703us/step - loss: 0.0303 - acc: 0.9904 - auroc: 0.9975 - auprc: 0.9961 - f1_m: 0.9900 - recall_m: 0.9947 - precision_m: 0.9860\n",
      "Epoch 8/20\n",
      "133424/133424 [==============================] - 93s 701us/step - loss: 0.0293 - acc: 0.9908 - auroc: 0.9977 - auprc: 0.9963 - f1_m: 0.9904 - recall_m: 0.9952 - precision_m: 0.9862\n",
      "Epoch 9/20\n",
      "133424/133424 [==============================] - 93s 698us/step - loss: 0.0283 - acc: 0.9911 - auroc: 0.9978 - auprc: 0.9964 - f1_m: 0.9908 - recall_m: 0.9954 - precision_m: 0.9869\n",
      "Epoch 10/20\n",
      "133424/133424 [==============================] - 93s 695us/step - loss: 0.0269 - acc: 0.9918 - auroc: 0.9979 - auprc: 0.9966 - f1_m: 0.9915 - recall_m: 0.9958 - precision_m: 0.9878\n",
      "Epoch 11/20\n",
      "133424/133424 [==============================] - 85s 640us/step - loss: 0.0265 - acc: 0.9919 - auroc: 0.9980 - auprc: 0.9967 - f1_m: 0.9916 - recall_m: 0.9957 - precision_m: 0.9880\n",
      "Epoch 12/20\n",
      "133424/133424 [==============================] - 84s 631us/step - loss: 0.0255 - acc: 0.9922 - auroc: 0.9980 - auprc: 0.9968 - f1_m: 0.9920 - recall_m: 0.9958 - precision_m: 0.9888\n",
      "Epoch 13/20\n",
      "133424/133424 [==============================] - 84s 630us/step - loss: 0.0246 - acc: 0.9927 - auroc: 0.9981 - auprc: 0.9969 - f1_m: 0.9924 - recall_m: 0.9963 - precision_m: 0.9890\n",
      "Epoch 14/20\n",
      "133424/133424 [==============================] - 86s 644us/step - loss: 0.0236 - acc: 0.9928 - auroc: 0.9982 - auprc: 0.9970 - f1_m: 0.9925 - recall_m: 0.9961 - precision_m: 0.9894\n",
      "Epoch 15/20\n",
      "133424/133424 [==============================] - 94s 703us/step - loss: 0.0230 - acc: 0.9931 - auroc: 0.9982 - auprc: 0.9971 - f1_m: 0.9928 - recall_m: 0.9962 - precision_m: 0.9899\n",
      "Epoch 16/20\n",
      "133424/133424 [==============================] - 96s 716us/step - loss: 0.0223 - acc: 0.9934 - auroc: 0.9983 - auprc: 0.9972 - f1_m: 0.9932 - recall_m: 0.9966 - precision_m: 0.9902\n",
      "Epoch 17/20\n",
      "133424/133424 [==============================] - 94s 705us/step - loss: 0.0211 - acc: 0.9937 - auroc: 0.9983 - auprc: 0.9973 - f1_m: 0.9935 - recall_m: 0.9968 - precision_m: 0.9907\n",
      "Epoch 18/20\n",
      "133424/133424 [==============================] - 95s 712us/step - loss: 0.0205 - acc: 0.9937 - auroc: 0.9984 - auprc: 0.9974 - f1_m: 0.9934 - recall_m: 0.9967 - precision_m: 0.9905\n",
      "Epoch 19/20\n",
      "133424/133424 [==============================] - 96s 717us/step - loss: 0.0198 - acc: 0.9940 - auroc: 0.9984 - auprc: 0.9975 - f1_m: 0.9938 - recall_m: 0.9969 - precision_m: 0.9911\n",
      "Epoch 20/20\n",
      "133424/133424 [==============================] - 95s 716us/step - loss: 0.0194 - acc: 0.9943 - auroc: 0.9985 - auprc: 0.9975 - f1_m: 0.9940 - recall_m: 0.9971 - precision_m: 0.9914\n"
     ]
    },
    {
     "ename": "NameError",
     "evalue": "name 'validation_cell' is not defined",
     "output_type": "error",
     "traceback": [
      "\u001b[0;31m---------------------------------------------------------------------------\u001b[0m",
      "\u001b[0;31mNameError\u001b[0m                                 Traceback (most recent call last)",
      "\u001b[0;32m<ipython-input-8-cb650b69242d>\u001b[0m in \u001b[0;36m<module>\u001b[0;34m\u001b[0m\n\u001b[1;32m     33\u001b[0m     \u001b[0my_test_list\u001b[0m\u001b[0;34m.\u001b[0m\u001b[0mappend\u001b[0m\u001b[0;34m(\u001b[0m\u001b[0my_test\u001b[0m\u001b[0;34m.\u001b[0m\u001b[0mravel\u001b[0m\u001b[0;34m(\u001b[0m\u001b[0;34m)\u001b[0m\u001b[0;34m)\u001b[0m\u001b[0;34m\u001b[0m\u001b[0m\n\u001b[1;32m     34\u001b[0m     \u001b[0mresults\u001b[0m \u001b[0;34m=\u001b[0m \u001b[0mnp\u001b[0m\u001b[0;34m.\u001b[0m\u001b[0mvstack\u001b[0m\u001b[0;34m(\u001b[0m\u001b[0;34m(\u001b[0m\u001b[0my_pred\u001b[0m\u001b[0;34m.\u001b[0m\u001b[0mravel\u001b[0m\u001b[0;34m(\u001b[0m\u001b[0;34m)\u001b[0m\u001b[0;34m,\u001b[0m \u001b[0my_test\u001b[0m\u001b[0;34m.\u001b[0m\u001b[0mravel\u001b[0m\u001b[0;34m(\u001b[0m\u001b[0;34m)\u001b[0m\u001b[0;34m)\u001b[0m\u001b[0;34m)\u001b[0m\u001b[0;34m\u001b[0m\u001b[0m\n\u001b[0;32m---> 35\u001b[0;31m     \u001b[0mnp\u001b[0m\u001b[0;34m.\u001b[0m\u001b[0msavetxt\u001b[0m\u001b[0;34m(\u001b[0m\u001b[0;34m'output/'\u001b[0m \u001b[0;34m+\u001b[0m \u001b[0mvalidation_chrom\u001b[0m \u001b[0;34m+\u001b[0m \u001b[0;34m\".\"\u001b[0m \u001b[0;34m+\u001b[0m \u001b[0mvalidation_cell\u001b[0m \u001b[0;34m+\u001b[0m \u001b[0;34m\".csv\"\u001b[0m\u001b[0;34m,\u001b[0m \u001b[0mresults\u001b[0m\u001b[0;34m,\u001b[0m \u001b[0mdelimiter\u001b[0m\u001b[0;34m=\u001b[0m\u001b[0;34m','\u001b[0m\u001b[0;34m)\u001b[0m\u001b[0;34m\u001b[0m\u001b[0m\n\u001b[0m\u001b[1;32m     36\u001b[0m \u001b[0;34m\u001b[0m\u001b[0m\n\u001b[1;32m     37\u001b[0m     \u001b[0maccuracy_s\u001b[0m \u001b[0;34m=\u001b[0m \u001b[0msklearn\u001b[0m\u001b[0;34m.\u001b[0m\u001b[0mmetrics\u001b[0m\u001b[0;34m.\u001b[0m\u001b[0maccuracy_score\u001b[0m\u001b[0;34m(\u001b[0m\u001b[0my_test\u001b[0m\u001b[0;34m,\u001b[0m \u001b[0mnp\u001b[0m\u001b[0;34m.\u001b[0m\u001b[0mrint\u001b[0m\u001b[0;34m(\u001b[0m\u001b[0my_pred\u001b[0m\u001b[0;34m)\u001b[0m\u001b[0;34m)\u001b[0m\u001b[0;34m\u001b[0m\u001b[0m\n",
      "\u001b[0;31mNameError\u001b[0m: name 'validation_cell' is not defined"
     ]
    }
   ],
   "source": [
    "#iterate to cross validate each chromosome and cell type\n",
    "for validation_chrom in chrom_list:\n",
    "    print(validation_chrom)\n",
    "\n",
    "    X, Y, chrom = get_data(args.cell_types, args.in_dir, seq_names)\n",
    "    x_train = X[validation_chrom != chrom, :, :]\n",
    "    y_train = Y[validation_chrom != chrom, :]\n",
    "\n",
    "    x_test = X[validation_chrom == chrom, :, :]\n",
    "    y_test = Y[validation_chrom == chrom, :]\n",
    "    \n",
    "    x_train, y_train = shuffle(x_train, y_train, random_state=0)\n",
    "    x_train = np.expand_dims(x_train, axis=3)\n",
    "    x_test = np.expand_dims(x_test, axis=3)\n",
    "\n",
    "    # construct the model\n",
    "    model = load_model()\n",
    "\n",
    "    adam = Adam(lr=5e-4, beta_1=0.9, beta_2=0.999, epsilon=1e-08, decay=9e-5)\n",
    "    model.compile(loss='binary_crossentropy', optimizer=adam, \n",
    "        metrics=['accuracy', auroc, auprc, f1_m, recall_m, precision_m])\n",
    "\n",
    "    #train the model\n",
    "    history_list.append(model.fit(x_train, y_train,\n",
    "                batch_size=32,\n",
    "                epochs=20,\n",
    "                validation_split=0.0,\n",
    "                shuffle=True))\n",
    "\n",
    "    # predict the results\n",
    "    y_pred = model.predict(x_test).ravel()\n",
    "    y_pred_list.append(y_pred)\n",
    "    y_test_list.append(y_test.ravel())\n",
    "    results = np.vstack((y_pred.ravel(), y_test.ravel()))\n",
    "\n",
    "    accuracy_s = sklearn.metrics.accuracy_score(y_test, np.rint(y_pred))\n",
    "    accuracy_list.append(accuracy_s)\n",
    "\n",
    "    auroc_s = sklearn.metrics.roc_auc_score(y_test, np.rint(y_pred))\n",
    "    auROC_list.append(auroc_s)\n",
    "\n",
    "    auprc_s = sklearn.metrics.average_precision_score(y_test, np.rint(y_pred))\n",
    "    auPRC_list.append(auprc_s)\n",
    "\n",
    "    #iterate k fold counter\n",
    "    kskip = kskip + 1\n",
    "\n",
    "    #delete the model so the variable is cleared\n",
    "    del model"
   ]
  },
  {
   "cell_type": "code",
   "execution_count": null,
   "metadata": {},
   "outputs": [],
   "source": [
    "np.savetxt(\"leave_one_chrom.auROC.csv\", np.array(auROC_list), delimiter=\",\")\n",
    "np.savetxt(\"leave_one_chrom.auPRC.csv\", np.array(auPRC_list), delimiter=\",\")"
   ]
  },
  {
   "cell_type": "code",
   "execution_count": 17,
   "metadata": {},
   "outputs": [
    {
     "name": "stdout",
     "output_type": "stream",
     "text": [
      "26222 26222 <class 'numpy.ndarray'>\n",
      "18590 18590 <class 'numpy.ndarray'>\n",
      "41002 41002 <class 'numpy.ndarray'>\n",
      "16740 16740 <class 'numpy.ndarray'>\n",
      "43988 43988 <class 'numpy.ndarray'>\n"
     ]
    },
    {
     "data": {
      "text/plain": [
       "<matplotlib.legend.Legend at 0x2b0ad1365240>"
      ]
     },
     "execution_count": 17,
     "metadata": {},
     "output_type": "execute_result"
    },
    {
     "data": {
      "image/png": "[encoded data removed]",
      "text/plain": [
       "<Figure size 432x288 with 1 Axes>"
      ]
     },
     "metadata": {
      "needs_background": "light"
     },
     "output_type": "display_data"
    }
   ],
   "source": [
    "y_test_out = []\n",
    "y_pred_out = []\n",
    "for j in range(len(y_test_list)):\n",
    "    print(len(y_test_list[j]), len(y_pred_list[j]), type(y_test_list[j]))\n",
    "    y_test_out.extend(y_test_list[j])\n",
    "    y_pred_out.extend(y_pred_list[j])\n",
    "\n",
    "# plot accuracy over time\n",
    "plt.figure()\n",
    "history_acc = np.array([np.array(h.history['acc']) for h in history_list])\n",
    "mean_history_acc = np.mean(history_acc, axis=0)\n",
    "\n",
    "plt.plot(mean_history_acc, label='Keras (5cv_acc = {:.3f})'.format(np.mean(np.array(accuracy_list))))\n",
    "plt.title('training accuracy')\n",
    "plt.ylabel('accuracy')\n",
    "plt.xlabel('epoch')\n",
    "plt.legend(['train'], loc='upper left')\n",
    "#plt.savefig(figure_output_name+'.accuracy.png')"
   ]
  },
  {
   "cell_type": "code",
   "execution_count": 18,
   "metadata": {},
   "outputs": [
    {
     "data": {
      "text/plain": [
       "<matplotlib.legend.Legend at 0x2b0ad1dbdeb8>"
      ]
     },
     "execution_count": 18,
     "metadata": {},
     "output_type": "execute_result"
    },
    {
     "data": {
      "image/png": "[encoded data removed]",
      "text/plain": [
       "<Figure size 432x288 with 1 Axes>"
      ]
     },
     "metadata": {
      "needs_background": "light"
     },
     "output_type": "display_data"
    }
   ],
   "source": [
    "# plot loss over time\n",
    "plt.figure()\n",
    "history_loss = np.array([np.array(h.history['loss']) for h in history_list])\n",
    "mean_history_loss = np.mean(history_loss, axis=0)\n",
    "\n",
    "plt.plot(mean_history_loss)\n",
    "plt.title('training loss')\n",
    "plt.ylabel('loss')\n",
    "plt.xlabel('epoch')\n",
    "plt.legend(['train'], loc='upper left')\n",
    "#plt.savefig(figure_output_name+'.loss.png')"
   ]
  },
  {
   "cell_type": "code",
   "execution_count": 19,
   "metadata": {},
   "outputs": [
    {
     "data": {
      "text/plain": [
       "<matplotlib.legend.Legend at 0x2b0ad1e14128>"
      ]
     },
     "execution_count": 19,
     "metadata": {},
     "output_type": "execute_result"
    },
    {
     "data": {
      "image/png": "[encoded data removed]",
      "text/plain": [
       "<Figure size 432x288 with 1 Axes>"
      ]
     },
     "metadata": {
      "needs_background": "light"
     },
     "output_type": "display_data"
    }
   ],
   "source": [
    "# auroc over time\n",
    "plt.figure()\n",
    "history_auroc = np.array([np.array(h.history['auroc']) for h in history_list])\n",
    "mean_history_auroc = np.mean(history_auroc, axis=0)\n",
    "\n",
    "plt.plot(mean_history_auroc)\n",
    "plt.title('training auROC')\n",
    "plt.ylabel('auroc')\n",
    "plt.xlabel('epoch')\n",
    "plt.legend(['train'], loc='upper left')\n",
    "#plt.savefig(figure_output_name+'.auROC.png')"
   ]
  },
  {
   "cell_type": "code",
   "execution_count": 20,
   "metadata": {},
   "outputs": [
    {
     "data": {
      "text/plain": [
       "<matplotlib.legend.Legend at 0x2b0ad1e7fba8>"
      ]
     },
     "execution_count": 20,
     "metadata": {},
     "output_type": "execute_result"
    },
    {
     "data": {
      "image/png": "[encoded data removed]",
      "text/plain": [
       "<Figure size 432x288 with 1 Axes>"
      ]
     },
     "metadata": {
      "needs_background": "light"
     },
     "output_type": "display_data"
    }
   ],
   "source": [
    "# auprc over time\n",
    "plt.figure()\n",
    "history_auprc = np.array([np.array(h.history['auprc']) for h in history_list])\n",
    "mean_history_auprc = np.mean(history_auprc, axis=0)\n",
    "\n",
    "plt.plot(mean_history_auprc)\n",
    "plt.title('training auPRC')\n",
    "plt.ylabel('auprc')\n",
    "plt.xlabel('epoch')\n",
    "plt.legend(['train'], loc='upper left')\n",
    "#plt.savefig(figure_output_name+'.auPRC.png')"
   ]
  },
  {
   "cell_type": "code",
   "execution_count": 21,
   "metadata": {},
   "outputs": [
    {
     "name": "stdout",
     "output_type": "stream",
     "text": [
      "5 101 101\n"
     ]
    },
    {
     "name": "stderr",
     "output_type": "stream",
     "text": [
      "/gpfs/ysm/project/zc264/conda_envs/old_keras_gpu/lib/python3.6/site-packages/ipykernel_launcher.py:30: MatplotlibDeprecationWarning: Adding an axes using the same arguments as a previous axes currently reuses the earlier instance.  In a future version, a new instance will always be created and returned.  Meanwhile, this warning can be suppressed, and the future behavior ensured, by passing a unique label to each axes instance.\n"
     ]
    },
    {
     "data": {
      "image/png": "[encoded data removed]",
      "text/plain": [
       "<Figure size 360x360 with 1 Axes>"
      ]
     },
     "metadata": {
      "needs_background": "light"
     },
     "output_type": "display_data"
    }
   ],
   "source": [
    "# ROC in test set\n",
    "plt.figure(figsize=(5, 5))\n",
    "base_fpr = np.linspace(0, 1, 101)\n",
    "tpr_list = []\n",
    "auroc_list = []\n",
    "for i in range(len(y_test_list)):\n",
    "    fpr, tpr, thresholds = sklearn.metrics.roc_curve(y_test_list[i], y_pred_list[i])\n",
    "    auroc_list.append(sklearn.metrics.roc_auc_score(y_test_list[i], y_pred_list[i]))\n",
    "    plt.plot(fpr, tpr, 'b', alpha=0.15)\n",
    "    tpr = np.interp(base_fpr, fpr, tpr)\n",
    "    tpr[0] = 0.0\n",
    "    tpr_list.append(tpr)\n",
    "\n",
    "\n",
    "print(len(tpr_list), len(tpr_list[0]), len(tpr_list[1]))\n",
    "tpr_list = np.array(tpr_list)\n",
    "mean_tpr = np.mean(np.array(tpr_list), axis=0)\n",
    "tpr_std = tpr_list.std(axis=0)\n",
    "\n",
    "tprs_upper = np.minimum(mean_tpr + 2 * tpr_std, 1)\n",
    "tprs_lower = mean_tpr - 2 * tpr_std\n",
    "\n",
    "plt.plot([0, 1], [0, 1], 'k--')\n",
    "plt.plot(base_fpr, mean_tpr, 'b', label='Keras (area = {:.3f})'.format(np.mean(np.array(auroc_list))))\n",
    "plt.fill_between(base_fpr, tprs_lower, tprs_upper, color='grey', alpha=0.3)\n",
    "plt.xlabel('False positive rate')\n",
    "plt.ylabel('True positive rate')\n",
    "plt.title('ROC curve')\n",
    "plt.legend(loc='best')\n",
    "plt.axes().set_aspect('equal', 'datalim')\n",
    "#plt.savefig(figure_output_name+'.ROC.png')"
   ]
  },
  {
   "cell_type": "code",
   "execution_count": 22,
   "metadata": {},
   "outputs": [
    {
     "name": "stdout",
     "output_type": "stream",
     "text": [
      "5 101 101\n"
     ]
    },
    {
     "name": "stderr",
     "output_type": "stream",
     "text": [
      "/gpfs/ysm/project/zc264/conda_envs/old_keras_gpu/lib/python3.6/site-packages/ipykernel_launcher.py:29: MatplotlibDeprecationWarning: Adding an axes using the same arguments as a previous axes currently reuses the earlier instance.  In a future version, a new instance will always be created and returned.  Meanwhile, this warning can be suppressed, and the future behavior ensured, by passing a unique label to each axes instance.\n"
     ]
    },
    {
     "data": {
      "image/png": "[encoded data removed]",
      "text/plain": [
       "<Figure size 360x360 with 1 Axes>"
      ]
     },
     "metadata": {
      "needs_background": "light"
     },
     "output_type": "display_data"
    }
   ],
   "source": [
    "# PRC in test set\n",
    "plt.figure(figsize=(5, 5))\n",
    "base_recall = np.linspace(0, 1, 101)\n",
    "precision_list = []\n",
    "auprc_list = []\n",
    "for i in range(len(y_test_list)):\n",
    "    recall, precision, thresholds = sklearn.metrics.precision_recall_curve(y_test_list[i], y_pred_list[i])\n",
    "    auprc_list.append(sklearn.metrics.average_precision_score(y_test_list[i], y_pred_list[i]))\n",
    "    plt.plot(recall, precision, 'b', alpha=0.15)\n",
    "    precision = np.interp(base_recall, recall, precision)\n",
    "    precision[0] = 1.0\n",
    "    precision_list.append(precision)\n",
    "\n",
    "print(len(precision_list), len(precision_list[0]), len(precision_list[1]))\n",
    "precision_list = np.array(precision_list)\n",
    "mean_precision = np.mean(np.array(precision_list), axis=0)\n",
    "precision_std = precision_list.std(axis=0)\n",
    "\n",
    "precisions_upper = np.minimum(mean_precision + 2 * precision_std, 1)\n",
    "precisions_lower = mean_precision - 2 * precision_std\n",
    "\n",
    "plt.plot([0, 1], [1, 0], 'k--')\n",
    "plt.plot(base_recall, mean_precision, 'b', label='Keras (area = {:.3f})'.format(np.mean(np.array(auprc_list))))\n",
    "plt.fill_between(base_recall, precisions_lower, precisions_upper, color='grey', alpha=0.3)\n",
    "plt.xlabel('recall')\n",
    "plt.ylabel('precision')\n",
    "plt.title('PRC curve')\n",
    "plt.legend(loc='best')\n",
    "plt.axes().set_aspect('equal', 'datalim')\n",
    "#plt.savefig(figure_output_name+'.PRC.png')"
   ]
  },
  {
   "cell_type": "code",
   "execution_count": 23,
   "metadata": {},
   "outputs": [
    {
     "name": "stdout",
     "output_type": "stream",
     "text": [
      "validation accuracy: 0.9869436301513584\n",
      "validation auROC: 0.9983627314604222\n",
      "validation auPRC: 0.9976826023378745\n"
     ]
    }
   ],
   "source": [
    "print(\"validation accuracy: \" + str(np.mean(np.array(accuracy_list))))\n",
    "print(\"validation auROC: \" + str(np.mean(np.array(auroc_list))))\n",
    "print(\"validation auPRC: \" + str(np.mean(np.array(auprc_list))))"
   ]
  },
  {
   "cell_type": "code",
   "execution_count": 24,
   "metadata": {},
   "outputs": [
    {
     "name": "stdout",
     "output_type": "stream",
     "text": [
      "validated cell type HepG2 accuracy: 0.9848981771031958\n",
      "validated cell type K562 accuracy: 0.986498117267348\n",
      "validated cell type A549 accuracy: 0.9817813765182186\n",
      "validated cell type HCT116 accuracy: 0.991816009557945\n",
      "validated cell type MCF-7 accuracy: 0.9897244703100846\n"
     ]
    }
   ],
   "source": [
    "for i in range(len(args.cell_types)):\n",
    "    print(\"validated cell type \" + args.cell_types[i] + \" accuracy: \" + str(accuracy_list[i]))"
   ]
  },
  {
   "cell_type": "code",
   "execution_count": 25,
   "metadata": {},
   "outputs": [
    {
     "name": "stdout",
     "output_type": "stream",
     "text": [
      "validated cell type HepG2 auROC: 0.9983566680677467\n",
      "validated cell type K562 auROC: 0.9978376975364603\n",
      "validated cell type A549 auROC: 0.9983854507986477\n",
      "validated cell type HCT116 auROC: 0.998891643792403\n",
      "validated cell type MCF-7 auROC: 0.9983421971068536\n"
     ]
    }
   ],
   "source": [
    "for i in range(len(args.cell_types)):\n",
    "    print(\"validated cell type \" + args.cell_types[i] + \" auROC: \" + str(auroc_list[i]))"
   ]
  },
  {
   "cell_type": "code",
   "execution_count": 26,
   "metadata": {},
   "outputs": [
    {
     "name": "stdout",
     "output_type": "stream",
     "text": [
      "validated cell type HepG2 auROC: 0.9975482509196476\n",
      "validated cell type K562 auROC: 0.9971604639407535\n",
      "validated cell type A549 auROC: 0.99784215429691\n",
      "validated cell type HCT116 auROC: 0.99806077317808\n",
      "validated cell type MCF-7 auROC: 0.9978013693539811\n"
     ]
    }
   ],
   "source": [
    "for i in range(len(args.cell_types)):\n",
    "    print(\"validated cell type \" + args.cell_types[i] + \" auROC: \" + str(auprc_list[i]))"
   ]
  },
  {
   "cell_type": "code",
   "execution_count": null,
   "metadata": {},
   "outputs": [],
   "source": []
  }
 ],
 "metadata": {
  "kernelspec": {
   "display_name": "Python 3",
   "language": "python",
   "name": "python3"
  },
  "language_info": {
   "codemirror_mode": {
    "name": "ipython",
    "version": 3
   },
   "file_extension": ".py",
   "mimetype": "text/x-python",
   "name": "python",
   "nbconvert_exporter": "python",
   "pygments_lexer": "ipython3",
   "version": "3.6.5"
  }
 },
 "nbformat": 4,
 "nbformat_minor": 2
}
