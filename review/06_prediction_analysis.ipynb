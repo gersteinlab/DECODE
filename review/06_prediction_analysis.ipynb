{
 "cells": [
  {
   "cell_type": "code",
   "execution_count": 1,
   "metadata": {},
   "outputs": [],
   "source": [
    "#-----import packages-----#\n",
    "\n",
    "#common python packages\n",
    "import numpy as np\n",
    "import string\n",
    "import random\n",
    "import os\n",
    "import pickle\n",
    "import argparse\n",
    "import wget\n",
    "import math\n",
    "import gc\n",
    "import sys\n",
    "import multiprocessing as mp\n",
    "\n",
    "#biological packages\n",
    "import pybedtools\n",
    "from pybedtools import featurefuncs\n",
    "import pyBigWig\n",
    "\n",
    "#machine learning packages\n",
    "import sklearn\n",
    "from sklearn.utils import shuffle\n",
    "from matplotlib import pyplot as plt\n",
    "import pandas as pd\n",
    "from scipy.stats import f_oneway\n",
    "from scipy.stats import ttest_ind\n",
    "\n",
    "%matplotlib inline"
   ]
  },
  {
   "cell_type": "code",
   "execution_count": 2,
   "metadata": {},
   "outputs": [
    {
     "name": "stdout",
     "output_type": "stream",
     "text": [
      "all files found!\n",
      "['chr1', 'chr2', 'chr3', 'chr4', 'chr5', 'chr6', 'chr7', 'chr8', 'chr9', 'chr10', 'chr11', 'chr12', 'chr13', 'chr14', 'chr15', 'chr16', 'chr17', 'chr18', 'chr19', 'chr20', 'chr21', 'chr22', 'chrX']\n",
      "all files found!\n"
     ]
    }
   ],
   "source": [
    "#parsing command line arguments\n",
    "# -----parsing command line arguments-----#\n",
    "parser = argparse.ArgumentParser(description='Training CNN model to predict STARR-seq enhancers based on chromatin accessbility and histone marks')\n",
    "parser.add_argument('-w', '--cell_types', type=str, help='comma separated string of cell_types')\n",
    "parser.add_argument('-x', '--in_dir', type=str, help='input_directory')\n",
    "parser.add_argument('-y', '--cell_name', type=str, help='name of the cell')\n",
    "parser.add_argument('-z', '--out_dir', type=str, help='output_directory')\n",
    "parser.add_argument('-a', '--track1_peaks', type=str, help='chromatin accessibility peak')\n",
    "parser.add_argument('-b', '--track2_peaks', type=str, help='ChIP-seq H3K27ac peak')\n",
    "parser.add_argument('-c', '--track3_peaks', type=str, help='ChIP-seq H3K4me3 peak')\n",
    "parser.add_argument('-d', '--track4_peaks', type=str, help='ChIP-seq H3K9ac peak')\n",
    "parser.add_argument('-e', '--track5_peaks', type=str, help='ChIP-seq H3K4me1 peak')\n",
    "parser.add_argument('-f', '--track1_bw', type=str, help='chromatin accessibility bigWig')\n",
    "parser.add_argument('-g', '--track2_bw', type=str, help='ChIP-seq H3K27ac bigWig')\n",
    "parser.add_argument('-i', '--track3_bw', type=str, help='ChIP-seq H3K4me3 bigWig')\n",
    "parser.add_argument('-j', '--track4_bw', type=str, help='ChIP-seq H3K9ac bigWig')\n",
    "parser.add_argument('-k', '--track5_bw', type=str, help='ChIP-seq H3K4me1 bigWig')\n",
    "\n",
    "cell_type = \"NPC\"\n",
    "\n",
    "#simulate command line input\n",
    "seqdir = \"/gpfs/ysm/scratch60/gerstein/zc264/ChromVar/enhancer-prediction/encode/datasets/\" + cell_type + \"/\"\n",
    "cmdline_str='-w ' + \" HepG2,K562,A549,HCT116,MCF-7 \" + \\\n",
    "    ' -x ' + \"/gpfs/ysm/scratch60/gerstein/zc264/ChromVar/enhancer-prediction/encode/pipeline/encoded/DNase/\" + \\\n",
    "    ' -y ' + \"NPC\" + \\\n",
    "    ' -z ' + \"/gpfs/ysm/scratch60/gerstein/zc264/ChromVar/enhancer-prediction/encode/pipeline/output/\" + \\\n",
    "    ' -a ' + seqdir+cell_type+\".DNase-seq.narrowPeak\" + \\\n",
    "    ' -b ' + seqdir+cell_type+\".ChIP-seq.H3K27ac.narrowPeak\" + \\\n",
    "    ' -c ' + seqdir+cell_type+\".ChIP-seq.H3K4me3.narrowPeak\" + \\\n",
    "    ' -d ' + seqdir+cell_type+\".ChIP-seq.H3K9ac.narrowPeak\" + \\\n",
    "    ' -e ' + seqdir+cell_type+\".ChIP-seq.H3K4me1.narrowPeak\" + \\\n",
    "    ' -f ' + seqdir+cell_type+\".DNase-seq.bigWig\" + \\\n",
    "    ' -g ' + seqdir+cell_type+\".ChIP-seq.H3K27ac.bigWig\" + \\\n",
    "    ' -i ' + seqdir+cell_type+\".ChIP-seq.H3K4me3.bigWig\" + \\\n",
    "    ' -j ' + seqdir+cell_type+\".ChIP-seq.H3K9ac.bigWig\" + \\\n",
    "    ' -k ' + seqdir+cell_type+\".ChIP-seq.H3K4me1.bigWig\"\n",
    "\n",
    "seq_names = [\"DNase\", \"H3K27ac\", \"H3K4me3\", \"H3K9ac\", \"H3K4me1\"]\n",
    "\n",
    "#check if the files are there\n",
    "args = parser.parse_args(cmdline_str.split())\n",
    "args.cell_types = args.cell_types.split(\",\")\n",
    "for cell in args.cell_types:\n",
    "    for seq in seq_names:\n",
    "        pos_file = args.in_dir + cell + \".\" + seq + \".pos.tsv\"\n",
    "        if not os.path.exists(pos_file):\n",
    "            print(pos_file + \" file does not exist\")\n",
    "            exit(1)\n",
    "        neg_file = args.in_dir + cell + \".\" + seq + \".neg.tsv\"\n",
    "        if not os.path.exists(neg_file):\n",
    "            print(neg_file + \" file does not exist\")\n",
    "            exit(1)\n",
    "            \n",
    "for key, value in vars(args).items():\n",
    "    if key == \"cell_types\" or key == \"in_dir\" or key == \"out_dir\" or key == \"cell_name\":\n",
    "        continue\n",
    "    else:\n",
    "        if not os.path.exists(value):\n",
    "            print(key + \" argument file does not exist\")\n",
    "            exit(1)\n",
    "print(\"all files found!\")\n",
    "\n",
    "#construct a set of autosome + X chromosome names\n",
    "chromosomes = []\n",
    "for i in range(1,23):\n",
    "    chromosomes.append(\"chr\"+str(i))\n",
    "chromosomes.append(\"chrX\")\n",
    "print(chromosomes)\n",
    "print(\"all files found!\")"
   ]
  },
  {
   "cell_type": "code",
   "execution_count": 3,
   "metadata": {},
   "outputs": [],
   "source": [
    "#load in original bed from prediction\n",
    "original_bed = pybedtools.BedTool(args.out_dir + args.cell_name + \".all.prediction_pos_regions.50.merged.bed\")\n",
    "\n",
    "#load in bed refined by grad cam\n",
    "refined_bed = pybedtools.BedTool(args.out_dir + args.cell_name + \".all.prediction_pos_regions.50.filtered.bed\")"
   ]
  },
  {
   "cell_type": "code",
   "execution_count": 27,
   "metadata": {},
   "outputs": [
    {
     "name": "stdout",
     "output_type": "stream",
     "text": [
      "original prediction has a total coverage of 269536000 bp\n",
      "refined prediction has a total coverage of 50430630 bp\n"
     ]
    },
    {
     "data": {
      "text/plain": [
       "Text(0, 0.5, 'Base Pairs')"
      ]
     },
     "execution_count": 27,
     "metadata": {},
     "output_type": "execute_result"
    },
    {
     "data": {
      "image/png": "[encoded data removed]",
      "text/plain": [
       "<Figure size 288x360 with 1 Axes>"
      ]
     },
     "metadata": {
      "needs_background": "light"
     },
     "output_type": "display_data"
    }
   ],
   "source": [
    "print(\"original prediction has a total coverage of\", original_bed.total_coverage(), \"bp\")\n",
    "print(\"refined prediction has a total coverage of\", refined_bed.total_coverage(), \"bp\")\n",
    "\n",
    "fig = plt.figure(figsize=(4, 5))\n",
    "plt.bar(np.array([0, 0.3]), np.array([original_bed.total_coverage(), refined_bed.total_coverage()]), width = 0.25)\n",
    "plt.xticks(np.array([0, 0.3]), np.array([\"Original\", \"Refined\"]))\n",
    "fig.suptitle('Total Coverage', fontsize=20)\n",
    "plt.ylabel('Base Pairs', fontsize=16)\n"
   ]
  },
  {
   "cell_type": "code",
   "execution_count": 29,
   "metadata": {},
   "outputs": [
    {
     "name": "stdout",
     "output_type": "stream",
     "text": [
      "a total of 224694 tss snps\n",
      "original prediction has 107255 overlap with tss snps\n",
      "refined prediction has 73539 overlap with tss snps\n"
     ]
    },
    {
     "data": {
      "text/plain": [
       "Text(0, 0.5, 'Count')"
      ]
     },
     "execution_count": 29,
     "metadata": {},
     "output_type": "execute_result"
    },
    {
     "data": {
      "image/png": "[encoded data removed]",
      "text/plain": [
       "<Figure size 288x360 with 1 Axes>"
      ]
     },
     "metadata": {
      "needs_background": "light"
     },
     "output_type": "display_data"
    }
   ],
   "source": [
    "#compare tss overlap\n",
    "tss_snps = pybedtools.BedTool(\"refTSS_v3.1_human_coordinate.hg38.bed\")\n",
    "print(\"a total of\", tss_snps.count(), \"tss snps\")\n",
    "print(\"original prediction has\", original_bed.intersect(tss_snps).count(), \"overlap with tss snps\")\n",
    "print(\"refined prediction has\", refined_bed.intersect(tss_snps).count(), \"overlap with tss snps\")\n",
    "\n",
    "fig = plt.figure(figsize=(4, 5))\n",
    "plt.bar(np.array([0, 0.3]), np.array([original_bed.intersect(tss_snps).count(), refined_bed.intersect(tss_snps).count()]), width = 0.25)\n",
    "plt.xticks(np.array([0, 0.3]), np.array([\"Original\", \"Refined\"]))\n",
    "fig.suptitle('TSS overlap', fontsize=20)\n",
    "plt.ylabel('Count', fontsize=16)\n"
   ]
  },
  {
   "cell_type": "code",
   "execution_count": 30,
   "metadata": {},
   "outputs": [
    {
     "name": "stdout",
     "output_type": "stream",
     "text": [
      "original prediction phastCons score is 11733.452051099941\n",
      "refined prediction phastCons score is 17052.034367083692\n"
     ]
    }
   ],
   "source": [
    "phastCons = pyBigWig.open(\"/gpfs/ysm/scratch60/gerstein/zc264/ChromVar/enhancer-prediction/encode/pipeline/hg38.phastCons100way.bw\")\n",
    "\n",
    "original_phastCons = [float(phastCons.stats(x.chrom, x.start, x.stop)[0] or 0) for x in original_bed]\n",
    "refined_pahstCons = [float(phastCons.stats(x.chrom, x.start, x.stop)[0] or 0) for x in refined_bed]\n",
    "\n",
    "original_phastCons = np.nan_to_num(np.array(original_phastCons))\n",
    "refined_pahstCons = np.nan_to_num(np.array(refined_pahstCons))\n",
    "\n",
    "print(\"original prediction phastCons score is\", np.sum(original_phastCons))\n",
    "print(\"refined prediction phastCons score is\", np.sum(refined_pahstCons))"
   ]
  },
  {
   "cell_type": "code",
   "execution_count": 31,
   "metadata": {},
   "outputs": [
    {
     "name": "stdout",
     "output_type": "stream",
     "text": [
      "0.00e+00\n",
      "0.00e+00\n"
     ]
    },
    {
     "data": {
      "text/plain": [
       "Text(0, 0.5, 'Signal Distribution')"
      ]
     },
     "execution_count": 31,
     "metadata": {},
     "output_type": "execute_result"
    },
    {
     "data": {
      "image/png": "[encoded data removed]",
      "text/plain": [
       "<Figure size 288x360 with 1 Axes>"
      ]
     },
     "metadata": {
      "needs_background": "light"
     },
     "output_type": "display_data"
    }
   ],
   "source": [
    "t, p = f_oneway(original_phastCons, refined_pahstCons)\n",
    "print('{:.2e}'.format(p))\n",
    "\n",
    "t, p = ttest_ind(original_phastCons, refined_pahstCons)\n",
    "print('{:.2e}'.format(p))\n",
    "\n",
    "fig = plt.figure(figsize=(4, 5))\n",
    "plt.boxplot(np.array([np.array(original_phastCons), np.array(refined_pahstCons)]), labels=np.array([\"Original\", \"Refined\"]))\n",
    "fig.suptitle('PhastCons Score (p-value=' + str(p) + \")\", fontsize=20)\n",
    "plt.ylabel('Signal Distribution', fontsize=16)\n",
    "\n",
    "# fig = plt.figure(figsize=(4, 5))\n",
    "# plt.bar(np.array([\"Original\", \"Refined\"]), np.array([np.sum(original_phastCons), np.sum(refined_pahstCons)]))\n",
    "# fig.suptitle('PhastCons Score', fontsize=20)\n",
    "# plt.ylabel('Total Signal', fontsize=16)"
   ]
  },
  {
   "cell_type": "code",
   "execution_count": 8,
   "metadata": {},
   "outputs": [
    {
     "data": {
      "text/plain": [
       "0"
      ]
     },
     "execution_count": 8,
     "metadata": {},
     "output_type": "execute_result"
    }
   ],
   "source": [
    "#hg19 genome lift over\n",
    "liftOver = \"~/liftOver \"\n",
    "hg38_original = args.out_dir + args.cell_name + \".all.prediction_pos_regions.50.merged.bed \"\n",
    "hg38_2_hg19_chain = \"~/hg38ToHg19.over.chain \"\n",
    "hg19_lifted = args.out_dir + args.cell_name + \".all.prediction_pos_regions.50.merged.hg19.lifted.bed \"\n",
    "hg19_unlift = args.out_dir + args.cell_name + \".all.prediction_pos_regions.50.merged.hg19.unlift.bed \"\n",
    "os.system(liftOver + hg38_original + hg38_2_hg19_chain + hg19_lifted + hg19_unlift)\n",
    "\n",
    "liftOver = \"~/liftOver \"\n",
    "hg38_original = args.out_dir + args.cell_name + \".all.prediction_pos_regions.50.filtered.bed \"\n",
    "hg38_2_hg19_chain = \"~/hg38ToHg19.over.chain \"\n",
    "hg19_lifted = args.out_dir + args.cell_name + \".all.prediction_pos_regions.50.filtered.hg19.lifted.bed \"\n",
    "hg19_unlift = args.out_dir + args.cell_name + \".all.prediction_pos_regions.50.filtered.hg19.unlift.bed \"\n",
    "os.system(liftOver + hg38_original + hg38_2_hg19_chain + hg19_lifted + hg19_unlift)"
   ]
  },
  {
   "cell_type": "code",
   "execution_count": 9,
   "metadata": {},
   "outputs": [],
   "source": [
    "#load in original bed from prediction\n",
    "original_bed = pybedtools.BedTool(args.out_dir + args.cell_name + \".all.prediction_pos_regions.50.merged.hg19.lifted.bed\")\n",
    "\n",
    "#load in bed refined by grad cam\n",
    "refined_bed = pybedtools.BedTool(args.out_dir + args.cell_name + \".all.prediction_pos_regions.50.filtered.hg19.lifted.bed\")"
   ]
  },
  {
   "cell_type": "code",
   "execution_count": 10,
   "metadata": {},
   "outputs": [
    {
     "name": "stdout",
     "output_type": "stream",
     "text": [
      "a total of 4608 ASD snps\n",
      "original prediction has 411 overlap with ASD snps\n",
      "refined prediction has 93 overlap with ASD snps\n"
     ]
    }
   ],
   "source": [
    "#ASD summary statistics\n",
    "ASD_snps = pybedtools.BedTool(\"/ysm-gpfs/pi/gerstein/yc774/project/1kg_phase3/GWAS_catalog/linked_snps/Autism_spectrum_disorder\")\n",
    "print(\"a total of\", ASD_snps.count(), \"ASD snps\")\n",
    "print(\"original prediction has\", original_bed.intersect(ASD_snps).count(), \"overlap with ASD snps\")\n",
    "print(\"refined prediction has\", refined_bed.intersect(ASD_snps).count(), \"overlap with ASD snps\")"
   ]
  },
  {
   "cell_type": "code",
   "execution_count": 11,
   "metadata": {},
   "outputs": [
    {
     "name": "stdout",
     "output_type": "stream",
     "text": [
      "a total of 30773 Bipolar Disorder snps\n",
      "original prediction has 3458 overlap with Bipolar Disorder snps\n",
      "refined prediction has 700 overlap with Bipolar Disorder snps\n"
     ]
    }
   ],
   "source": [
    "#Bipolar_disorder summary statistics\n",
    "Bipolar_disorder_snps = pybedtools.BedTool(\"/ysm-gpfs/pi/gerstein/yc774/project/1kg_phase3/GWAS_catalog/linked_snps/Bipolar_disorder\")\n",
    "print(\"a total of\", Bipolar_disorder_snps.count(), \"Bipolar Disorder snps\")\n",
    "print(\"original prediction has\", original_bed.intersect(Bipolar_disorder_snps).count(), \"overlap with Bipolar Disorder snps\")\n",
    "print(\"refined prediction has\", refined_bed.intersect(Bipolar_disorder_snps).count(), \"overlap with Bipolar Disorder snps\")"
   ]
  },
  {
   "cell_type": "code",
   "execution_count": 12,
   "metadata": {},
   "outputs": [
    {
     "name": "stdout",
     "output_type": "stream",
     "text": [
      "a total of 128641 Schizophrenia snps\n",
      "original prediction has 14433 overlap with Schizophrenia snps\n",
      "refined prediction has 3110 overlap with Schizophrenia snps\n"
     ]
    }
   ],
   "source": [
    "#Schizophrenia summary statistics\n",
    "Schizophrenia_snps = pybedtools.BedTool(\"/ysm-gpfs/pi/gerstein/yc774/project/1kg_phase3/GWAS_catalog/linked_snps/Schizophrenia\")\n",
    "print(\"a total of\", Schizophrenia_snps.count(), \"Schizophrenia snps\")\n",
    "print(\"original prediction has\", original_bed.intersect(Schizophrenia_snps).count(), \"overlap with Schizophrenia snps\")\n",
    "print(\"refined prediction has\", refined_bed.intersect(Schizophrenia_snps).count(), \"overlap with Schizophrenia snps\")"
   ]
  },
  {
   "cell_type": "code",
   "execution_count": null,
   "metadata": {},
   "outputs": [],
   "source": []
  }
 ],
 "metadata": {
  "kernelspec": {
   "display_name": "Python 3",
   "language": "python",
   "name": "python3"
  },
  "language_info": {
   "codemirror_mode": {
    "name": "ipython",
    "version": 3
   },
   "file_extension": ".py",
   "mimetype": "text/x-python",
   "name": "python",
   "nbconvert_exporter": "python",
   "pygments_lexer": "ipython3",
   "version": "3.6.5"
  }
 },
 "nbformat": 4,
 "nbformat_minor": 2
}
